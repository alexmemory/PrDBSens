{
 "metadata": {
  "name": "",
  "signature": "sha256:375510f89fbebf53d7d429d02f108a9ccdb8385af40fbaa1296d952bb04342d9"
 },
 "nbformat": 3,
 "nbformat_minor": 0,
 "worksheets": [
  {
   "cells": [
    {
     "cell_type": "heading",
     "level": 1,
     "metadata": {},
     "source": [
      "Setup"
     ]
    },
    {
     "cell_type": "code",
     "collapsed": false,
     "input": [
      "%matplotlib inline"
     ],
     "language": "python",
     "metadata": {},
     "outputs": [],
     "prompt_number": 1
    },
    {
     "cell_type": "code",
     "collapsed": false,
     "input": [
      "import scipy.stats as stats\n",
      "import matplotlib.pyplot as plt\n",
      "import numpy as np\n",
      "import numpy.random as rnd\n",
      "import pandas as pd"
     ],
     "language": "python",
     "metadata": {},
     "outputs": [],
     "prompt_number": 2
    },
    {
     "cell_type": "code",
     "collapsed": false,
     "input": [
      "# np.float_ = np.longdouble\n",
      "# print np.array([1.1]).dtype\n",
      "# print np.longdouble"
     ],
     "language": "python",
     "metadata": {},
     "outputs": [],
     "prompt_number": 33
    },
    {
     "cell_type": "heading",
     "level": 1,
     "metadata": {},
     "source": [
      "Functions"
     ]
    },
    {
     "cell_type": "code",
     "collapsed": false,
     "input": [
      "# Normal Distribution PDF Callback\n",
      "class normalDistributionPDF:\n",
      "    def __init__(self, mu, sigma):\n",
      "        self.mu, self.sigma = mu, sigma\n",
      "    def __call__(self, x):\n",
      "        return stats.norm.pdf(x, loc=self.mu, scale=self.sigma)\n",
      "    \n",
      "# Normal Distribution CDF Callback\n",
      "class normalDistributionCDF:\n",
      "    def __init__(self, mu, sigma):\n",
      "        self.mu, self.sigma = mu, sigma\n",
      "    def __call__(self, x):\n",
      "        return stats.norm.cdf(x, loc=self.mu, scale=self.sigma)\n",
      "    \n",
      "# Normal Distribution PPF Callback\n",
      "class normalDistributionPPF:\n",
      "    def __init__(self, mu, sigma):\n",
      "        self.mu, self.sigma = mu, sigma\n",
      "    def __call__(self, x):\n",
      "        return stats.norm.ppf(x, loc=self.mu, scale=self.sigma)\n",
      "   \n",
      "# Uniform Distribution PPF Callback    \n",
      "class uniformDistribitionPPF:\n",
      "    def __init__(self, lb, ub):\n",
      "        self.lb, self.ub = lb, ub\n",
      "    def __call__(self, x):\n",
      "        return (self.ub-self.lb)*x+self.lb;\n",
      "\n",
      "# Truncated Distribution PDF Callback\n",
      "# Requires a PDF and CDF callback\n",
      "class truncatedDistributionPDF:\n",
      "    def __init__(self, pdf, cdf, lb, ub):\n",
      "        self.pdf, self.cdf, self.lb, self.ub = pdf, cdf, lb, ub\n",
      "    def __call__(self, x):\n",
      "        nrm=self.cdf(self.ub)-self.cdf(self.lb)\n",
      "        y=self.pdf(x)/nrm\n",
      "        return y\n",
      "    \n",
      "# Truncated Distribution PPF Callback\n",
      "# Requires a PPF and CDF callback\n",
      "class truncatedDistributionPPF:\n",
      "    def __init__(self, ppf, cdf, lb, ub):\n",
      "        self.ppf, self.cdf, self.lb, self.ub = ppf, cdf, lb, ub\n",
      "    def __call__(self, x):\n",
      "        nrm=self.cdf(self.ub)-self.cdf(self.lb)\n",
      "        yr=x*(nrm)+self.cdf(self.lb)\n",
      "        xr=self.ppf(yr)\n",
      "        return xr\n",
      "    \n",
      "# Transformed Distribution PPF Callback\n",
      "# Requires a PPF Callback and a lambda function\n",
      "# that takes the random variable and alters it\n",
      "class transformedDistributionPPF:\n",
      "    def __init__(self, ppf, fn):\n",
      "        self.ppf, self.fn = ppf, fn\n",
      "    def __call__(self, x):\n",
      "        x = self.fn(self.ppf(x))\n",
      "        return x\n",
      "    \n",
      "# Combined Distribution PPF Callback\n",
      "# Requires 2 PPF Callbacks\n",
      "# Optionally you can pass a lambda that takes\n",
      "# 2 random variables and returns a new one\n",
      "# By Defualt it adds the distributions\n",
      "class combinedDistributionPPF:\n",
      "    def __init__(self, ppf1, ppf2, fn=None):\n",
      "        self.ppf1, self.ppf2, self.fn = ppf1, ppf2, fn\n",
      "    def __call__(self, xi):\n",
      "        x1 = self.ppf1(xi)\n",
      "        x2 = self.ppf2(xi)\n",
      "        if self.fn == None:\n",
      "            x = x1+x2\n",
      "        else:\n",
      "            x=self.fn(x1,x2)\n",
      "        return x"
     ],
     "language": "python",
     "metadata": {},
     "outputs": [],
     "prompt_number": 3
    },
    {
     "cell_type": "code",
     "collapsed": false,
     "input": [
      "# Takes N samples from the distribution  \n",
      "def sampleFromDistribution(ppf,N):\n",
      "    return ppf(rnd.rand(N))\n",
      "\n",
      "def compareDistributions(ppf1,ppf2,fn,N):\n",
      "    s1 = sampleFromDistribution(ppf1,N)\n",
      "    s2 = sampleFromDistribution(ppf2,N)\n",
      "    return fn(s1,s2)\n",
      "\n",
      "def L1Error(dist1,dist2,N):\n",
      "    fn = (lambda x,y: np.sum(np.absolute(x-y)))\n",
      "    return compareDistributions(dist1,dist2,fn,N)\n",
      "\n",
      "def L2Error(dist1,dist2,N):\n",
      "    fn = (lambda x,y: np.sqrt(np.sum((x-y)**2)))\n",
      "    return compareDistributions(dist1,dist2,fn,N)\n",
      "\n",
      "def CosineError(dist1,dist2,N):\n",
      "    fn = (lambda x,y: np.sum(x*y)/((np.sqrt(np.sum(x**2)))*(np.sqrt(np.sum(y**2)))))\n",
      "    return compareDistributions(dist1,dist2,fn,N)\n",
      "    \n",
      "def AverageSample(samples1,samples2):\n",
      "    return (1.0/2.0)*np.sum(samples1+samples2)\n",
      "    \n",
      "def Entropy(samples):\n",
      "    return -np.nansum(samples*np.log2(np.absolute(samples)))\n",
      "    \n",
      "def KLDivergence(samples1,samples2):\n",
      "    return np.nansum(samples1*np.log2(np.absolute(np.divide(samples1,samples2))))\n",
      "    \n",
      "def Perplexity(samples1,samples2):\n",
      "    return (Entropy(samples1)+KLDivergence(samples1,samples2))**2\n",
      "\n",
      "def JensenShannonDivergence(dist1,dist2,N):\n",
      "    s1 = sampleFromDistribution(dist1,N)\n",
      "    s2 = sampleFromDistribution(dist2,N)\n",
      "    avg = AverageSample(s1,s2)\n",
      "    return (1.0/2.0)*(KLDivergence(s1,avg)+KLDivergence(s2,avg))\n",
      "    \n",
      "def AveragePerplexity(dist1,dist2,N):\n",
      "    s1 = sampleFromDistribution(dist1,N)\n",
      "    s2 = sampleFromDistribution(dist2,N)\n",
      "    return (Perplexity(s1,s2)+Perplexity(s2,s1))/2\n",
      "\n",
      "def AverageKLDivergence(dist1,dist2,N):\n",
      "    s1 = sampleFromDistribution(dist1,N)\n",
      "    s2 = sampleFromDistribution(dist2,N)\n",
      "    return (KLDivergence(s1,s2)+KLDivergence(s2,s1))/2\n",
      "    \n",
      "def quickMetrics(dist1,dist2,N):\n",
      "    print \"L1 Error: \", L1Error(dist1,dist2,N)\n",
      "    print \"L2 Error: \", L2Error(dist1,dist2,N)\n",
      "    print \"Cosine Error: \", CosineError(dist1,dist2,N)\n",
      "    print \"Average Perplexity: \", AveragePerplexity(dist1,dist2,N)\n",
      "    print \"Average KL Divergnece: \", AverageKLDivergence(dist1,dist2,N)\n",
      "    print \"Jensen-Shannon Divergence: \", JensenShannonDivergence(dist1,dist2,N)\n",
      "\n",
      "# Quickly makes a histrogram plot of the distribution\n",
      "def quickPlot(ppf,N=10000,bins=50,wid=6,hgt=4):\n",
      "    x = sampleFromDistribution(ppf,N)\n",
      "    print x\n",
      "    plt.figure(figsize=(wid,hgt))\n",
      "    plt.hist(x,normed=True, bins=bins)\n",
      "    plt.show()\n",
      "    \n",
      "# Defines a Truncated Normal distribution PDF\n",
      "def truncatedNormPDF(mu,sigma,lb,ub):\n",
      "    normpdf = normalDistributionPDF(mu,sigma)\n",
      "    normcdf = normalDistributionCDF(mu,sigma)\n",
      "    return truncatedDistributionPDF(normpdf,normcdf,lb,ub)\n",
      "\n",
      "# Defines a Truncated Normal distribution\n",
      "def truncatedNormPPF(mu,sigma,lb,ub):\n",
      "    normppf = normalDistributionPPF(mu,sigma)\n",
      "    normcdf = normalDistributionCDF(mu,sigma)\n",
      "    return truncatedDistributionPPF(normppf,normcdf,lb,ub)\n",
      "\n",
      "# Defines a Transformed Truncated Normal distribution\n",
      "def transformedTruncatedNormPPF(mu,sigma,lb,ub,fn):\n",
      "    normppf = normalDistributionPPF(mu,sigma)\n",
      "    normcdf = normalDistributionCDF(mu,sigma)\n",
      "    truncatedppf = truncatedDistributionPPF(normppf,normcdf,lb,ub)\n",
      "    return transformedDistributionPPF(truncatedppf,fn)\n",
      "\n",
      "# This defines a distribution if you take a table where each entry has\n",
      "# a row probability sampled from a Truncated Normal Distribution then\n",
      "# add gaussian noise to this distribution then min-max the result\n",
      "# such that the new result is mapped back to the [0,1] range\n",
      "# Now select all of the rows of this table and this would be \n",
      "# the distribution of the row probabilities\n",
      "# mu1, sigma1, lb, ub all apply to the original\n",
      "# mu2, sigma2 apply to the noise\n",
      "def selectDistributionGaussianPPF(mu1,sigma1,lb,ub,mu2,sigma2):\n",
      "    normppf1 = normalDistributionPPF(mu1,sigma1)\n",
      "    normcdf1 = normalDistributionCDF(mu1,sigma1)\n",
      "    normppf2 = normalDistributionPPF(mu2,sigma2)\n",
      "    truncatedppf = truncatedDistributionPPF(normppf1,normcdf1,lb,ub)\n",
      "    combinedppf = combinedDistributionPPF(truncatedppf,normppf2)\n",
      "    transformation = lambda x: np.maximum(np.minimum(x,np.ones(x.size)),np.zeros(x.size))\n",
      "    return transformedDistributionPPF(combinedppf,transformation)\n",
      "\n",
      "# This defines a distribution if you take a table where each entry has\n",
      "# a row probability sampled from a Truncated Normal Distribution then\n",
      "# add uniform noise to this distribution then min-max the result\n",
      "# such that the new result is mapped back to the [0,1] range\n",
      "# Now select all of the rows of this table and this would be \n",
      "# the distribution of the row probabilities\n",
      "# mu1, sigma1, lb1, ub1 all apply to the original\n",
      "# lb2, ub2 apply to the uniform noise\n",
      "def selectDistributionUniformPPF(mu1,sigma1,lb1,ub1,lb2,ub2):\n",
      "    normppf1 = normalDistributionPPF(mu1,sigma1)\n",
      "    normcdf1 = normalDistributionCDF(mu1,sigma1)\n",
      "    normppf2 = uniformDistribitionPPF(lb2,ub2)\n",
      "    truncatedppf = truncatedDistributionPPF(normppf1,normcdf1,lb1,ub1)\n",
      "    combinedppf = combinedDistributionPPF(truncatedppf,normppf2)\n",
      "    transformation = lambda x: np.maximum(np.minimum(x,np.ones(x.size)),np.zeros(x.size))\n",
      "    return transformedDistributionPPF(combinedppf,transformation)\n",
      "\n",
      "def truncatedNormPDFCurve(mu,sigma,lb,ub,Nsamples):\n",
      "    xrng=np.arange(lb,ub,(ub-lb)/float(Nsamples))\n",
      "    dist = truncatedNormPDF(mu,sigma,lb,ub)\n",
      "    yrng = dist(xrng)\n",
      "    return (xrng,yrng)"
     ],
     "language": "python",
     "metadata": {},
     "outputs": [],
     "prompt_number": 4
    },
    {
     "cell_type": "heading",
     "level": 1,
     "metadata": {},
     "source": [
      "Examples"
     ]
    },
    {
     "cell_type": "heading",
     "level": 2,
     "metadata": {},
     "source": [
      "Distributions"
     ]
    },
    {
     "cell_type": "code",
     "collapsed": false,
     "input": [
      "N= 1000000"
     ],
     "language": "python",
     "metadata": {},
     "outputs": [],
     "prompt_number": 5
    },
    {
     "cell_type": "code",
     "collapsed": false,
     "input": [
      "wid,hgt=5,2"
     ],
     "language": "python",
     "metadata": {},
     "outputs": [],
     "prompt_number": 24
    },
    {
     "cell_type": "code",
     "collapsed": true,
     "input": [
      "distOrg = truncatedNormPPF(1/float(3),1/float(3),0,1)\n",
      "quickPlot(distOrg,N,bins=50,wid=wid,hgt=hgt)"
     ],
     "language": "python",
     "metadata": {},
     "outputs": [
      {
       "output_type": "stream",
       "stream": "stdout",
       "text": [
        "[ 0.20934491  0.24240506  0.24744066 ...,  0.53369464  0.2469519\n",
        "  0.21638532]\n"
       ]
      },
      {
       "metadata": {},
       "output_type": "display_data",
       "png": "[encoded data removed]",
       "text": [
        "<matplotlib.figure.Figure at 0x7f671f91a050>"
       ]
      }
     ],
     "prompt_number": 25
    },
    {
     "cell_type": "code",
     "collapsed": false,
     "input": [
      "dist1 = selectDistributionGaussianPPF(1/float(3),1/float(3),0,1,0,1/float(256))\n",
      "quickPlot(dist1,N,bins=50,wid=wid,hgt=hgt)"
     ],
     "language": "python",
     "metadata": {},
     "outputs": [
      {
       "output_type": "stream",
       "stream": "stdout",
       "text": [
        "[ 0.37367772  0.72948126  0.20675914 ...,  0.49673458  0.41435427\n",
        "  0.22388909]\n"
       ]
      },
      {
       "metadata": {},
       "output_type": "display_data",
       "png": "[encoded data removed]",
       "text": [
        "<matplotlib.figure.Figure at 0x7f671fa72890>"
       ]
      }
     ],
     "prompt_number": 26
    },
    {
     "cell_type": "code",
     "collapsed": false,
     "input": [
      "dist2 = selectDistributionUniformPPF(1/float(3),1/float(3),0,1,-0.01,0.01)\n",
      "quickPlot(dist2,N,bins=50,wid=wid,hgt=hgt)"
     ],
     "language": "python",
     "metadata": {},
     "outputs": [
      {
       "output_type": "stream",
       "stream": "stdout",
       "text": [
        "[ 0.21056796  0.67890548  0.88952136 ...,  0.2121449   0.86971583\n",
        "  0.45832205]\n"
       ]
      },
      {
       "metadata": {},
       "output_type": "display_data",
       "png": "[encoded data removed]",
       "text": [
        "<matplotlib.figure.Figure at 0x7f671faa65d0>"
       ]
      }
     ],
     "prompt_number": 27
    },
    {
     "cell_type": "code",
     "collapsed": false,
     "input": [
      "dist3 = transformedTruncatedNormPPF(1/float(3),1/float(3),0,1,lambda x: x**2)\n",
      "quickPlot(dist3,N,bins=50,wid=wid,hgt=hgt)"
     ],
     "language": "python",
     "metadata": {},
     "outputs": [
      {
       "output_type": "stream",
       "stream": "stdout",
       "text": [
        "[ 0.24150207  0.67797182  0.00455868 ...,  0.00248684  0.05052415\n",
        "  0.10757513]\n"
       ]
      },
      {
       "metadata": {},
       "output_type": "display_data",
       "png": "[encoded data removed]",
       "text": [
        "<matplotlib.figure.Figure at 0x7f671f91ccd0>"
       ]
      }
     ],
     "prompt_number": 28
    },
    {
     "cell_type": "code",
     "collapsed": false,
     "input": [
      "dist4 = transformedTruncatedNormPPF(1/float(3),1/float(3),0,1,lambda x: x**5)\n",
      "quickPlot(dist4,N,bins=50,wid=wid,hgt=hgt)"
     ],
     "language": "python",
     "metadata": {},
     "outputs": [
      {
       "output_type": "stream",
       "stream": "stdout",
       "text": [
        "[ 0.00161156  0.02865828  0.00084649 ...,  0.00068577  0.07828222\n",
        "  0.00516514]\n"
       ]
      },
      {
       "metadata": {},
       "output_type": "display_data",
       "png": "[encoded data removed]",
       "text": [
        "<matplotlib.figure.Figure at 0x7f671fa95ed0>"
       ]
      }
     ],
     "prompt_number": 29
    },
    {
     "cell_type": "code",
     "collapsed": false,
     "input": [
      "dist5 = transformedTruncatedNormPPF(1/float(3),1/float(3),0,1,lambda x: np.exp(x))\n",
      "quickPlot(dist5,N,bins=50,wid=wid,hgt=hgt)"
     ],
     "language": "python",
     "metadata": {},
     "outputs": [
      {
       "output_type": "stream",
       "stream": "stdout",
       "text": [
        "[ 1.04393122  1.01339511  1.35761567 ...,  1.88437746  1.02053355\n",
        "  1.59851797]\n"
       ]
      },
      {
       "metadata": {},
       "output_type": "display_data",
       "png": "[encoded data removed]",
       "text": [
        "<matplotlib.figure.Figure at 0x7f671f993690>"
       ]
      }
     ],
     "prompt_number": 30
    },
    {
     "cell_type": "code",
     "collapsed": false,
     "input": [
      "dist6 = transformedTruncatedNormPPF(1/float(3),1/float(3),0,1,lambda x: np.log(x))\n",
      "quickPlot(dist6,N,bins=50,wid=wid,hgt=hgt)"
     ],
     "language": "python",
     "metadata": {},
     "outputs": [
      {
       "output_type": "stream",
       "stream": "stdout",
       "text": [
        "[-0.88334634 -0.24534278 -1.35365966 ..., -0.25725633 -0.62547932\n",
        " -0.29914272]\n"
       ]
      },
      {
       "metadata": {},
       "output_type": "display_data",
       "png": "[encoded data removed]",
       "text": [
        "<matplotlib.figure.Figure at 0x7f671f9999d0>"
       ]
      }
     ],
     "prompt_number": 31
    },
    {
     "cell_type": "code",
     "collapsed": false,
     "input": [
      "dist7 = transformedTruncatedNormPPF(1/float(3),1/float(3),0,1,lambda x: np.power(10*np.ones(x.size),x))\n",
      "quickPlot(dist7,N,bins=50,wid=wid,hgt=hgt)"
     ],
     "language": "python",
     "metadata": {},
     "outputs": [
      {
       "output_type": "stream",
       "stream": "stdout",
       "text": [
        "[ 3.63888068  4.80977361  9.41643808 ...,  3.14294082  3.16718671\n",
        "  3.47509475]\n"
       ]
      },
      {
       "metadata": {},
       "output_type": "display_data",
       "png": "[encoded data removed]",
       "text": [
        "<matplotlib.figure.Figure at 0x7f671f9b0bd0>"
       ]
      }
     ],
     "prompt_number": 32
    },
    {
     "cell_type": "heading",
     "level": 2,
     "metadata": {},
     "source": [
      "Error"
     ]
    },
    {
     "cell_type": "code",
     "collapsed": false,
     "input": [
      "# Error\n",
      "print \"Gaussian Noise\"\n",
      "quickMetrics(distOrg,dist1,N)"
     ],
     "language": "python",
     "metadata": {},
     "outputs": [
      {
       "output_type": "stream",
       "stream": "stdout",
       "text": [
        "Gaussian Noise\n",
        "L1 Error:  "
       ]
      },
      {
       "output_type": "stream",
       "stream": "stdout",
       "text": [
        "277139.566267\n",
        "L2 Error:  "
       ]
      },
      {
       "output_type": "stream",
       "stream": "stdout",
       "text": [
        "342.335898385\n",
        "Cosine Error:  "
       ]
      },
      {
       "output_type": "stream",
       "stream": "stdout",
       "text": [
        "0.741191210365\n",
        "Average Perplexity:  "
       ]
      },
      {
       "output_type": "stream",
       "stream": "stdout",
       "text": [
        "inf\n",
        "Average KL Divergnece:  "
       ]
      },
      {
       "output_type": "stream",
       "stream": "stdout",
       "text": [
        "inf\n",
        "Jensen-Shannon Divergence:  "
       ]
      },
      {
       "output_type": "stream",
       "stream": "stdout",
       "text": [
        "-8054127.23083\n"
       ]
      }
     ],
     "prompt_number": 34
    },
    {
     "cell_type": "code",
     "collapsed": false,
     "input": [
      "print \"Uniform Noise\"\n",
      "quickMetrics(distOrg,dist2,N)"
     ],
     "language": "python",
     "metadata": {},
     "outputs": [
      {
       "output_type": "stream",
       "stream": "stdout",
       "text": [
        "Uniform Noise\n",
        "L1 Error:  "
       ]
      },
      {
       "output_type": "stream",
       "stream": "stdout",
       "text": [
        "277899.56029\n",
        "L2 Error:  "
       ]
      },
      {
       "output_type": "stream",
       "stream": "stdout",
       "text": [
        "344.111549066\n",
        "Cosine Error:  "
       ]
      },
      {
       "output_type": "stream",
       "stream": "stdout",
       "text": [
        "0.739377972424\n",
        "Average Perplexity:  "
       ]
      },
      {
       "output_type": "stream",
       "stream": "stdout",
       "text": [
        "inf\n",
        "Average KL Divergnece:  "
       ]
      },
      {
       "output_type": "stream",
       "stream": "stdout",
       "text": [
        "inf\n",
        "Jensen-Shannon Divergence:  "
       ]
      },
      {
       "output_type": "stream",
       "stream": "stdout",
       "text": [
        "-8053226.95891\n"
       ]
      }
     ],
     "prompt_number": 35
    },
    {
     "cell_type": "code",
     "collapsed": false,
     "input": [
      "print \"Squared Transformation\"\n",
      "quickMetrics(distOrg,dist3,N)"
     ],
     "language": "python",
     "metadata": {},
     "outputs": [
      {
       "output_type": "stream",
       "stream": "stdout",
       "text": [
        "Squared Transformation\n",
        "L1 Error:  "
       ]
      },
      {
       "output_type": "stream",
       "stream": "stdout",
       "text": [
        "305569.937821\n",
        "L2 Error:  "
       ]
      },
      {
       "output_type": "stream",
       "stream": "stdout",
       "text": [
        "377.337382184\n",
        "Cosine Error:  "
       ]
      },
      {
       "output_type": "stream",
       "stream": "stdout",
       "text": [
        "0.611129383807\n",
        "Average Perplexity:  "
       ]
      },
      {
       "output_type": "stream",
       "stream": "stdout",
       "text": [
        "1.02710175111e+12\n",
        "Average KL Divergnece:  "
       ]
      },
      {
       "output_type": "stream",
       "stream": "stdout",
       "text": [
        "506369.770794\n",
        "Jensen-Shannon Divergence:  "
       ]
      },
      {
       "output_type": "stream",
       "stream": "stdout",
       "text": [
        "-6184286.59435\n"
       ]
      }
     ],
     "prompt_number": 36
    },
    {
     "cell_type": "code",
     "collapsed": false,
     "input": [
      "print \"Quintic Transformation\"\n",
      "quickMetrics(distOrg,dist4,N)"
     ],
     "language": "python",
     "metadata": {},
     "outputs": [
      {
       "output_type": "stream",
       "stream": "stdout",
       "text": [
        "Quintic Transformation\n",
        "L1 Error:  "
       ]
      },
      {
       "output_type": "stream",
       "stream": "stdout",
       "text": [
        "369866.873289\n",
        "L2 Error:  "
       ]
      },
      {
       "output_type": "stream",
       "stream": "stdout",
       "text": [
        "440.581740018\n",
        "Cosine Error:  "
       ]
      },
      {
       "output_type": "stream",
       "stream": "stdout",
       "text": [
        "0.378367564149\n",
        "Average Perplexity:  "
       ]
      },
      {
       "output_type": "stream",
       "stream": "stdout",
       "text": [
        "5.99568310493e+12\n",
        "Average KL Divergnece:  "
       ]
      },
      {
       "output_type": "stream",
       "stream": "stdout",
       "text": [
        "1511691.04045\n",
        "Jensen-Shannon Divergence:  "
       ]
      },
      {
       "output_type": "stream",
       "stream": "stdout",
       "text": [
        "-4626330.20106\n"
       ]
      }
     ],
     "prompt_number": 37
    },
    {
     "cell_type": "code",
     "collapsed": false,
     "input": [
      "print \"Exponential Transformation\"\n",
      "quickMetrics(distOrg,dist5,N)"
     ],
     "language": "python",
     "metadata": {},
     "outputs": [
      {
       "output_type": "stream",
       "stream": "stdout",
       "text": [
        "Exponential Transformation\n",
        "L1 Error:  "
       ]
      },
      {
       "output_type": "stream",
       "stream": "stdout",
       "text": [
        "1141492.45005\n",
        "L2 Error:  "
       ]
      },
      {
       "output_type": "stream",
       "stream": "stdout",
       "text": [
        "1229.72352671\n",
        "Cosine Error:  "
       ]
      },
      {
       "output_type": "stream",
       "stream": "stdout",
       "text": [
        "0.836703440183\n",
        "Average Perplexity:  "
       ]
      },
      {
       "output_type": "stream",
       "stream": "stdout",
       "text": [
        "3.44162880203e+12\n",
        "Average KL Divergnece:  "
       ]
      },
      {
       "output_type": "stream",
       "stream": "stdout",
       "text": [
        "1503565.95104\n",
        "Jensen-Shannon Divergence:  "
       ]
      },
      {
       "output_type": "stream",
       "stream": "stdout",
       "text": [
        "-19203979.9105\n"
       ]
      }
     ],
     "prompt_number": 38
    },
    {
     "cell_type": "code",
     "collapsed": false,
     "input": [
      "print \"Log Transformation\"\n",
      "quickMetrics(distOrg,dist6,N)"
     ],
     "language": "python",
     "metadata": {},
     "outputs": [
      {
       "output_type": "stream",
       "stream": "stdout",
       "text": [
        "Log Transformation\n",
        "L1 Error:  "
       ]
      },
      {
       "output_type": "stream",
       "stream": "stdout",
       "text": [
        "1577579.25038\n",
        "L2 Error:  "
       ]
      },
      {
       "output_type": "stream",
       "stream": "stdout",
       "text": [
        "1844.27940163\n",
        "Cosine Error:  "
       ]
      },
      {
       "output_type": "stream",
       "stream": "stdout",
       "text": [
        "-0.676997357777\n",
        "Average Perplexity:  "
       ]
      },
      {
       "output_type": "stream",
       "stream": "stdout",
       "text": [
        "1.94963542182e+12\n",
        "Average KL Divergnece:  "
       ]
      },
      {
       "output_type": "stream",
       "stream": "stdout",
       "text": [
        "-1498881.63337\n",
        "Jensen-Shannon Divergence:  "
       ]
      },
      {
       "output_type": "stream",
       "stream": "stdout",
       "text": [
        "6461586.26066\n"
       ]
      }
     ],
     "prompt_number": 39
    },
    {
     "cell_type": "code",
     "collapsed": false,
     "input": [
      "print \"Power Transformation\"\n",
      "quickMetrics(distOrg,dist7,N)"
     ],
     "language": "python",
     "metadata": {},
     "outputs": [
      {
       "output_type": "stream",
       "stream": "stdout",
       "text": [
        "Power Transformation\n",
        "L1 Error:  "
       ]
      },
      {
       "output_type": "stream",
       "stream": "stdout",
       "text": [
        "2600194.3336\n",
        "L2 Error:  "
       ]
      },
      {
       "output_type": "stream",
       "stream": "stdout",
       "text": [
        "3190.63320672\n",
        "Cosine Error:  "
       ]
      },
      {
       "output_type": "stream",
       "stream": "stdout",
       "text": [
        "0.737923949558\n",
        "Average Perplexity:  "
       ]
      },
      {
       "output_type": "stream",
       "stream": "stdout",
       "text": [
        "1.30393879585e+13\n",
        "Average KL Divergnece:  "
       ]
      },
      {
       "output_type": "stream",
       "stream": "stdout",
       "text": [
        "4797698.10224\n",
        "Jensen-Shannon Divergence:  "
       ]
      },
      {
       "output_type": "stream",
       "stream": "stdout",
       "text": [
        "-32897645.3325\n"
       ]
      }
     ],
     "prompt_number": 40
    }
   ],
   "metadata": {}
  }
 ]
}