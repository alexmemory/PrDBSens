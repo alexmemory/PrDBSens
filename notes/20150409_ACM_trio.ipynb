{
 "cells": [
  {
   "cell_type": "markdown",
   "metadata": {},
   "source": [
    "# Setup"
   ]
  },
  {
   "cell_type": "markdown",
   "metadata": {},
   "source": [
    "I'm using a separate version of python (maybe I shouldn't) and the only way I got this to work was to cd into the source directory."
   ]
  },
  {
   "cell_type": "code",
   "execution_count": 1,
   "metadata": {
    "collapsed": false
   },
   "outputs": [
    {
     "name": "stdout",
     "output_type": "stream",
     "text": [
      "/home/amemory/opt/Trio-1.1.3/trio\n"
     ]
    }
   ],
   "source": [
    "cd /home/amemory/opt/Trio-1.1.3/trio/"
   ]
  },
  {
   "cell_type": "code",
   "execution_count": 2,
   "metadata": {
    "collapsed": false
   },
   "outputs": [
    {
     "data": {
      "text/plain": [
       "u'/home/amemory/opt/Trio-1.1.3/trio'"
      ]
     },
     "execution_count": 2,
     "metadata": {},
     "output_type": "execute_result"
    }
   ],
   "source": [
    "pwd"
   ]
  },
  {
   "cell_type": "code",
   "execution_count": 3,
   "metadata": {
    "collapsed": false
   },
   "outputs": [
    {
     "name": "stdout",
     "output_type": "stream",
     "text": [
      "common.py  __init__.py\tparser\tsql\t trio.cfg   triodb.pyc\txtuple.py\r\n",
      "executor   node.py\tspi\ttest.py  triodb.py  visitor\r\n"
     ]
    }
   ],
   "source": [
    "!ls"
   ]
  },
  {
   "cell_type": "code",
   "execution_count": 36,
   "metadata": {
    "collapsed": false
   },
   "outputs": [],
   "source": [
    "import triodb\n",
    "import pandas as pd"
   ]
  },
  {
   "cell_type": "code",
   "execution_count": 5,
   "metadata": {
    "collapsed": false
   },
   "outputs": [],
   "source": [
    "conn = triodb.connect(database='trio1', \n",
    "                      user='amemory', \n",
    "                      password='password')"
   ]
  },
  {
   "cell_type": "code",
   "execution_count": 6,
   "metadata": {
    "collapsed": false
   },
   "outputs": [],
   "source": [
    "#conn.close()"
   ]
  },
  {
   "cell_type": "markdown",
   "metadata": {},
   "source": [
    "It seems that the DB always starts empty."
   ]
  },
  {
   "cell_type": "code",
   "execution_count": 7,
   "metadata": {
    "collapsed": true
   },
   "outputs": [],
   "source": [
    "cur = conn.cursor()"
   ]
  },
  {
   "cell_type": "markdown",
   "metadata": {},
   "source": [
    "# Single tuple"
   ]
  },
  {
   "cell_type": "markdown",
   "metadata": {},
   "source": [
    "Create a single database, insert a single tuple, then query that tuple and see its lineage."
   ]
  },
  {
   "cell_type": "code",
   "execution_count": 23,
   "metadata": {
    "collapsed": false
   },
   "outputs": [],
   "source": [
    "cur.execute(\"create table CRIME(type varchar(32), sector int)\")"
   ]
  },
  {
   "cell_type": "code",
   "execution_count": 24,
   "metadata": {
    "collapsed": true
   },
   "outputs": [],
   "source": [
    "cur.execute(\"\"\"insert into CRIME values ('Kidnapping', 1)\"\"\")"
   ]
  },
  {
   "cell_type": "code",
   "execution_count": 25,
   "metadata": {
    "collapsed": true
   },
   "outputs": [],
   "source": [
    "cur.execute(\"select * from crime\")\n",
    "tlst = cur.xfetchall()"
   ]
  },
  {
   "cell_type": "code",
   "execution_count": 27,
   "metadata": {
    "collapsed": false
   },
   "outputs": [
    {
     "data": {
      "text/plain": [
       "<trio.xtuple.XTuple instance at 0x7fafeac82830>"
      ]
     },
     "execution_count": 27,
     "metadata": {},
     "output_type": "execute_result"
    }
   ],
   "source": [
    "tup = tlst[0]\n",
    "tup"
   ]
  },
  {
   "cell_type": "code",
   "execution_count": 28,
   "metadata": {
    "collapsed": false
   },
   "outputs": [
    {
     "data": {
      "text/plain": [
       "<trio.xtuple.Alternative instance at 0x7fafeac82bd8>"
      ]
     },
     "execution_count": 28,
     "metadata": {},
     "output_type": "execute_result"
    }
   ],
   "source": [
    "alt = tup.getAlternative(0)\n",
    "alt"
   ]
  },
  {
   "cell_type": "code",
   "execution_count": 29,
   "metadata": {
    "collapsed": false
   },
   "outputs": [],
   "source": [
    "alt.getConfidence()"
   ]
  },
  {
   "cell_type": "markdown",
   "metadata": {},
   "source": [
    "Not sure why there is no confidence and the computeConfidence call experiences an exception."
   ]
  },
  {
   "cell_type": "code",
   "execution_count": 30,
   "metadata": {
    "collapsed": false
   },
   "outputs": [
    {
     "data": {
      "text/plain": [
       "'error'"
      ]
     },
     "execution_count": 30,
     "metadata": {},
     "output_type": "execute_result"
    }
   ],
   "source": [
    "alt.computeConfidence(conn)"
   ]
  },
  {
   "cell_type": "code",
   "execution_count": 31,
   "metadata": {
    "collapsed": false
   },
   "outputs": [
    {
     "data": {
      "text/plain": [
       "<trio.xtuple.Lineage instance at 0x7fafeac82998>"
      ]
     },
     "execution_count": 31,
     "metadata": {},
     "output_type": "execute_result"
    }
   ],
   "source": [
    "lin = alt.getLineage()\n",
    "lin"
   ]
  },
  {
   "cell_type": "code",
   "execution_count": 32,
   "metadata": {
    "collapsed": false
   },
   "outputs": [
    {
     "data": {
      "text/plain": [
       "[('crime', 1, 0)]"
      ]
     },
     "execution_count": 32,
     "metadata": {},
     "output_type": "execute_result"
    }
   ],
   "source": [
    "lin.items()"
   ]
  },
  {
   "cell_type": "markdown",
   "metadata": {},
   "source": [
    "It seems that this lineage refers to id 1 of the crime relation."
   ]
  },
  {
   "cell_type": "code",
   "execution_count": 33,
   "metadata": {
    "collapsed": false
   },
   "outputs": [
    {
     "data": {
      "text/plain": [
       "[1]"
      ]
     },
     "execution_count": 33,
     "metadata": {},
     "output_type": "execute_result"
    }
   ],
   "source": [
    "lin.aids()"
   ]
  },
  {
   "cell_type": "code",
   "execution_count": 34,
   "metadata": {
    "collapsed": false
   },
   "outputs": [
    {
     "data": {
      "text/plain": [
       "['1']"
      ]
     },
     "execution_count": 34,
     "metadata": {},
     "output_type": "execute_result"
    }
   ],
   "source": [
    "lin.aidstrs()"
   ]
  },
  {
   "cell_type": "markdown",
   "metadata": {},
   "source": [
    "# Crime"
   ]
  },
  {
   "cell_type": "code",
   "execution_count": 76,
   "metadata": {
    "collapsed": false
   },
   "outputs": [],
   "source": [
    "conn.close()"
   ]
  },
  {
   "cell_type": "code",
   "execution_count": 9,
   "metadata": {
    "collapsed": false
   },
   "outputs": [],
   "source": [
    "conn = triodb.connect(database='trio1', \n",
    "                      user='amemory', \n",
    "                      password='password')\n",
    "cur = conn.cursor()"
   ]
  },
  {
   "cell_type": "code",
   "execution_count": 40,
   "metadata": {
    "collapsed": false
   },
   "outputs": [],
   "source": [
    "# Causes an error -- the DB is empty again after closing and reopening\n",
    "# cur.execute(\"select * from crime\")\n",
    "# tlst = cur.xfetchall()"
   ]
  },
  {
   "cell_type": "markdown",
   "metadata": {},
   "source": [
    "## Load crime"
   ]
  },
  {
   "cell_type": "code",
   "execution_count": 10,
   "metadata": {
    "collapsed": true
   },
   "outputs": [],
   "source": [
    "sql = \"\"\"\n",
    "create table CRIME(type varchar(32), sector int);\n",
    "insert into CRIME values ('Kidnapping', 1); \n",
    "insert into CRIME values ('Car theft', 2); \n",
    "insert into CRIME values ('Robbery', 2); \n",
    "create table WITNESS(name varchar(32), sector int);\n",
    "insert into WITNESS values ('Mary', 2);\n",
    "insert into WITNESS values ('Susan', 1);\n",
    "insert into WITNESS values ('Jane', 1);\n",
    "create table PERSON(name varchar(32), hair varchar(32), clothes varchar(32));\n",
    "insert into PERSON values ('Jim', 'black', 'red');\n",
    "insert into PERSON values ('Hank', 'brown', 'green');\n",
    "insert into PERSON values ('Bob', 'gray', 'blue');\n",
    "create trio table SAWPERSON(witness varchar(32), hair varchar(32), clothes varchar(32), uncertain(hair, clothes)); \n",
    "insert into SAWPERSON values ('Mary', 'black', ['red' | 'green']);\n",
    "insert into SAWPERSON values ('Jane', 'gray', 'blue');\n",
    "insert into SAWPERSON values ('Jane', 'brown', 'green') ?;\n",
    "insert into SAWPERSON values [('Susan', 'gray', 'red') |('Susan', 'brown', 'red') |('Susan', 'brown', 'green')];\n",
    "create trio table DRIVES(person varchar(32), car varchar(32), uncertain(person, car)) with confidences;\n",
    "insert into DRIVES values [('Jim', 'Honda'):1];\n",
    "insert into DRIVES values (['Hank':0.6 | 'Jim':0.3], 'Toyota':1);\n",
    "insert into DRIVES values ('Bob':1, ['Toyota':0.5 | 'Mazda':0.3]);\n",
    "create trio table SAWCAR(witness varchar(32), car varchar(32), uncertain(car)) with confidences;\n",
    "insert into SAWCAR values [('Susan', 'Honda') :1];\n",
    "insert into SAWCAR values ('Mary':1, 'Toyota':0.7);\n",
    "insert into SAWCAR values [ ('Jane', 'Toyota' ) :0.5 | ('Jane', 'Honda') :0.4];\n",
    "\"\"\""
   ]
  },
  {
   "cell_type": "code",
   "execution_count": 11,
   "metadata": {
    "collapsed": false
   },
   "outputs": [
    {
     "name": "stdout",
     "output_type": "stream",
     "text": [
      "create table CRIME(type varchar(32), sector int)\n",
      "insert into CRIME values ('Kidnapping', 1)\n",
      "insert into CRIME values ('Car theft', 2)\n",
      "insert into CRIME values ('Robbery', 2)\n",
      "create table WITNESS(name varchar(32), sector int)\n",
      "insert into WITNESS values ('Mary', 2)\n",
      "insert into WITNESS values ('Susan', 1)\n",
      "insert into WITNESS values ('Jane', 1)\n",
      "create table PERSON(name varchar(32), hair varchar(32), clothes varchar(32))\n",
      "insert into PERSON values ('Jim', 'black', 'red')\n",
      "insert into PERSON values ('Hank', 'brown', 'green')\n",
      "insert into PERSON values ('Bob', 'gray', 'blue')\n",
      "create trio table SAWPERSON(witness varchar(32), hair varchar(32), clothes varchar(32), uncertain(hair, clothes))\n",
      "insert into SAWPERSON values ('Mary', 'black', ['red' | 'green'])\n",
      "insert into SAWPERSON values ('Jane', 'gray', 'blue')\n",
      "insert into SAWPERSON values ('Jane', 'brown', 'green') ?\n",
      "insert into SAWPERSON values [('Susan', 'gray', 'red') |('Susan', 'brown', 'red') |('Susan', 'brown', 'green')]\n",
      "create trio table DRIVES(person varchar(32), car varchar(32), uncertain(person, car)) with confidences\n",
      "insert into DRIVES values [('Jim', 'Honda'):1]\n",
      "insert into DRIVES values (['Hank':0.6 | 'Jim':0.3], 'Toyota':1)\n",
      "insert into DRIVES values ('Bob':1, ['Toyota':0.5 | 'Mazda':0.3])\n",
      "create trio table SAWCAR(witness varchar(32), car varchar(32), uncertain(car)) with confidences\n",
      "insert into SAWCAR values [('Susan', 'Honda') :1]\n",
      "insert into SAWCAR values ('Mary':1, 'Toyota':0.7)\n",
      "insert into SAWCAR values [ ('Jane', 'Toyota' ) :0.5 | ('Jane', 'Honda') :0.4]\n",
      "\n"
     ]
    }
   ],
   "source": [
    "for line in sql.split(\";\"):\n",
    "    line = line.strip()\n",
    "    line = line.replace(\"\\n\",\" \")\n",
    "    print line\n",
    "    if line == \"\":\n",
    "        continue\n",
    "    cur.execute(line)"
   ]
  },
  {
   "cell_type": "markdown",
   "metadata": {},
   "source": [
    "## Crime views"
   ]
  },
  {
   "cell_type": "code",
   "execution_count": 12,
   "metadata": {
    "collapsed": true
   },
   "outputs": [],
   "source": [
    "sql = \"\"\"\n",
    "create table SUSPECT_S as\n",
    "select PERSON.name as suspect, CRIME.type as crime\n",
    "from  SAWPERSON, WITNESS, CRIME, PERSON\n",
    "where SAWPERSON.witness = WITNESS.name\n",
    "  and CRIME.sector = WITNESS.sector \n",
    "  and PERSON.hair = SAWPERSON.hair\n",
    "  and PERSON.clothes = SAWPERSON.clothes;\n",
    "\n",
    "create table SUSPECT_D as \n",
    "select DRIVES.person as suspect, CRIME.type as crime\n",
    "from  SAWCAR, WITNESS, CRIME, DRIVES\n",
    "where SAWCAR.witness = WITNESS.name\n",
    "  and WITNESS.sector = CRIME.sector\n",
    "  and DRIVES.car = SAWCAR.car; \n",
    "\n",
    "create table HIGH_SUSPECT as\n",
    "select SUSPECT_D.suspect, SUSPECT_D.crime\n",
    "from SUSPECT_D, SUSPECT_S\n",
    "where SUSPECT_D.suspect = SUSPECT_S.suspect \n",
    "  and SUSPECT_D.crime = SUSPECT_S.crime\n",
    "  and conf(SUSPECT_D) >= 0.25;\n",
    "\n",
    "create table ACCOMPLICES as \n",
    "select S1.suspect as name1, S2.suspect as name2 \n",
    "from SUSPECT_D S1, SUSPECT_D S2\n",
    "where S1.crime = S2.crime\n",
    "  and S1.suspect < S2.suspect;\n",
    "\"\"\""
   ]
  },
  {
   "cell_type": "code",
   "execution_count": 13,
   "metadata": {
    "collapsed": false
   },
   "outputs": [
    {
     "name": "stdout",
     "output_type": "stream",
     "text": [
      "create table SUSPECT_S as select PERSON.name as suspect, CRIME.type as crime from  SAWPERSON, WITNESS, CRIME, PERSON where SAWPERSON.witness = WITNESS.name   and CRIME.sector = WITNESS.sector    and PERSON.hair = SAWPERSON.hair   and PERSON.clothes = SAWPERSON.clothes\n",
      "SELECT: 0.00501799583435\n",
      "INDEX:  0\n",
      "create table SUSPECT_D as  select DRIVES.person as suspect, CRIME.type as crime from  SAWCAR, WITNESS, CRIME, DRIVES where SAWCAR.witness = WITNESS.name   and WITNESS.sector = CRIME.sector   and DRIVES.car = SAWCAR.car\n",
      "SELECT: 0.00858497619629\n",
      "INDEX:  0\n",
      "create table HIGH_SUSPECT as select SUSPECT_D.suspect, SUSPECT_D.crime from SUSPECT_D, SUSPECT_S where SUSPECT_D.suspect = SUSPECT_S.suspect    and SUSPECT_D.crime = SUSPECT_S.crime   and conf(SUSPECT_D) >= 0.25\n",
      "SELECT: 0.00472402572632\n",
      "INDEX:  0\n",
      "create table ACCOMPLICES as  select S1.suspect as name1, S2.suspect as name2  from SUSPECT_D S1, SUSPECT_D S2 where S1.crime = S2.crime   and S1.suspect < S2.suspect\n",
      "SELECT: 0.00794291496277\n",
      "INDEX:  0\n",
      "\n"
     ]
    }
   ],
   "source": [
    "for line in sql.split(\";\"):\n",
    "    line = line.strip()\n",
    "    line = line.replace(\"\\n\",\" \")\n",
    "    print line\n",
    "    if line == \"\":\n",
    "        continue\n",
    "    cur.execute(line)"
   ]
  },
  {
   "cell_type": "markdown",
   "metadata": {},
   "source": [
    "## Functions"
   ]
  },
  {
   "cell_type": "code",
   "execution_count": 13,
   "metadata": {
    "collapsed": true
   },
   "outputs": [],
   "source": [
    "def grabtupleBadWay(tablename,aid,cur):\n",
    "        cur.execute(\"\"\"SELECT * from %s\"\"\" % (tablename,))\n",
    "        lst = cur.xfetchall()\n",
    "        tup = lst[aid-1]\n",
    "        return tup\n",
    "        \n",
    "def disjToString(disj):\n",
    "        if disj==0:\n",
    "                return \"and\"\n",
    "        elif disj==1:\n",
    "                return \"or\"\n",
    "        elif disj==2:\n",
    "                return \"and not\"\n",
    "        else:\n",
    "                return \"error\"\n",
    "\n",
    "def buildLinageBadWay(linage,cur,conn):\n",
    "        explanation = \"\";\n",
    "        formula = []\n",
    "        i = 0\n",
    "        for elem in linage.items():\n",
    "                (tablename,aid,disj) = elem\n",
    "                tup = grabtupleBadWay(tablename,aid,cur)\n",
    "                if len(tup)>0:\n",
    "                        alt = tup.getAlternative(0)\n",
    "                        if alt.getQuestionMark():\n",
    "                                conf = alt.computeConfidence(conn)\n",
    "                        else:\n",
    "                                conf = float(1)\n",
    "                        newelem = (conf, disj)\n",
    "                        formula.append(newelem)\n",
    "                        srtup = str(tup[0])+\": \"+str(conf)\n",
    "                        explanation = explanation + srtup +\" \"+disjToString(disj)+\" \"\n",
    "                else:\n",
    "                        raise Exception(\"No tuple: \"+str(tablename)+\" \"+str(aid)+\" exists!\")\n",
    "        print explanation\n",
    "        return formula\n"
   ]
  },
  {
   "cell_type": "code",
   "execution_count": 14,
   "metadata": {
    "collapsed": true
   },
   "outputs": [],
   "source": [
    "def q(sql):\n",
    "    return sql.replace(\"\\n\",\" \").replace(\";\",\"\")"
   ]
  },
  {
   "cell_type": "markdown",
   "metadata": {},
   "source": [
    "## Tables"
   ]
  },
  {
   "cell_type": "code",
   "execution_count": 68,
   "metadata": {
    "collapsed": false
   },
   "outputs": [
    {
     "name": "stdout",
     "output_type": "stream",
     "text": [
      "(Kidnapping,1)\n",
      "\n",
      "(Car theft,2)\n",
      "\n",
      "(Robbery,2)\n",
      "\n"
     ]
    }
   ],
   "source": [
    "cur.execute(q(\"\"\"select * from crime\"\"\"))\n",
    "for t in cur.xfetchall(): print t"
   ]
  },
  {
   "cell_type": "code",
   "execution_count": 69,
   "metadata": {
    "collapsed": false
   },
   "outputs": [
    {
     "name": "stdout",
     "output_type": "stream",
     "text": [
      "(Mary,2)\n",
      "\n",
      "(Susan,1)\n",
      "\n",
      "(Jane,1)\n",
      "\n"
     ]
    }
   ],
   "source": [
    "cur.execute(q(\"\"\"select * from witness\"\"\"))\n",
    "for t in cur.xfetchall(): print t"
   ]
  },
  {
   "cell_type": "code",
   "execution_count": 70,
   "metadata": {
    "collapsed": false
   },
   "outputs": [
    {
     "name": "stdout",
     "output_type": "stream",
     "text": [
      "(Jim,black,red)\n",
      "\n",
      "(Hank,brown,green)\n",
      "\n",
      "(Bob,gray,blue)\n",
      "\n"
     ]
    }
   ],
   "source": [
    "cur.execute(q(\"\"\"select * from person\"\"\"))\n",
    "for t in cur.xfetchall(): print t"
   ]
  },
  {
   "cell_type": "code",
   "execution_count": 71,
   "metadata": {
    "collapsed": false
   },
   "outputs": [
    {
     "name": "stdout",
     "output_type": "stream",
     "text": [
      "(Mary,black,green)|(Mary,black,red)\n",
      "\n",
      "(Jane,gray,blue)\n",
      "\n",
      "(Jane,brown,green)?\n",
      "\n",
      "(Susan,brown,green)|(Susan,brown,red)|(Susan,gray,red)\n",
      "\n"
     ]
    }
   ],
   "source": [
    "cur.execute(q(\"\"\"select * from sawperson\"\"\"))\n",
    "for t in cur.xfetchall(): print t"
   ]
  },
  {
   "cell_type": "code",
   "execution_count": 72,
   "metadata": {
    "collapsed": false
   },
   "outputs": [
    {
     "name": "stdout",
     "output_type": "stream",
     "text": [
      "(Jim,Honda)\n",
      "\n",
      "(Hank,Toyota)?|(Jim,Toyota)?\n",
      "\n",
      "(Bob,Mazda)?|(Bob,Toyota)?\n",
      "\n"
     ]
    }
   ],
   "source": [
    "cur.execute(q(\"\"\"select * from drives\"\"\"))\n",
    "for t in cur.xfetchall(): print t"
   ]
  },
  {
   "cell_type": "code",
   "execution_count": 73,
   "metadata": {
    "collapsed": false
   },
   "outputs": [
    {
     "name": "stdout",
     "output_type": "stream",
     "text": [
      "(Susan,Honda)\n",
      "\n",
      "(Mary,Toyota)?\n",
      "\n",
      "(Jane,Honda)?|(Jane,Toyota)?\n",
      "\n"
     ]
    }
   ],
   "source": [
    "cur.execute(q(\"\"\"select * from sawcar\"\"\"))\n",
    "for t in cur.xfetchall(): print t"
   ]
  },
  {
   "cell_type": "code",
   "execution_count": 74,
   "metadata": {
    "collapsed": false
   },
   "outputs": [
    {
     "name": "stdout",
     "output_type": "stream",
     "text": [
      "(Jim,Car theft)?\n",
      "\n",
      "(Jim,Robbery)?\n",
      "\n",
      "(Bob,Kidnapping)\n",
      "\n",
      "(Hank,Kidnapping)?\n",
      "\n",
      "(Hank,Kidnapping)?\n",
      "\n"
     ]
    }
   ],
   "source": [
    "cur.execute(q(\"\"\"select * from SUSPECT_S\"\"\"))\n",
    "for t in cur.xfetchall(): print t"
   ]
  },
  {
   "cell_type": "code",
   "execution_count": 75,
   "metadata": {
    "collapsed": false
   },
   "outputs": [
    {
     "name": "stdout",
     "output_type": "stream",
     "text": [
      "(Jim,Kidnapping)\n",
      "\n",
      "(Hank,Car theft)?|(Jim,Car theft)?\n",
      "\n",
      "(Bob,Car theft)?\n",
      "\n",
      "(Hank,Robbery)?|(Jim,Robbery)?\n",
      "\n",
      "(Bob,Robbery)?\n",
      "\n",
      "(Jim,Kidnapping)?\n",
      "\n",
      "(Hank,Kidnapping)?|(Jim,Kidnapping)?\n",
      "\n",
      "(Bob,Kidnapping)?\n",
      "\n"
     ]
    }
   ],
   "source": [
    "cur.execute(q(\"\"\"select * from SUSPECT_D\"\"\"))\n",
    "for t in cur.xfetchall(): print t"
   ]
  },
  {
   "cell_type": "markdown",
   "metadata": {},
   "source": [
    "## Query"
   ]
  },
  {
   "cell_type": "code",
   "execution_count": 57,
   "metadata": {
    "collapsed": true
   },
   "outputs": [],
   "source": [
    "sql = \"\"\"\n",
    "select suspect, crime\n",
    "from HIGH_SUSPECT H, WITNESS W\n",
    "where H ==> W\n",
    "and W.name = 'Susan';\n",
    "\"\"\""
   ]
  },
  {
   "cell_type": "code",
   "execution_count": 58,
   "metadata": {
    "collapsed": false
   },
   "outputs": [],
   "source": [
    "cur.execute(q(sql))\n",
    "tlst = cur.xfetchall()"
   ]
  },
  {
   "cell_type": "code",
   "execution_count": 59,
   "metadata": {
    "collapsed": true
   },
   "outputs": [],
   "source": [
    "def q(sql):\n",
    "    return sql.replace(\"\\n\",\" \").replace(\";\",\"\")"
   ]
  },
  {
   "cell_type": "code",
   "execution_count": 60,
   "metadata": {
    "collapsed": false
   },
   "outputs": [
    {
     "data": {
      "text/plain": [
       "<trio.xtuple.XTuple instance at 0x7ff12e68f8c0>"
      ]
     },
     "execution_count": 60,
     "metadata": {},
     "output_type": "execute_result"
    }
   ],
   "source": [
    "tup = tlst[0]\n",
    "tup"
   ]
  },
  {
   "cell_type": "code",
   "execution_count": 61,
   "metadata": {
    "collapsed": false
   },
   "outputs": [
    {
     "name": "stdout",
     "output_type": "stream",
     "text": [
      "(Hank,Kidnapping)?\n",
      "\n"
     ]
    }
   ],
   "source": [
    "print tup"
   ]
  },
  {
   "cell_type": "code",
   "execution_count": 62,
   "metadata": {
    "collapsed": false
   },
   "outputs": [
    {
     "data": {
      "text/plain": [
       "<trio.xtuple.Alternative instance at 0x7ff12e68f200>"
      ]
     },
     "execution_count": 62,
     "metadata": {},
     "output_type": "execute_result"
    }
   ],
   "source": [
    "alt = tup.alternatives[0]\n",
    "alt"
   ]
  },
  {
   "cell_type": "code",
   "execution_count": 63,
   "metadata": {
    "collapsed": false
   },
   "outputs": [
    {
     "data": {
      "text/plain": [
       "<trio.xtuple.Lineage instance at 0x7ff12e68f488>"
      ]
     },
     "execution_count": 63,
     "metadata": {},
     "output_type": "execute_result"
    }
   ],
   "source": [
    "lin = alt.getLineage()\n",
    "lin"
   ]
  },
  {
   "cell_type": "code",
   "execution_count": 64,
   "metadata": {
    "collapsed": false
   },
   "outputs": [
    {
     "data": {
      "text/plain": [
       "[('high_suspect', 2, 0), ('witness', 2, 0)]"
      ]
     },
     "execution_count": 64,
     "metadata": {},
     "output_type": "execute_result"
    }
   ],
   "source": [
    "lin.items()"
   ]
  },
  {
   "cell_type": "markdown",
   "metadata": {},
   "source": [
    "Not sure this lineage makes sense yet, but it seems to be a conjunction of the 2nd tuple of high_suspect and the 2nd tuple of witness."
   ]
  },
  {
   "cell_type": "code",
   "execution_count": 65,
   "metadata": {
    "collapsed": false
   },
   "outputs": [
    {
     "name": "stdout",
     "output_type": "stream",
     "text": [
      "(Hank,Kidnapping)?\n"
     ]
    }
   ],
   "source": [
    "print alt"
   ]
  },
  {
   "cell_type": "code",
   "execution_count": 66,
   "metadata": {
    "collapsed": false
   },
   "outputs": [
    {
     "name": "stdout",
     "output_type": "stream",
     "text": [
      "(Hank,Kidnapping)?: 0.1 and (Susan,1): 1.0 and \n"
     ]
    },
    {
     "data": {
      "text/plain": [
       "[(0.1, 0), (1.0, 0)]"
      ]
     },
     "execution_count": 66,
     "metadata": {},
     "output_type": "execute_result"
    }
   ],
   "source": [
    "buildLinageBadWay(lin, cur, conn)"
   ]
  },
  {
   "cell_type": "markdown",
   "metadata": {
    "collapsed": true
   },
   "source": [
    "# Tuple-uncertain crime"
   ]
  },
  {
   "cell_type": "code",
   "execution_count": 8,
   "metadata": {
    "collapsed": false
   },
   "outputs": [],
   "source": [
    "conn.close()"
   ]
  },
  {
   "cell_type": "code",
   "execution_count": 9,
   "metadata": {
    "collapsed": false
   },
   "outputs": [],
   "source": [
    "conn = triodb.connect(database='trio1', \n",
    "                      user='amemory', \n",
    "                      password='password')\n",
    "cur = conn.cursor()"
   ]
  },
  {
   "cell_type": "code",
   "execution_count": 10,
   "metadata": {
    "collapsed": true
   },
   "outputs": [],
   "source": [
    "sql = \"\"\"\n",
    "create table CRIME(type varchar(32), sector int);\n",
    "insert into CRIME values ('Kidnapping', 1); \n",
    "insert into CRIME values ('Car theft', 2); \n",
    "insert into CRIME values ('Robbery', 2); \n",
    "create table WITNESS(name varchar(32), sector int);\n",
    "insert into WITNESS values ('Mary', 2);\n",
    "insert into WITNESS values ('Susan', 1);\n",
    "insert into WITNESS values ('Jane', 1);\n",
    "create table PERSON(name varchar(32), hair varchar(32), clothes varchar(32));\n",
    "insert into PERSON values ('Jim', 'black', 'red');\n",
    "insert into PERSON values ('Hank', 'brown', 'green');\n",
    "insert into PERSON values ('Bob', 'gray', 'blue');\n",
    "create trio table SAWPERSON(witness varchar(32), hair varchar(32), clothes varchar(32), uncertain(hair, clothes)); \n",
    "insert into SAWPERSON values ('Mary', 'black', 'red') ?;\n",
    "insert into SAWPERSON values ('Mary', 'black', 'green') ?;\n",
    "insert into SAWPERSON values ('Jane', 'gray', 'blue');\n",
    "insert into SAWPERSON values ('Jane', 'brown', 'green') ?;\n",
    "insert into SAWPERSON values ('Susan', 'gray', 'red') ?;\n",
    "insert into SAWPERSON values ('Susan', 'brown', 'red') ?;\n",
    "insert into SAWPERSON values ('Susan', 'brown', 'green') ?;\n",
    "create trio table DRIVES(person varchar(32), car varchar(32), uncertain(person, car)) with confidences;\n",
    "insert into DRIVES values [('Jim', 'Honda'):1];\n",
    "insert into DRIVES values [('Hank', 'Toyota'):0.6];\n",
    "insert into DRIVES values [('Jim', 'Toyota'):0.3];\n",
    "insert into DRIVES values [('Bob','Toyota'):0.5];\n",
    "insert into DRIVES values [('Bob','Mazda'):0.3];\n",
    "create trio table SAWCAR(witness varchar(32), car varchar(32), uncertain(car)) with confidences;\n",
    "insert into SAWCAR values [('Susan', 'Honda'):1];\n",
    "insert into SAWCAR values [('Mary', 'Toyota'):0.7];\n",
    "insert into SAWCAR values [('Jane', 'Toyota'):0.5];\n",
    "insert into SAWCAR values [('Jane', 'Honda'):0.4];\n",
    "\"\"\""
   ]
  },
  {
   "cell_type": "code",
   "execution_count": 43,
   "metadata": {
    "collapsed": true
   },
   "outputs": [],
   "source": [
    "drives = pd.DataFrame([['Jim','Honda',1.0],\n",
    "                       ['Hank','Toyota',.6],\n",
    "                       ['Jim','Toyota',.3]],columns=['person','car','conf'])"
   ]
  },
  {
   "cell_type": "code",
   "execution_count": 44,
   "metadata": {
    "collapsed": false
   },
   "outputs": [
    {
     "data": {
      "text/html": [
       "<div style=\"max-height:1000px;max-width:1500px;overflow:auto;\">\n",
       "<table border=\"1\" class=\"dataframe\">\n",
       "  <thead>\n",
       "    <tr style=\"text-align: right;\">\n",
       "      <th></th>\n",
       "      <th>person</th>\n",
       "      <th>car</th>\n",
       "      <th>conf</th>\n",
       "    </tr>\n",
       "  </thead>\n",
       "  <tbody>\n",
       "    <tr>\n",
       "      <th>0</th>\n",
       "      <td>  Jim</td>\n",
       "      <td>  Honda</td>\n",
       "      <td> 1.0</td>\n",
       "    </tr>\n",
       "    <tr>\n",
       "      <th>1</th>\n",
       "      <td> Hank</td>\n",
       "      <td> Toyota</td>\n",
       "      <td> 0.6</td>\n",
       "    </tr>\n",
       "    <tr>\n",
       "      <th>2</th>\n",
       "      <td>  Jim</td>\n",
       "      <td> Toyota</td>\n",
       "      <td> 0.3</td>\n",
       "    </tr>\n",
       "  </tbody>\n",
       "</table>\n",
       "</div>"
      ],
      "text/plain": [
       "  person     car  conf\n",
       "0    Jim   Honda   1.0\n",
       "1   Hank  Toyota   0.6\n",
       "2    Jim  Toyota   0.3"
      ]
     },
     "execution_count": 44,
     "metadata": {},
     "output_type": "execute_result"
    }
   ],
   "source": [
    "drives"
   ]
  },
  {
   "cell_type": "code",
   "execution_count": 10,
   "metadata": {
    "collapsed": true
   },
   "outputs": [],
   "source": [
    "sql = \"\"\"\n",
    "create trio table DRIVES(person varchar(32), car varchar(32), uncertain(person, car)) with confidences;\n",
    "insert into DRIVES values [('Jim', 'Honda'):1];\n",
    "insert into DRIVES values [('Hank', 'Toyota'):0.6];\n",
    "insert into DRIVES values [('Jim', 'Toyota'):0.3];\n",
    "insert into DRIVES values [('Bob','Toyota'):0.5];\n",
    "insert into DRIVES values [('Bob','Mazda'):0.3];\n",
    "create trio table SAWCAR(witness varchar(32), car varchar(32), uncertain(car)) with confidences;\n",
    "insert into SAWCAR values [('Susan', 'Honda'):1];\n",
    "insert into SAWCAR values [('Mary', 'Toyota'):0.7];\n",
    "insert into SAWCAR values [('Jane', 'Toyota'):0.5];\n",
    "insert into SAWCAR values [('Jane', 'Honda'):0.4];\n",
    "\"\"\""
   ]
  },
  {
   "cell_type": "code",
   "execution_count": 11,
   "metadata": {
    "collapsed": false
   },
   "outputs": [
    {
     "name": "stdout",
     "output_type": "stream",
     "text": [
      "create trio table DRIVES(person varchar(32), car varchar(32), uncertain(person, car)) with confidences\n",
      "insert into DRIVES values [('Jim', 'Honda'):1]\n",
      "insert into DRIVES values [('Hank', 'Toyota'):0.6]\n",
      "insert into DRIVES values [('Jim', 'Toyota'):0.3]\n",
      "insert into DRIVES values [('Bob','Toyota'):0.5]\n",
      "insert into DRIVES values [('Bob','Mazda'):0.3]\n",
      "create trio table SAWCAR(witness varchar(32), car varchar(32), uncertain(car)) with confidences\n",
      "insert into SAWCAR values [('Susan', 'Honda'):1]\n",
      "insert into SAWCAR values [('Mary', 'Toyota'):0.7]\n",
      "insert into SAWCAR values [('Jane', 'Toyota'):0.5]\n",
      "insert into SAWCAR values [('Jane', 'Honda'):0.4]\n",
      "\n"
     ]
    }
   ],
   "source": [
    "for line in sql.split(\";\"):\n",
    "    line = line.strip()\n",
    "    line = line.replace(\"\\n\",\" \")\n",
    "    print line\n",
    "    if line == \"\":\n",
    "        continue\n",
    "    cur.execute(line)"
   ]
  },
  {
   "cell_type": "code",
   "execution_count": 16,
   "metadata": {
    "collapsed": false
   },
   "outputs": [
    {
     "name": "stdout",
     "output_type": "stream",
     "text": [
      "SELECT: 0.00598502159119\n",
      "INDEX:  0\n"
     ]
    }
   ],
   "source": [
    "cur.execute(q(\"\"\"\n",
    "create table seencars as\n",
    "select drives.person as suspect, drives.car, witness from drives, sawcar\n",
    "where drives.car = sawcar.car;\n",
    "\"\"\"))\n",
    "for t in cur.xfetchall(): print t"
   ]
  },
  {
   "cell_type": "code",
   "execution_count": 35,
   "metadata": {
    "collapsed": false
   },
   "outputs": [
    {
     "name": "stdout",
     "output_type": "stream",
     "text": [
      "(Jim,Honda,Susan) 1.0\n",
      "(Jim,Honda,Jane)? 0.4\n",
      "(Hank,Toyota,Mary)? 0.42\n",
      "(Hank,Toyota,Jane)? 0.3\n",
      "(Jim,Toyota,Mary)? 0.21\n",
      "(Jim,Toyota,Jane)? 0.15\n",
      "(Bob,Toyota,Mary)? 0.35\n",
      "(Bob,Toyota,Jane)? 0.25\n"
     ]
    }
   ],
   "source": [
    "cur.execute(q(\"\"\"select * from seencars\"\"\"))\n",
    "for t in cur.xfetchall(): \n",
    "    print str(t).strip(), t.alternatives[0].computeConfidence(conn)"
   ]
  },
  {
   "cell_type": "code",
   "execution_count": 42,
   "metadata": {
    "collapsed": false
   },
   "outputs": [
    {
     "data": {
      "text/html": [
       "<div style=\"max-height:1000px;max-width:1500px;overflow:auto;\">\n",
       "<table border=\"1\" class=\"dataframe\">\n",
       "  <thead>\n",
       "    <tr style=\"text-align: right;\">\n",
       "      <th></th>\n",
       "      <th>conf</th>\n",
       "      <th>tuple</th>\n",
       "    </tr>\n",
       "  </thead>\n",
       "  <tbody>\n",
       "    <tr>\n",
       "      <th>0</th>\n",
       "      <td> 1.00</td>\n",
       "      <td>   (Jim,Honda,Susan)</td>\n",
       "    </tr>\n",
       "    <tr>\n",
       "      <th>2</th>\n",
       "      <td> 0.42</td>\n",
       "      <td> (Hank,Toyota,Mary)?</td>\n",
       "    </tr>\n",
       "    <tr>\n",
       "      <th>1</th>\n",
       "      <td> 0.40</td>\n",
       "      <td>   (Jim,Honda,Jane)?</td>\n",
       "    </tr>\n",
       "    <tr>\n",
       "      <th>6</th>\n",
       "      <td> 0.35</td>\n",
       "      <td>  (Bob,Toyota,Mary)?</td>\n",
       "    </tr>\n",
       "    <tr>\n",
       "      <th>3</th>\n",
       "      <td> 0.30</td>\n",
       "      <td> (Hank,Toyota,Jane)?</td>\n",
       "    </tr>\n",
       "    <tr>\n",
       "      <th>7</th>\n",
       "      <td> 0.25</td>\n",
       "      <td>  (Bob,Toyota,Jane)?</td>\n",
       "    </tr>\n",
       "    <tr>\n",
       "      <th>4</th>\n",
       "      <td> 0.21</td>\n",
       "      <td>  (Jim,Toyota,Mary)?</td>\n",
       "    </tr>\n",
       "    <tr>\n",
       "      <th>5</th>\n",
       "      <td> 0.15</td>\n",
       "      <td>  (Jim,Toyota,Jane)?</td>\n",
       "    </tr>\n",
       "  </tbody>\n",
       "</table>\n",
       "</div>"
      ],
      "text/plain": [
       "   conf                tuple\n",
       "0  1.00    (Jim,Honda,Susan)\n",
       "2  0.42  (Hank,Toyota,Mary)?\n",
       "1  0.40    (Jim,Honda,Jane)?\n",
       "6  0.35   (Bob,Toyota,Mary)?\n",
       "3  0.30  (Hank,Toyota,Jane)?\n",
       "7  0.25   (Bob,Toyota,Jane)?\n",
       "4  0.21   (Jim,Toyota,Mary)?\n",
       "5  0.15   (Jim,Toyota,Jane)?"
      ]
     },
     "execution_count": 42,
     "metadata": {},
     "output_type": "execute_result"
    }
   ],
   "source": [
    "rows = []\n",
    "cur.execute(q(\"\"\"select * from seencars\"\"\"))\n",
    "for t in cur.xfetchall(): \n",
    "    #print str(t).strip(), t.alternatives[0].computeConfidence(conn)\n",
    "    rows.append({'tuple':str(t).strip(), 'conf':t.alternatives[0].computeConfidence(conn)})\n",
    "df = pd.DataFrame(rows)\n",
    "df.sort('conf', ascending=False)"
   ]
  },
  {
   "cell_type": "code",
   "execution_count": null,
   "metadata": {
    "collapsed": true
   },
   "outputs": [],
   "source": []
  }
 ],
 "metadata": {
  "kernelspec": {
   "display_name": "Python 2",
   "language": "python",
   "name": "python2"
  },
  "language_info": {
   "codemirror_mode": {
    "name": "ipython",
    "version": 2
   },
   "file_extension": ".py",
   "mimetype": "text/x-python",
   "name": "python",
   "nbconvert_exporter": "python",
   "pygments_lexer": "ipython2",
   "version": "2.7.9"
  }
 },
 "nbformat": 4,
 "nbformat_minor": 0
}
