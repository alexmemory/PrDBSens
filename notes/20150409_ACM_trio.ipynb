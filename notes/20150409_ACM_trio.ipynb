{
 "cells": [
  {
   "cell_type": "markdown",
   "metadata": {},
   "source": [
    "# Setup"
   ]
  },
  {
   "cell_type": "markdown",
   "metadata": {},
   "source": [
    "I'm using a separate version of python (maybe I shouldn't) and the only way I got this to work was to cd into the source directory."
   ]
  },
  {
   "cell_type": "code",
   "execution_count": 2,
   "metadata": {
    "collapsed": false
   },
   "outputs": [
    {
     "name": "stdout",
     "output_type": "stream",
     "text": [
      "/home/amemory/opt/Trio-1.1.3/trio\n"
     ]
    }
   ],
   "source": [
    "cd /home/amemory/opt/Trio-1.1.3/trio/"
   ]
  },
  {
   "cell_type": "code",
   "execution_count": 3,
   "metadata": {
    "collapsed": false
   },
   "outputs": [
    {
     "data": {
      "text/plain": [
       "u'/home/amemory/opt/Trio-1.1.3/trio'"
      ]
     },
     "execution_count": 3,
     "metadata": {},
     "output_type": "execute_result"
    }
   ],
   "source": [
    "pwd"
   ]
  },
  {
   "cell_type": "code",
   "execution_count": 4,
   "metadata": {
    "collapsed": false
   },
   "outputs": [
    {
     "name": "stdout",
     "output_type": "stream",
     "text": [
      "common.py  __init__.py\tparser\tsql\t  triodb.py   visitor\r\n",
      "executor   node.py\tspi\ttrio.cfg  triodb.pyc  xtuple.py\r\n"
     ]
    }
   ],
   "source": [
    "!ls"
   ]
  },
  {
   "cell_type": "code",
   "execution_count": 5,
   "metadata": {
    "collapsed": false
   },
   "outputs": [],
   "source": [
    "import triodb"
   ]
  },
  {
   "cell_type": "code",
   "execution_count": 6,
   "metadata": {
    "collapsed": false
   },
   "outputs": [],
   "source": [
    "conn = triodb.connect(database='trio1', \n",
    "                      user='amemory', \n",
    "                      password='password')"
   ]
  },
  {
   "cell_type": "code",
   "execution_count": 7,
   "metadata": {
    "collapsed": false
   },
   "outputs": [],
   "source": [
    "#conn.close()"
   ]
  },
  {
   "cell_type": "markdown",
   "metadata": {},
   "source": [
    "It seems that the DB always starts empty."
   ]
  },
  {
   "cell_type": "code",
   "execution_count": 8,
   "metadata": {
    "collapsed": true
   },
   "outputs": [],
   "source": [
    "cur = conn.cursor()"
   ]
  },
  {
   "cell_type": "markdown",
   "metadata": {},
   "source": [
    "# Single tuple"
   ]
  },
  {
   "cell_type": "markdown",
   "metadata": {},
   "source": [
    "Create a single database, insert a single tuple, then query that tuple and see its lineage."
   ]
  },
  {
   "cell_type": "code",
   "execution_count": 23,
   "metadata": {
    "collapsed": false
   },
   "outputs": [],
   "source": [
    "cur.execute(\"create table CRIME(type varchar(32), sector int)\")"
   ]
  },
  {
   "cell_type": "code",
   "execution_count": 24,
   "metadata": {
    "collapsed": true
   },
   "outputs": [],
   "source": [
    "cur.execute(\"\"\"insert into CRIME values ('Kidnapping', 1)\"\"\")"
   ]
  },
  {
   "cell_type": "code",
   "execution_count": 25,
   "metadata": {
    "collapsed": true
   },
   "outputs": [],
   "source": [
    "cur.execute(\"select * from crime\")\n",
    "tlst = cur.xfetchall()"
   ]
  },
  {
   "cell_type": "code",
   "execution_count": 27,
   "metadata": {
    "collapsed": false
   },
   "outputs": [
    {
     "data": {
      "text/plain": [
       "<trio.xtuple.XTuple instance at 0x7fafeac82830>"
      ]
     },
     "execution_count": 27,
     "metadata": {},
     "output_type": "execute_result"
    }
   ],
   "source": [
    "tup = tlst[0]\n",
    "tup"
   ]
  },
  {
   "cell_type": "code",
   "execution_count": 28,
   "metadata": {
    "collapsed": false
   },
   "outputs": [
    {
     "data": {
      "text/plain": [
       "<trio.xtuple.Alternative instance at 0x7fafeac82bd8>"
      ]
     },
     "execution_count": 28,
     "metadata": {},
     "output_type": "execute_result"
    }
   ],
   "source": [
    "alt = tup.getAlternative(0)\n",
    "alt"
   ]
  },
  {
   "cell_type": "code",
   "execution_count": 29,
   "metadata": {
    "collapsed": false
   },
   "outputs": [],
   "source": [
    "alt.getConfidence()"
   ]
  },
  {
   "cell_type": "markdown",
   "metadata": {},
   "source": [
    "Not sure why there is no confidence and the computeConfidence call experiences an exception."
   ]
  },
  {
   "cell_type": "code",
   "execution_count": 30,
   "metadata": {
    "collapsed": false
   },
   "outputs": [
    {
     "data": {
      "text/plain": [
       "'error'"
      ]
     },
     "execution_count": 30,
     "metadata": {},
     "output_type": "execute_result"
    }
   ],
   "source": [
    "alt.computeConfidence(conn)"
   ]
  },
  {
   "cell_type": "code",
   "execution_count": 31,
   "metadata": {
    "collapsed": false
   },
   "outputs": [
    {
     "data": {
      "text/plain": [
       "<trio.xtuple.Lineage instance at 0x7fafeac82998>"
      ]
     },
     "execution_count": 31,
     "metadata": {},
     "output_type": "execute_result"
    }
   ],
   "source": [
    "lin = alt.getLineage()\n",
    "lin"
   ]
  },
  {
   "cell_type": "code",
   "execution_count": 32,
   "metadata": {
    "collapsed": false
   },
   "outputs": [
    {
     "data": {
      "text/plain": [
       "[('crime', 1, 0)]"
      ]
     },
     "execution_count": 32,
     "metadata": {},
     "output_type": "execute_result"
    }
   ],
   "source": [
    "lin.items()"
   ]
  },
  {
   "cell_type": "markdown",
   "metadata": {},
   "source": [
    "It seems that this lineage refers to id 1 of the crime relation."
   ]
  },
  {
   "cell_type": "code",
   "execution_count": 33,
   "metadata": {
    "collapsed": false
   },
   "outputs": [
    {
     "data": {
      "text/plain": [
       "[1]"
      ]
     },
     "execution_count": 33,
     "metadata": {},
     "output_type": "execute_result"
    }
   ],
   "source": [
    "lin.aids()"
   ]
  },
  {
   "cell_type": "code",
   "execution_count": 34,
   "metadata": {
    "collapsed": false
   },
   "outputs": [
    {
     "data": {
      "text/plain": [
       "['1']"
      ]
     },
     "execution_count": 34,
     "metadata": {},
     "output_type": "execute_result"
    }
   ],
   "source": [
    "lin.aidstrs()"
   ]
  },
  {
   "cell_type": "markdown",
   "metadata": {},
   "source": [
    "# Crime"
   ]
  },
  {
   "cell_type": "code",
   "execution_count": 50,
   "metadata": {
    "collapsed": false
   },
   "outputs": [],
   "source": [
    "conn.close()"
   ]
  },
  {
   "cell_type": "code",
   "execution_count": 51,
   "metadata": {
    "collapsed": false
   },
   "outputs": [],
   "source": [
    "conn = triodb.connect(database='trio1', \n",
    "                      user='amemory', \n",
    "                      password='password')\n",
    "cur = conn.cursor()"
   ]
  },
  {
   "cell_type": "code",
   "execution_count": 40,
   "metadata": {
    "collapsed": false
   },
   "outputs": [],
   "source": [
    "# Causes an error -- the DB is empty again after closing and reopening\n",
    "# cur.execute(\"select * from crime\")\n",
    "# tlst = cur.xfetchall()"
   ]
  },
  {
   "cell_type": "markdown",
   "metadata": {},
   "source": [
    "## Load crime"
   ]
  },
  {
   "cell_type": "code",
   "execution_count": 52,
   "metadata": {
    "collapsed": true
   },
   "outputs": [],
   "source": [
    "sql = \"\"\"\n",
    "create table CRIME(type varchar(32), sector int);\n",
    "insert into CRIME values ('Kidnapping', 1); \n",
    "insert into CRIME values ('Car theft', 2); \n",
    "insert into CRIME values ('Robbery', 2); \n",
    "create table WITNESS(name varchar(32), sector int);\n",
    "insert into WITNESS values ('Mary', 2);\n",
    "insert into WITNESS values ('Susan', 1);\n",
    "insert into WITNESS values ('Jane', 1);\n",
    "create table PERSON(name varchar(32), hair varchar(32), clothes varchar(32));\n",
    "insert into PERSON values ('Jim', 'black', 'red');\n",
    "insert into PERSON values ('Hank', 'brown', 'green');\n",
    "insert into PERSON values ('Bob', 'gray', 'blue');\n",
    "create trio table SAWPERSON(witness varchar(32), hair varchar(32), clothes varchar(32), uncertain(hair, clothes)); \n",
    "insert into SAWPERSON values ('Mary', 'black', ['red' | 'green']);\n",
    "insert into SAWPERSON values ('Jane', 'gray', 'blue');\n",
    "insert into SAWPERSON values ('Jane', 'brown', 'green') ?;\n",
    "insert into SAWPERSON values [('Susan', 'gray', 'red') |('Susan', 'brown', 'red') |('Susan', 'brown', 'green')];\n",
    "create trio table DRIVES(person varchar(32), car varchar(32), uncertain(person, car)) with confidences;\n",
    "insert into DRIVES values [('Jim', 'Honda'):1];\n",
    "insert into DRIVES values (['Hank':0.6 | 'Jim':0.3], 'Toyota':1);\n",
    "insert into DRIVES values ('Bob':1, ['Toyota':0.5 | 'Mazda':0.3]);\n",
    "create trio table SAWCAR(witness varchar(32), car varchar(32), uncertain(car)) with confidences;\n",
    "insert into SAWCAR values [('Susan', 'Honda') :1];\n",
    "insert into SAWCAR values ('Mary':1, 'Toyota':0.7);\n",
    "insert into SAWCAR values [ ('Jane', 'Toyota' ) :0.5 | ('Jane', 'Honda') :0.4];\n",
    "\"\"\""
   ]
  },
  {
   "cell_type": "code",
   "execution_count": 53,
   "metadata": {
    "collapsed": false
   },
   "outputs": [
    {
     "name": "stdout",
     "output_type": "stream",
     "text": [
      "create table CRIME(type varchar(32), sector int)\n",
      "insert into CRIME values ('Kidnapping', 1)\n",
      "insert into CRIME values ('Car theft', 2)\n",
      "insert into CRIME values ('Robbery', 2)\n",
      "create table WITNESS(name varchar(32), sector int)\n",
      "insert into WITNESS values ('Mary', 2)\n",
      "insert into WITNESS values ('Susan', 1)\n",
      "insert into WITNESS values ('Jane', 1)\n",
      "create table PERSON(name varchar(32), hair varchar(32), clothes varchar(32))\n",
      "insert into PERSON values ('Jim', 'black', 'red')\n",
      "insert into PERSON values ('Hank', 'brown', 'green')\n",
      "insert into PERSON values ('Bob', 'gray', 'blue')\n",
      "create trio table SAWPERSON(witness varchar(32), hair varchar(32), clothes varchar(32), uncertain(hair, clothes))\n",
      "insert into SAWPERSON values ('Mary', 'black', ['red' | 'green'])\n",
      "insert into SAWPERSON values ('Jane', 'gray', 'blue')\n",
      "insert into SAWPERSON values ('Jane', 'brown', 'green') ?\n",
      "insert into SAWPERSON values [('Susan', 'gray', 'red') |('Susan', 'brown', 'red') |('Susan', 'brown', 'green')]\n",
      "create trio table DRIVES(person varchar(32), car varchar(32), uncertain(person, car)) with confidences\n",
      "insert into DRIVES values [('Jim', 'Honda'):1]\n",
      "insert into DRIVES values (['Hank':0.6 | 'Jim':0.3], 'Toyota':1)\n",
      "insert into DRIVES values ('Bob':1, ['Toyota':0.5 | 'Mazda':0.3])\n",
      "create trio table SAWCAR(witness varchar(32), car varchar(32), uncertain(car)) with confidences\n",
      "insert into SAWCAR values [('Susan', 'Honda') :1]\n",
      "insert into SAWCAR values ('Mary':1, 'Toyota':0.7)\n",
      "insert into SAWCAR values [ ('Jane', 'Toyota' ) :0.5 | ('Jane', 'Honda') :0.4]\n",
      "\n"
     ]
    }
   ],
   "source": [
    "for line in sql.split(\";\"):\n",
    "    line = line.strip()\n",
    "    line = line.replace(\"\\n\",\" \")\n",
    "    print line\n",
    "    if line == \"\":\n",
    "        continue\n",
    "    cur.execute(line)"
   ]
  },
  {
   "cell_type": "markdown",
   "metadata": {},
   "source": [
    "## Crime views"
   ]
  },
  {
   "cell_type": "code",
   "execution_count": 56,
   "metadata": {
    "collapsed": true
   },
   "outputs": [],
   "source": [
    "sql = \"\"\"\n",
    "create table SUSPECT_S as\n",
    "select PERSON.name as suspect, CRIME.type as crime\n",
    "from  SAWPERSON, WITNESS, CRIME, PERSON\n",
    "where SAWPERSON.witness = WITNESS.name\n",
    "  and CRIME.sector = WITNESS.sector \n",
    "  and PERSON.hair = SAWPERSON.hair\n",
    "  and PERSON.clothes = SAWPERSON.clothes;\n",
    "\n",
    "create table SUSPECT_D as \n",
    "select DRIVES.person as suspect, CRIME.type as crime\n",
    "from  SAWCAR, WITNESS, CRIME, DRIVES\n",
    "where SAWCAR.witness = WITNESS.name\n",
    "  and WITNESS.sector = CRIME.sector\n",
    "  and DRIVES.car = SAWCAR.car; \n",
    "\n",
    "create table HIGH_SUSPECT as\n",
    "select SUSPECT_D.suspect, SUSPECT_D.crime\n",
    "from SUSPECT_D, SUSPECT_S\n",
    "where SUSPECT_D.suspect = SUSPECT_S.suspect \n",
    "  and SUSPECT_D.crime = SUSPECT_S.crime\n",
    "  and conf(SUSPECT_D) >= 0.25;\n",
    "\n",
    "create table ACCOMPLICES as \n",
    "select S1.suspect as name1, S2.suspect as name2 \n",
    "from SUSPECT_D S1, SUSPECT_D S2\n",
    "where S1.crime = S2.crime\n",
    "  and S1.suspect < S2.suspect;\n",
    "\"\"\""
   ]
  },
  {
   "cell_type": "code",
   "execution_count": 57,
   "metadata": {
    "collapsed": false
   },
   "outputs": [
    {
     "name": "stdout",
     "output_type": "stream",
     "text": [
      "create table SUSPECT_S as select PERSON.name as suspect, CRIME.type as crime from  SAWPERSON, WITNESS, CRIME, PERSON where SAWPERSON.witness = WITNESS.name   and CRIME.sector = WITNESS.sector    and PERSON.hair = SAWPERSON.hair   and PERSON.clothes = SAWPERSON.clothes\n",
      "SELECT: 0.00502395629883\n",
      "INDEX:  0\n",
      "create table SUSPECT_D as  select DRIVES.person as suspect, CRIME.type as crime from  SAWCAR, WITNESS, CRIME, DRIVES where SAWCAR.witness = WITNESS.name   and WITNESS.sector = CRIME.sector   and DRIVES.car = SAWCAR.car\n",
      "SELECT: 0.00916695594788\n",
      "INDEX:  0\n",
      "create table HIGH_SUSPECT as select SUSPECT_D.suspect, SUSPECT_D.crime from SUSPECT_D, SUSPECT_S where SUSPECT_D.suspect = SUSPECT_S.suspect    and SUSPECT_D.crime = SUSPECT_S.crime   and conf(SUSPECT_D) >= 0.25\n",
      "SELECT: 0.00465202331543\n",
      "INDEX:  0\n",
      "select suspect, crime from HIGH_SUSPECT H, WITNESS W where H ==> W and W.name = 'Susan'\n",
      "create table ACCOMPLICES as  select S1.suspect as name1, S2.suspect as name2  from SUSPECT_D S1, SUSPECT_D S2 where S1.crime = S2.crime   and S1.suspect < S2.suspect\n",
      "SELECT: 0.00960493087769\n",
      "INDEX:  0\n",
      "\n"
     ]
    }
   ],
   "source": [
    "for line in sql.split(\";\"):\n",
    "    line = line.strip()\n",
    "    line = line.replace(\"\\n\",\" \")\n",
    "    print line\n",
    "    if line == \"\":\n",
    "        continue\n",
    "    cur.execute(line)"
   ]
  },
  {
   "cell_type": "markdown",
   "metadata": {},
   "source": [
    "## Query"
   ]
  },
  {
   "cell_type": "code",
   "execution_count": 58,
   "metadata": {
    "collapsed": true
   },
   "outputs": [],
   "source": [
    "sql = \"\"\"\n",
    "select suspect, crime\n",
    "from HIGH_SUSPECT H, WITNESS W\n",
    "where H ==> W\n",
    "and W.name = 'Susan';\n",
    "\"\"\""
   ]
  },
  {
   "cell_type": "code",
   "execution_count": 65,
   "metadata": {
    "collapsed": true
   },
   "outputs": [],
   "source": [
    "def q(sql):\n",
    "    return sql.replace(\"\\n\",\" \").replace(\";\",\"\")"
   ]
  },
  {
   "cell_type": "code",
   "execution_count": 67,
   "metadata": {
    "collapsed": false
   },
   "outputs": [],
   "source": [
    "cur.execute(\"select suspect, crime from HIGH_SUSPECT H, WITNESS W where H ==> W and W.name = 'Susan'\")\n",
    "tlst = cur.xfetchall()"
   ]
  },
  {
   "cell_type": "code",
   "execution_count": 72,
   "metadata": {
    "collapsed": false
   },
   "outputs": [
    {
     "data": {
      "text/plain": [
       "<trio.xtuple.XTuple instance at 0x7fafeac6be18>"
      ]
     },
     "execution_count": 72,
     "metadata": {},
     "output_type": "execute_result"
    }
   ],
   "source": [
    "tup = tlst[0]\n",
    "tup"
   ]
  },
  {
   "cell_type": "code",
   "execution_count": 75,
   "metadata": {
    "collapsed": false
   },
   "outputs": [
    {
     "data": {
      "text/plain": [
       "<trio.xtuple.Alternative instance at 0x7fafeac70320>"
      ]
     },
     "execution_count": 75,
     "metadata": {},
     "output_type": "execute_result"
    }
   ],
   "source": [
    "alt = tup.alternatives[0]\n",
    "alt"
   ]
  },
  {
   "cell_type": "code",
   "execution_count": 76,
   "metadata": {
    "collapsed": false
   },
   "outputs": [
    {
     "data": {
      "text/plain": [
       "<trio.xtuple.Lineage instance at 0x7fafeac6b950>"
      ]
     },
     "execution_count": 76,
     "metadata": {},
     "output_type": "execute_result"
    }
   ],
   "source": [
    "lin = alt.getLineage()\n",
    "lin"
   ]
  },
  {
   "cell_type": "code",
   "execution_count": 78,
   "metadata": {
    "collapsed": false
   },
   "outputs": [
    {
     "data": {
      "text/plain": [
       "[('high_suspect', 2, 0), ('witness', 2, 0)]"
      ]
     },
     "execution_count": 78,
     "metadata": {},
     "output_type": "execute_result"
    }
   ],
   "source": [
    "lin.items()"
   ]
  },
  {
   "cell_type": "markdown",
   "metadata": {},
   "source": [
    "Not sure this lineage makes sense yet, but it seems to be a conjunction of the 2nd tuple of high_suspect and the 2nd tuple of witness."
   ]
  }
 ],
 "metadata": {
  "kernelspec": {
   "display_name": "Python 2",
   "language": "python",
   "name": "python2"
  },
  "language_info": {
   "codemirror_mode": {
    "name": "ipython",
    "version": 2
   },
   "file_extension": ".py",
   "mimetype": "text/x-python",
   "name": "python",
   "nbconvert_exporter": "python",
   "pygments_lexer": "ipython2",
   "version": "2.7.9"
  }
 },
 "nbformat": 4,
 "nbformat_minor": 0
}
