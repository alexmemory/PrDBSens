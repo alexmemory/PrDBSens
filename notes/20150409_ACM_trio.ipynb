{
 "cells": [
  {
   "cell_type": "markdown",
   "metadata": {},
   "source": [
    "# Intro"
   ]
  },
  {
   "cell_type": "markdown",
   "metadata": {},
   "source": [
    "Experiment notes using Trio to calculate the effects of transformations on some confidences provided as input."
   ]
  },
  {
   "cell_type": "markdown",
   "metadata": {},
   "source": [
    "# Setup"
   ]
  },
  {
   "cell_type": "code",
   "execution_count": 2,
   "metadata": {
    "collapsed": false
   },
   "outputs": [
    {
     "name": "stdout",
     "output_type": "stream",
     "text": [
      "/home/amemory/Git/PrDBSens\n"
     ]
    }
   ],
   "source": [
    "cd .."
   ]
  },
  {
   "cell_type": "code",
   "execution_count": 3,
   "metadata": {
    "collapsed": false
   },
   "outputs": [
    {
     "data": {
      "text/plain": [
       "u'/home/amemory/Git/PrDBSens'"
      ]
     },
     "execution_count": 3,
     "metadata": {},
     "output_type": "execute_result"
    }
   ],
   "source": [
    "pwd"
   ]
  },
  {
   "cell_type": "code",
   "execution_count": 4,
   "metadata": {
    "collapsed": false
   },
   "outputs": [],
   "source": [
    "# %load_ext secnum\n",
    "# %secnum"
   ]
  },
  {
   "cell_type": "code",
   "execution_count": 5,
   "metadata": {
    "collapsed": true
   },
   "outputs": [],
   "source": [
    "%matplotlib inline"
   ]
  },
  {
   "cell_type": "code",
   "execution_count": 122,
   "metadata": {
    "collapsed": false
   },
   "outputs": [],
   "source": [
    "from trio import triodb\n",
    "import pandas as pd\n",
    "import numpy as np\n",
    "import pprint\n",
    "import matplotlib as mpl\n",
    "import matplotlib.pyplot as plt\n",
    "import yaml\n",
    "#from scipy.stats import spearmanr"
   ]
  },
  {
   "cell_type": "code",
   "execution_count": 7,
   "metadata": {
    "collapsed": false
   },
   "outputs": [],
   "source": [
    "conn = triodb.connect(database='trio1', \n",
    "                      user='amemory', \n",
    "                      password='password')"
   ]
  },
  {
   "cell_type": "code",
   "execution_count": 8,
   "metadata": {
    "collapsed": false
   },
   "outputs": [],
   "source": [
    "#conn.close()"
   ]
  },
  {
   "cell_type": "markdown",
   "metadata": {},
   "source": [
    "It seems that the DB always starts empty."
   ]
  },
  {
   "cell_type": "code",
   "execution_count": 9,
   "metadata": {
    "collapsed": true
   },
   "outputs": [],
   "source": [
    "cur = conn.cursor()"
   ]
  },
  {
   "cell_type": "markdown",
   "metadata": {},
   "source": [
    "# Single tuple"
   ]
  },
  {
   "cell_type": "markdown",
   "metadata": {},
   "source": [
    "A small example just to demonstrate the Trio API."
   ]
  },
  {
   "cell_type": "markdown",
   "metadata": {},
   "source": [
    "Create a single database, insert a single tuple, then query that tuple and see its lineage."
   ]
  },
  {
   "cell_type": "code",
   "execution_count": 10,
   "metadata": {
    "collapsed": false
   },
   "outputs": [],
   "source": [
    "cur.execute(\"create table CRIME(type varchar(32), sector int)\")"
   ]
  },
  {
   "cell_type": "code",
   "execution_count": 11,
   "metadata": {
    "collapsed": true
   },
   "outputs": [],
   "source": [
    "cur.execute(\"\"\"insert into CRIME values ('Kidnapping', 1)\"\"\")"
   ]
  },
  {
   "cell_type": "code",
   "execution_count": 12,
   "metadata": {
    "collapsed": true
   },
   "outputs": [],
   "source": [
    "cur.execute(\"select * from crime\")\n",
    "tlst = cur.xfetchall()"
   ]
  },
  {
   "cell_type": "code",
   "execution_count": 13,
   "metadata": {
    "collapsed": false
   },
   "outputs": [
    {
     "data": {
      "text/plain": [
       "<trio.xtuple.XTuple instance at 0x7f23528cc0e0>"
      ]
     },
     "execution_count": 13,
     "metadata": {},
     "output_type": "execute_result"
    }
   ],
   "source": [
    "tup = tlst[0]\n",
    "tup"
   ]
  },
  {
   "cell_type": "code",
   "execution_count": 14,
   "metadata": {
    "collapsed": false
   },
   "outputs": [
    {
     "data": {
      "text/plain": [
       "<trio.xtuple.Alternative instance at 0x7f23528ccea8>"
      ]
     },
     "execution_count": 14,
     "metadata": {},
     "output_type": "execute_result"
    }
   ],
   "source": [
    "alt = tup.getAlternative(0)\n",
    "alt"
   ]
  },
  {
   "cell_type": "code",
   "execution_count": 15,
   "metadata": {
    "collapsed": false
   },
   "outputs": [],
   "source": [
    "alt.getConfidence()"
   ]
  },
  {
   "cell_type": "markdown",
   "metadata": {},
   "source": [
    "Not sure why there is no confidence and the computeConfidence call experiences an exception."
   ]
  },
  {
   "cell_type": "code",
   "execution_count": 16,
   "metadata": {
    "collapsed": false
   },
   "outputs": [
    {
     "name": "stdout",
     "output_type": "stream",
     "text": [
      "ERROR:  cannot update view \"crime\"\n",
      "DETAIL:  Views that return the same column more than once are not automatically updatable.\n",
      "HINT:  To enable updating the view, provide an INSTEAD OF UPDATE trigger or an unconditional ON UPDATE DO INSTEAD rule.\n",
      "CONTEXT:  SQL statement \"update crime set trio_conf=1 where trio_aid=1\"\n",
      "PL/pgSQL function conf(text[],integer[],integer[],double precision[],integer,integer) line 21 at EXECUTE statement\n",
      "\n"
     ]
    },
    {
     "data": {
      "text/plain": [
       "'error'"
      ]
     },
     "execution_count": 16,
     "metadata": {},
     "output_type": "execute_result"
    }
   ],
   "source": [
    "alt.computeConfidence(conn)"
   ]
  },
  {
   "cell_type": "code",
   "execution_count": 31,
   "metadata": {
    "collapsed": false
   },
   "outputs": [
    {
     "data": {
      "text/plain": [
       "<trio.xtuple.Lineage instance at 0x7fafeac82998>"
      ]
     },
     "execution_count": 31,
     "metadata": {},
     "output_type": "execute_result"
    }
   ],
   "source": [
    "lin = alt.getLineage()\n",
    "lin"
   ]
  },
  {
   "cell_type": "code",
   "execution_count": 32,
   "metadata": {
    "collapsed": false
   },
   "outputs": [
    {
     "data": {
      "text/plain": [
       "[('crime', 1, 0)]"
      ]
     },
     "execution_count": 32,
     "metadata": {},
     "output_type": "execute_result"
    }
   ],
   "source": [
    "lin.items()"
   ]
  },
  {
   "cell_type": "markdown",
   "metadata": {},
   "source": [
    "It seems that this lineage refers to id 1 of the crime relation."
   ]
  },
  {
   "cell_type": "code",
   "execution_count": 33,
   "metadata": {
    "collapsed": false
   },
   "outputs": [
    {
     "data": {
      "text/plain": [
       "[1]"
      ]
     },
     "execution_count": 33,
     "metadata": {},
     "output_type": "execute_result"
    }
   ],
   "source": [
    "lin.aids()"
   ]
  },
  {
   "cell_type": "code",
   "execution_count": 34,
   "metadata": {
    "collapsed": false
   },
   "outputs": [
    {
     "data": {
      "text/plain": [
       "['1']"
      ]
     },
     "execution_count": 34,
     "metadata": {},
     "output_type": "execute_result"
    }
   ],
   "source": [
    "lin.aidstrs()"
   ]
  },
  {
   "cell_type": "markdown",
   "metadata": {},
   "source": [
    "# Crime"
   ]
  },
  {
   "cell_type": "markdown",
   "metadata": {},
   "source": [
    "Load the entire crime data example provided with Trio and run the queries provided with it."
   ]
  },
  {
   "cell_type": "code",
   "execution_count": 76,
   "metadata": {
    "collapsed": false
   },
   "outputs": [],
   "source": [
    "conn.close()"
   ]
  },
  {
   "cell_type": "code",
   "execution_count": 9,
   "metadata": {
    "collapsed": false
   },
   "outputs": [],
   "source": [
    "conn = triodb.connect(database='trio1', \n",
    "                      user='amemory', \n",
    "                      password='password')\n",
    "cur = conn.cursor()"
   ]
  },
  {
   "cell_type": "code",
   "execution_count": 40,
   "metadata": {
    "collapsed": false
   },
   "outputs": [],
   "source": [
    "# Causes an error -- the DB is empty again after closing and reopening\n",
    "# cur.execute(\"select * from crime\")\n",
    "# tlst = cur.xfetchall()"
   ]
  },
  {
   "cell_type": "markdown",
   "metadata": {},
   "source": [
    "## Load crime"
   ]
  },
  {
   "cell_type": "code",
   "execution_count": 10,
   "metadata": {
    "collapsed": true
   },
   "outputs": [],
   "source": [
    "sql = \"\"\"\n",
    "create table CRIME(type varchar(32), sector int);\n",
    "insert into CRIME values ('Kidnapping', 1); \n",
    "insert into CRIME values ('Car theft', 2); \n",
    "insert into CRIME values ('Robbery', 2); \n",
    "create table WITNESS(name varchar(32), sector int);\n",
    "insert into WITNESS values ('Mary', 2);\n",
    "insert into WITNESS values ('Susan', 1);\n",
    "insert into WITNESS values ('Jane', 1);\n",
    "create table PERSON(name varchar(32), hair varchar(32), clothes varchar(32));\n",
    "insert into PERSON values ('Jim', 'black', 'red');\n",
    "insert into PERSON values ('Hank', 'brown', 'green');\n",
    "insert into PERSON values ('Bob', 'gray', 'blue');\n",
    "create trio table SAWPERSON(witness varchar(32), hair varchar(32), clothes varchar(32), uncertain(hair, clothes)); \n",
    "insert into SAWPERSON values ('Mary', 'black', ['red' | 'green']);\n",
    "insert into SAWPERSON values ('Jane', 'gray', 'blue');\n",
    "insert into SAWPERSON values ('Jane', 'brown', 'green') ?;\n",
    "insert into SAWPERSON values [('Susan', 'gray', 'red') |('Susan', 'brown', 'red') |('Susan', 'brown', 'green')];\n",
    "create trio table DRIVES(person varchar(32), car varchar(32), uncertain(person, car)) with confidences;\n",
    "insert into DRIVES values [('Jim', 'Honda'):1];\n",
    "insert into DRIVES values (['Hank':0.6 | 'Jim':0.3], 'Toyota':1);\n",
    "insert into DRIVES values ('Bob':1, ['Toyota':0.5 | 'Mazda':0.3]);\n",
    "create trio table SAWCAR(witness varchar(32), car varchar(32), uncertain(car)) with confidences;\n",
    "insert into SAWCAR values [('Susan', 'Honda') :1];\n",
    "insert into SAWCAR values ('Mary':1, 'Toyota':0.7);\n",
    "insert into SAWCAR values [ ('Jane', 'Toyota' ) :0.5 | ('Jane', 'Honda') :0.4];\n",
    "\"\"\""
   ]
  },
  {
   "cell_type": "code",
   "execution_count": 11,
   "metadata": {
    "collapsed": false
   },
   "outputs": [
    {
     "name": "stdout",
     "output_type": "stream",
     "text": [
      "create table CRIME(type varchar(32), sector int)\n",
      "insert into CRIME values ('Kidnapping', 1)\n",
      "insert into CRIME values ('Car theft', 2)\n",
      "insert into CRIME values ('Robbery', 2)\n",
      "create table WITNESS(name varchar(32), sector int)\n",
      "insert into WITNESS values ('Mary', 2)\n",
      "insert into WITNESS values ('Susan', 1)\n",
      "insert into WITNESS values ('Jane', 1)\n",
      "create table PERSON(name varchar(32), hair varchar(32), clothes varchar(32))\n",
      "insert into PERSON values ('Jim', 'black', 'red')\n",
      "insert into PERSON values ('Hank', 'brown', 'green')\n",
      "insert into PERSON values ('Bob', 'gray', 'blue')\n",
      "create trio table SAWPERSON(witness varchar(32), hair varchar(32), clothes varchar(32), uncertain(hair, clothes))\n",
      "insert into SAWPERSON values ('Mary', 'black', ['red' | 'green'])\n",
      "insert into SAWPERSON values ('Jane', 'gray', 'blue')\n",
      "insert into SAWPERSON values ('Jane', 'brown', 'green') ?\n",
      "insert into SAWPERSON values [('Susan', 'gray', 'red') |('Susan', 'brown', 'red') |('Susan', 'brown', 'green')]\n",
      "create trio table DRIVES(person varchar(32), car varchar(32), uncertain(person, car)) with confidences\n",
      "insert into DRIVES values [('Jim', 'Honda'):1]\n",
      "insert into DRIVES values (['Hank':0.6 | 'Jim':0.3], 'Toyota':1)\n",
      "insert into DRIVES values ('Bob':1, ['Toyota':0.5 | 'Mazda':0.3])\n",
      "create trio table SAWCAR(witness varchar(32), car varchar(32), uncertain(car)) with confidences\n",
      "insert into SAWCAR values [('Susan', 'Honda') :1]\n",
      "insert into SAWCAR values ('Mary':1, 'Toyota':0.7)\n",
      "insert into SAWCAR values [ ('Jane', 'Toyota' ) :0.5 | ('Jane', 'Honda') :0.4]\n",
      "\n"
     ]
    }
   ],
   "source": [
    "for line in sql.split(\";\"):\n",
    "    line = line.strip()\n",
    "    line = line.replace(\"\\n\",\" \")\n",
    "    print line\n",
    "    if line == \"\":\n",
    "        continue\n",
    "    cur.execute(line)"
   ]
  },
  {
   "cell_type": "markdown",
   "metadata": {},
   "source": [
    "## Crime views"
   ]
  },
  {
   "cell_type": "code",
   "execution_count": 12,
   "metadata": {
    "collapsed": true
   },
   "outputs": [],
   "source": [
    "sql = \"\"\"\n",
    "create table SUSPECT_S as\n",
    "select PERSON.name as suspect, CRIME.type as crime\n",
    "from  SAWPERSON, WITNESS, CRIME, PERSON\n",
    "where SAWPERSON.witness = WITNESS.name\n",
    "  and CRIME.sector = WITNESS.sector \n",
    "  and PERSON.hair = SAWPERSON.hair\n",
    "  and PERSON.clothes = SAWPERSON.clothes;\n",
    "\n",
    "create table SUSPECT_D as \n",
    "select DRIVES.person as suspect, CRIME.type as crime\n",
    "from  SAWCAR, WITNESS, CRIME, DRIVES\n",
    "where SAWCAR.witness = WITNESS.name\n",
    "  and WITNESS.sector = CRIME.sector\n",
    "  and DRIVES.car = SAWCAR.car; \n",
    "\n",
    "create table HIGH_SUSPECT as\n",
    "select SUSPECT_D.suspect, SUSPECT_D.crime\n",
    "from SUSPECT_D, SUSPECT_S\n",
    "where SUSPECT_D.suspect = SUSPECT_S.suspect \n",
    "  and SUSPECT_D.crime = SUSPECT_S.crime\n",
    "  and conf(SUSPECT_D) >= 0.25;\n",
    "\n",
    "create table ACCOMPLICES as \n",
    "select S1.suspect as name1, S2.suspect as name2 \n",
    "from SUSPECT_D S1, SUSPECT_D S2\n",
    "where S1.crime = S2.crime\n",
    "  and S1.suspect < S2.suspect;\n",
    "\"\"\""
   ]
  },
  {
   "cell_type": "code",
   "execution_count": 13,
   "metadata": {
    "collapsed": false
   },
   "outputs": [
    {
     "name": "stdout",
     "output_type": "stream",
     "text": [
      "create table SUSPECT_S as select PERSON.name as suspect, CRIME.type as crime from  SAWPERSON, WITNESS, CRIME, PERSON where SAWPERSON.witness = WITNESS.name   and CRIME.sector = WITNESS.sector    and PERSON.hair = SAWPERSON.hair   and PERSON.clothes = SAWPERSON.clothes\n",
      "SELECT: 0.00501799583435\n",
      "INDEX:  0\n",
      "create table SUSPECT_D as  select DRIVES.person as suspect, CRIME.type as crime from  SAWCAR, WITNESS, CRIME, DRIVES where SAWCAR.witness = WITNESS.name   and WITNESS.sector = CRIME.sector   and DRIVES.car = SAWCAR.car\n",
      "SELECT: 0.00858497619629\n",
      "INDEX:  0\n",
      "create table HIGH_SUSPECT as select SUSPECT_D.suspect, SUSPECT_D.crime from SUSPECT_D, SUSPECT_S where SUSPECT_D.suspect = SUSPECT_S.suspect    and SUSPECT_D.crime = SUSPECT_S.crime   and conf(SUSPECT_D) >= 0.25\n",
      "SELECT: 0.00472402572632\n",
      "INDEX:  0\n",
      "create table ACCOMPLICES as  select S1.suspect as name1, S2.suspect as name2  from SUSPECT_D S1, SUSPECT_D S2 where S1.crime = S2.crime   and S1.suspect < S2.suspect\n",
      "SELECT: 0.00794291496277\n",
      "INDEX:  0\n",
      "\n"
     ]
    }
   ],
   "source": [
    "for line in sql.split(\";\"):\n",
    "    line = line.strip()\n",
    "    line = line.replace(\"\\n\",\" \")\n",
    "    print line\n",
    "    if line == \"\":\n",
    "        continue\n",
    "    cur.execute(line)"
   ]
  },
  {
   "cell_type": "markdown",
   "metadata": {},
   "source": [
    "## Functions"
   ]
  },
  {
   "cell_type": "code",
   "execution_count": 21,
   "metadata": {
    "collapsed": true
   },
   "outputs": [],
   "source": [
    "def grabtupleBadWay(tablename,aid,cur):\n",
    "        cur.execute(\"\"\"SELECT * from %s\"\"\" % (tablename,))\n",
    "        lst = cur.xfetchall()\n",
    "        tup = lst[aid-1]\n",
    "        return tup\n",
    "        \n",
    "def disjToString(disj):\n",
    "        if disj==0:\n",
    "                return \"and\"\n",
    "        elif disj==1:\n",
    "                return \"or\"\n",
    "        elif disj==2:\n",
    "                return \"and not\"\n",
    "        else:\n",
    "                return \"error\"\n",
    "\n",
    "def buildLinageBadWay(linage,cur,conn):\n",
    "        explanation = \"\";\n",
    "        formula = []\n",
    "        i = 0\n",
    "        for elem in linage.items():\n",
    "                (tablename,aid,disj) = elem\n",
    "                tup = grabtupleBadWay(tablename,aid,cur)\n",
    "                if len(tup)>0:\n",
    "                        alt = tup.getAlternative(0)\n",
    "                        if alt.getQuestionMark():\n",
    "                                conf = alt.computeConfidence(conn)\n",
    "                        else:\n",
    "                                conf = float(1)\n",
    "                        newelem = (conf, disj)\n",
    "                        formula.append(newelem)\n",
    "                        srtup = str(tup[0])+\": \"+str(conf)\n",
    "                        explanation = explanation + srtup +\" \"+disjToString(disj)+\" \"\n",
    "                else:\n",
    "                        raise Exception(\"No tuple: \"+str(tablename)+\" \"+str(aid)+\" exists!\")\n",
    "        print explanation\n",
    "        return formula\n"
   ]
  },
  {
   "cell_type": "code",
   "execution_count": 36,
   "metadata": {
    "collapsed": true
   },
   "outputs": [],
   "source": [
    "def q(sql):\n",
    "    return sql.replace(\"\\n\",\" \").replace(\";\",\"\")"
   ]
  },
  {
   "cell_type": "markdown",
   "metadata": {},
   "source": [
    "## Tables"
   ]
  },
  {
   "cell_type": "code",
   "execution_count": 68,
   "metadata": {
    "collapsed": false
   },
   "outputs": [
    {
     "name": "stdout",
     "output_type": "stream",
     "text": [
      "(Kidnapping,1)\n",
      "\n",
      "(Car theft,2)\n",
      "\n",
      "(Robbery,2)\n",
      "\n"
     ]
    }
   ],
   "source": [
    "cur.execute(q(\"\"\"select * from crime\"\"\"))\n",
    "for t in cur.xfetchall(): print t"
   ]
  },
  {
   "cell_type": "code",
   "execution_count": 69,
   "metadata": {
    "collapsed": false
   },
   "outputs": [
    {
     "name": "stdout",
     "output_type": "stream",
     "text": [
      "(Mary,2)\n",
      "\n",
      "(Susan,1)\n",
      "\n",
      "(Jane,1)\n",
      "\n"
     ]
    }
   ],
   "source": [
    "cur.execute(q(\"\"\"select * from witness\"\"\"))\n",
    "for t in cur.xfetchall(): print t"
   ]
  },
  {
   "cell_type": "code",
   "execution_count": 70,
   "metadata": {
    "collapsed": false
   },
   "outputs": [
    {
     "name": "stdout",
     "output_type": "stream",
     "text": [
      "(Jim,black,red)\n",
      "\n",
      "(Hank,brown,green)\n",
      "\n",
      "(Bob,gray,blue)\n",
      "\n"
     ]
    }
   ],
   "source": [
    "cur.execute(q(\"\"\"select * from person\"\"\"))\n",
    "for t in cur.xfetchall(): print t"
   ]
  },
  {
   "cell_type": "code",
   "execution_count": 71,
   "metadata": {
    "collapsed": false
   },
   "outputs": [
    {
     "name": "stdout",
     "output_type": "stream",
     "text": [
      "(Mary,black,green)|(Mary,black,red)\n",
      "\n",
      "(Jane,gray,blue)\n",
      "\n",
      "(Jane,brown,green)?\n",
      "\n",
      "(Susan,brown,green)|(Susan,brown,red)|(Susan,gray,red)\n",
      "\n"
     ]
    }
   ],
   "source": [
    "cur.execute(q(\"\"\"select * from sawperson\"\"\"))\n",
    "for t in cur.xfetchall(): print t"
   ]
  },
  {
   "cell_type": "code",
   "execution_count": 72,
   "metadata": {
    "collapsed": false
   },
   "outputs": [
    {
     "name": "stdout",
     "output_type": "stream",
     "text": [
      "(Jim,Honda)\n",
      "\n",
      "(Hank,Toyota)?|(Jim,Toyota)?\n",
      "\n",
      "(Bob,Mazda)?|(Bob,Toyota)?\n",
      "\n"
     ]
    }
   ],
   "source": [
    "cur.execute(q(\"\"\"select * from drives\"\"\"))\n",
    "for t in cur.xfetchall(): print t"
   ]
  },
  {
   "cell_type": "code",
   "execution_count": 73,
   "metadata": {
    "collapsed": false
   },
   "outputs": [
    {
     "name": "stdout",
     "output_type": "stream",
     "text": [
      "(Susan,Honda)\n",
      "\n",
      "(Mary,Toyota)?\n",
      "\n",
      "(Jane,Honda)?|(Jane,Toyota)?\n",
      "\n"
     ]
    }
   ],
   "source": [
    "cur.execute(q(\"\"\"select * from sawcar\"\"\"))\n",
    "for t in cur.xfetchall(): print t"
   ]
  },
  {
   "cell_type": "code",
   "execution_count": 74,
   "metadata": {
    "collapsed": false
   },
   "outputs": [
    {
     "name": "stdout",
     "output_type": "stream",
     "text": [
      "(Jim,Car theft)?\n",
      "\n",
      "(Jim,Robbery)?\n",
      "\n",
      "(Bob,Kidnapping)\n",
      "\n",
      "(Hank,Kidnapping)?\n",
      "\n",
      "(Hank,Kidnapping)?\n",
      "\n"
     ]
    }
   ],
   "source": [
    "cur.execute(q(\"\"\"select * from SUSPECT_S\"\"\"))\n",
    "for t in cur.xfetchall(): print t"
   ]
  },
  {
   "cell_type": "code",
   "execution_count": 75,
   "metadata": {
    "collapsed": false
   },
   "outputs": [
    {
     "name": "stdout",
     "output_type": "stream",
     "text": [
      "(Jim,Kidnapping)\n",
      "\n",
      "(Hank,Car theft)?|(Jim,Car theft)?\n",
      "\n",
      "(Bob,Car theft)?\n",
      "\n",
      "(Hank,Robbery)?|(Jim,Robbery)?\n",
      "\n",
      "(Bob,Robbery)?\n",
      "\n",
      "(Jim,Kidnapping)?\n",
      "\n",
      "(Hank,Kidnapping)?|(Jim,Kidnapping)?\n",
      "\n",
      "(Bob,Kidnapping)?\n",
      "\n"
     ]
    }
   ],
   "source": [
    "cur.execute(q(\"\"\"select * from SUSPECT_D\"\"\"))\n",
    "for t in cur.xfetchall(): print t"
   ]
  },
  {
   "cell_type": "markdown",
   "metadata": {},
   "source": [
    "## Query"
   ]
  },
  {
   "cell_type": "code",
   "execution_count": 57,
   "metadata": {
    "collapsed": true
   },
   "outputs": [],
   "source": [
    "sql = \"\"\"\n",
    "select suspect, crime\n",
    "from HIGH_SUSPECT H, WITNESS W\n",
    "where H ==> W\n",
    "and W.name = 'Susan';\n",
    "\"\"\""
   ]
  },
  {
   "cell_type": "code",
   "execution_count": 58,
   "metadata": {
    "collapsed": false
   },
   "outputs": [],
   "source": [
    "cur.execute(q(sql))\n",
    "tlst = cur.xfetchall()"
   ]
  },
  {
   "cell_type": "code",
   "execution_count": 59,
   "metadata": {
    "collapsed": true
   },
   "outputs": [],
   "source": [
    "def q(sql):\n",
    "    return sql.replace(\"\\n\",\" \").replace(\";\",\"\")"
   ]
  },
  {
   "cell_type": "code",
   "execution_count": 60,
   "metadata": {
    "collapsed": false
   },
   "outputs": [
    {
     "data": {
      "text/plain": [
       "<trio.xtuple.XTuple instance at 0x7ff12e68f8c0>"
      ]
     },
     "execution_count": 60,
     "metadata": {},
     "output_type": "execute_result"
    }
   ],
   "source": [
    "tup = tlst[0]\n",
    "tup"
   ]
  },
  {
   "cell_type": "code",
   "execution_count": 61,
   "metadata": {
    "collapsed": false
   },
   "outputs": [
    {
     "name": "stdout",
     "output_type": "stream",
     "text": [
      "(Hank,Kidnapping)?\n",
      "\n"
     ]
    }
   ],
   "source": [
    "print tup"
   ]
  },
  {
   "cell_type": "code",
   "execution_count": 62,
   "metadata": {
    "collapsed": false
   },
   "outputs": [
    {
     "data": {
      "text/plain": [
       "<trio.xtuple.Alternative instance at 0x7ff12e68f200>"
      ]
     },
     "execution_count": 62,
     "metadata": {},
     "output_type": "execute_result"
    }
   ],
   "source": [
    "alt = tup.alternatives[0]\n",
    "alt"
   ]
  },
  {
   "cell_type": "code",
   "execution_count": 63,
   "metadata": {
    "collapsed": false
   },
   "outputs": [
    {
     "data": {
      "text/plain": [
       "<trio.xtuple.Lineage instance at 0x7ff12e68f488>"
      ]
     },
     "execution_count": 63,
     "metadata": {},
     "output_type": "execute_result"
    }
   ],
   "source": [
    "lin = alt.getLineage()\n",
    "lin"
   ]
  },
  {
   "cell_type": "code",
   "execution_count": 64,
   "metadata": {
    "collapsed": false
   },
   "outputs": [
    {
     "data": {
      "text/plain": [
       "[('high_suspect', 2, 0), ('witness', 2, 0)]"
      ]
     },
     "execution_count": 64,
     "metadata": {},
     "output_type": "execute_result"
    }
   ],
   "source": [
    "lin.items()"
   ]
  },
  {
   "cell_type": "markdown",
   "metadata": {},
   "source": [
    "Not sure this lineage makes sense yet, but it seems to be a conjunction of the 2nd tuple of high_suspect and the 2nd tuple of witness."
   ]
  },
  {
   "cell_type": "code",
   "execution_count": 65,
   "metadata": {
    "collapsed": false
   },
   "outputs": [
    {
     "name": "stdout",
     "output_type": "stream",
     "text": [
      "(Hank,Kidnapping)?\n"
     ]
    }
   ],
   "source": [
    "print alt"
   ]
  },
  {
   "cell_type": "code",
   "execution_count": 66,
   "metadata": {
    "collapsed": false
   },
   "outputs": [
    {
     "name": "stdout",
     "output_type": "stream",
     "text": [
      "(Hank,Kidnapping)?: 0.1 and (Susan,1): 1.0 and \n"
     ]
    },
    {
     "data": {
      "text/plain": [
       "[(0.1, 0), (1.0, 0)]"
      ]
     },
     "execution_count": 66,
     "metadata": {},
     "output_type": "execute_result"
    }
   ],
   "source": [
    "buildLinageBadWay(lin, cur, conn)"
   ]
  },
  {
   "cell_type": "markdown",
   "metadata": {
    "collapsed": true
   },
   "source": [
    "# Tuple-uncert. crime"
   ]
  },
  {
   "cell_type": "markdown",
   "metadata": {},
   "source": [
    "Now, a different example using only flat, tuple-alternatives, not attribute uncertainty."
   ]
  },
  {
   "cell_type": "code",
   "execution_count": 108,
   "metadata": {
    "collapsed": false
   },
   "outputs": [],
   "source": [
    "conn.close()"
   ]
  },
  {
   "cell_type": "code",
   "execution_count": 85,
   "metadata": {
    "collapsed": false
   },
   "outputs": [],
   "source": [
    "conn = triodb.connect(database='trio1', \n",
    "                      user='amemory', \n",
    "                      password='password')\n",
    "cur = conn.cursor()"
   ]
  },
  {
   "cell_type": "markdown",
   "metadata": {},
   "source": [
    "## DRIVES"
   ]
  },
  {
   "cell_type": "markdown",
   "metadata": {},
   "source": [
    "Load a flat version of the DRIVES relation from the crim example, but alter the confidences provided as input."
   ]
  },
  {
   "cell_type": "code",
   "execution_count": 86,
   "metadata": {
    "collapsed": false
   },
   "outputs": [
    {
     "data": {
      "text/html": [
       "<div style=\"max-height:1000px;max-width:1500px;overflow:auto;\">\n",
       "<table border=\"1\" class=\"dataframe\">\n",
       "  <thead>\n",
       "    <tr style=\"text-align: right;\">\n",
       "      <th></th>\n",
       "      <th>person</th>\n",
       "      <th>car</th>\n",
       "      <th>conf</th>\n",
       "    </tr>\n",
       "  </thead>\n",
       "  <tbody>\n",
       "    <tr>\n",
       "      <th>0</th>\n",
       "      <td>  Jim</td>\n",
       "      <td>  Honda</td>\n",
       "      <td> 1.0</td>\n",
       "    </tr>\n",
       "    <tr>\n",
       "      <th>1</th>\n",
       "      <td> Hank</td>\n",
       "      <td> Toyota</td>\n",
       "      <td> 0.6</td>\n",
       "    </tr>\n",
       "    <tr>\n",
       "      <th>2</th>\n",
       "      <td>  Jim</td>\n",
       "      <td> Toyota</td>\n",
       "      <td> 0.3</td>\n",
       "    </tr>\n",
       "    <tr>\n",
       "      <th>3</th>\n",
       "      <td>  Bob</td>\n",
       "      <td> Toyota</td>\n",
       "      <td> 0.5</td>\n",
       "    </tr>\n",
       "    <tr>\n",
       "      <th>4</th>\n",
       "      <td>  Bob</td>\n",
       "      <td>  Mazda</td>\n",
       "      <td> 0.3</td>\n",
       "    </tr>\n",
       "  </tbody>\n",
       "</table>\n",
       "</div>"
      ],
      "text/plain": [
       "  person     car  conf\n",
       "0    Jim   Honda   1.0\n",
       "1   Hank  Toyota   0.6\n",
       "2    Jim  Toyota   0.3\n",
       "3    Bob  Toyota   0.5\n",
       "4    Bob   Mazda   0.3"
      ]
     },
     "execution_count": 86,
     "metadata": {},
     "output_type": "execute_result"
    }
   ],
   "source": [
    "# Original\n",
    "drives = pd.DataFrame([['Jim','Honda',1.0],\n",
    "                       ['Hank','Toyota',.6],\n",
    "                       ['Jim','Toyota',.3],\n",
    "                       ['Bob','Toyota',0.5],\n",
    "                       ['Bob','Mazda',0.3]\n",
    "                      ],columns=['person','car','conf'])\n",
    "drives"
   ]
  },
  {
   "cell_type": "markdown",
   "metadata": {},
   "source": [
    "Different ways of transforming the DRIVE confidence values."
   ]
  },
  {
   "cell_type": "code",
   "execution_count": 83,
   "metadata": {
    "collapsed": false
   },
   "outputs": [
    {
     "data": {
      "text/html": [
       "<div style=\"max-height:1000px;max-width:1500px;overflow:auto;\">\n",
       "<table border=\"1\" class=\"dataframe\">\n",
       "  <thead>\n",
       "    <tr style=\"text-align: right;\">\n",
       "      <th></th>\n",
       "      <th>person</th>\n",
       "      <th>car</th>\n",
       "      <th>conf</th>\n",
       "    </tr>\n",
       "  </thead>\n",
       "  <tbody>\n",
       "    <tr>\n",
       "      <th>0</th>\n",
       "      <td>  Jim</td>\n",
       "      <td>  Honda</td>\n",
       "      <td> 1.000000</td>\n",
       "    </tr>\n",
       "    <tr>\n",
       "      <th>1</th>\n",
       "      <td> Hank</td>\n",
       "      <td> Toyota</td>\n",
       "      <td> 0.774597</td>\n",
       "    </tr>\n",
       "    <tr>\n",
       "      <th>2</th>\n",
       "      <td>  Jim</td>\n",
       "      <td> Toyota</td>\n",
       "      <td> 0.547723</td>\n",
       "    </tr>\n",
       "    <tr>\n",
       "      <th>3</th>\n",
       "      <td>  Bob</td>\n",
       "      <td> Toyota</td>\n",
       "      <td> 0.707107</td>\n",
       "    </tr>\n",
       "    <tr>\n",
       "      <th>4</th>\n",
       "      <td>  Bob</td>\n",
       "      <td>  Mazda</td>\n",
       "      <td> 0.547723</td>\n",
       "    </tr>\n",
       "  </tbody>\n",
       "</table>\n",
       "</div>"
      ],
      "text/plain": [
       "  person     car      conf\n",
       "0    Jim   Honda  1.000000\n",
       "1   Hank  Toyota  0.774597\n",
       "2    Jim  Toyota  0.547723\n",
       "3    Bob  Toyota  0.707107\n",
       "4    Bob   Mazda  0.547723"
      ]
     },
     "execution_count": 83,
     "metadata": {},
     "output_type": "execute_result"
    }
   ],
   "source": [
    "# Xform confidence\n",
    "#power = (1./6.)\n",
    "#power = (1./5.)\n",
    "#power = (1./4.)\n",
    "#power = (1./3.)\n",
    "power = (1./2.)\n",
    "#power = (1.5)\n",
    "#power = (2)\n",
    "#power = (5)\n",
    "#power = (10)\n",
    "drives['conf'] = drives.conf ** power\n",
    "drives"
   ]
  },
  {
   "cell_type": "code",
   "execution_count": 87,
   "metadata": {
    "collapsed": false
   },
   "outputs": [
    {
     "name": "stdout",
     "output_type": "stream",
     "text": [
      "create trio table DRIVES(person varchar(32), car varchar(32), uncertain(person, car)) with confidences;\n",
      "insert into DRIVES values [('Jim','Honda'):1.000000];\n",
      "insert into DRIVES values [('Hank','Toyota'):0.600000];\n",
      "insert into DRIVES values [('Jim','Toyota'):0.300000];\n",
      "insert into DRIVES values [('Bob','Toyota'):0.500000];\n",
      "insert into DRIVES values [('Bob','Mazda'):0.300000];\n"
     ]
    }
   ],
   "source": [
    "# Prepare a SQL string for the drive relation (possibly with transformed confidence values).\n",
    "sqls = [\"create trio table DRIVES(person varchar(32), car varchar(32), uncertain(person, car)) with confidences;\"]\n",
    "for ind,r in drives.iterrows():\n",
    "    sqls.append(\"insert into DRIVES values [('%s','%s'):%f];\"%(r['person'],r['car'],r['conf']))\n",
    "sql = '\\n'.join(sqls)\n",
    "print str(sql)"
   ]
  },
  {
   "cell_type": "code",
   "execution_count": 88,
   "metadata": {
    "collapsed": true
   },
   "outputs": [],
   "source": [
    "# sql = \"\"\"\n",
    "# create trio table DRIVES(person varchar(32),\n",
    "# car varchar(32), uncertain(person, car))\n",
    "# with confidences;"
   ]
  },
  {
   "cell_type": "code",
   "execution_count": 89,
   "metadata": {
    "collapsed": true
   },
   "outputs": [],
   "source": [
    "# insert into DRIVES values [('Jim','Honda'):1.000000];\n",
    "# insert into DRIVES values [('Hank','Toyota'):0.600000];\n",
    "# insert into DRIVES values [('Jim','Toyota'):0.300000];\n",
    "# insert into DRIVES values [('Bob','Toyota'):0.500000];\n",
    "# insert into DRIVES values [('Bob','Mazda'):0.300000];\n",
    "# \"\"\"\n",
    "# print str(sql)"
   ]
  },
  {
   "cell_type": "code",
   "execution_count": 90,
   "metadata": {
    "collapsed": true
   },
   "outputs": [],
   "source": [
    "# def execute_sql_commands(sql, cur):                             \n",
    "#     \"\"\"Execute multiple SQL commands in a string on a cursor.\"\"\"\n",
    "#     for line in sql.split(\";\"):        \n",
    "#         line = line.strip()            \n",
    "#         line = line.replace(\"\\n\",\" \")  \n",
    "#         if line == \"\":                 \n",
    "#             continue                   \n",
    "#         print(\"sql:: ::line %s\"%line)\n",
    "#         cur.execute(line)  "
   ]
  },
  {
   "cell_type": "code",
   "execution_count": 91,
   "metadata": {
    "collapsed": false
   },
   "outputs": [],
   "source": [
    "# execute_sql_commands(sql, cur)"
   ]
  },
  {
   "cell_type": "code",
   "execution_count": 92,
   "metadata": {
    "collapsed": false
   },
   "outputs": [
    {
     "name": "stdout",
     "output_type": "stream",
     "text": [
      "create trio table DRIVES(person varchar(32), car varchar(32), uncertain(person, car)) with confidences\n",
      "insert into DRIVES values [('Jim','Honda'):1.000000]\n",
      "insert into DRIVES values [('Hank','Toyota'):0.600000]\n",
      "insert into DRIVES values [('Jim','Toyota'):0.300000]\n",
      "insert into DRIVES values [('Bob','Toyota'):0.500000]\n",
      "insert into DRIVES values [('Bob','Mazda'):0.300000]\n",
      "\n"
     ]
    }
   ],
   "source": [
    "# Load the drive relation\n",
    "for line in sql.split(\";\"):\n",
    "    line = line.strip()\n",
    "    line = line.replace(\"\\n\",\" \")\n",
    "    print line\n",
    "    if line == \"\":\n",
    "        continue\n",
    "    cur.execute(line)"
   ]
  },
  {
   "cell_type": "code",
   "execution_count": 93,
   "metadata": {
    "collapsed": false
   },
   "outputs": [],
   "source": [
    "# rows = []\n",
    "# cur.execute(q(\"\"\"select * from drives\"\"\"))\n",
    "# for t in cur.xfetchall(): \n",
    "#     print str(t).strip(), t.alternatives[0], t.alternatives[0].computeConfidence(conn)\n",
    "#     #rows.append({'tuple':str(t).strip(), 'conf':t.alternatives[0].computeConfidence(conn)})\n",
    "# #df1 = pd.DataFrame(rows)\n",
    "# #df1.sort('conf', ascending=False)"
   ]
  },
  {
   "cell_type": "code",
   "execution_count": 94,
   "metadata": {
    "collapsed": false
   },
   "outputs": [],
   "source": [
    "# rows = []\n",
    "# cur.execute(q(\"\"\"select * from drives\"\"\"))\n",
    "# for t in cur.xfetchall(): \n",
    "#     #print str(t).strip(), t.alternatives[0].computeConfidence(conn)\n",
    "#     rows.append({'tuple':str(t).strip(), 'conf':t.alternatives[0].computeConfidence(conn)})\n",
    "# df1 = pd.DataFrame(rows)\n",
    "# df1.sort('conf', ascending=False)"
   ]
  },
  {
   "cell_type": "markdown",
   "metadata": {},
   "source": [
    "## SAWCAR"
   ]
  },
  {
   "cell_type": "markdown",
   "metadata": {},
   "source": [
    "A flattened version of the sawcar relation."
   ]
  },
  {
   "cell_type": "code",
   "execution_count": 95,
   "metadata": {
    "collapsed": false,
    "scrolled": true
   },
   "outputs": [
    {
     "data": {
      "text/html": [
       "<div style=\"max-height:1000px;max-width:1500px;overflow:auto;\">\n",
       "<table border=\"1\" class=\"dataframe\">\n",
       "  <thead>\n",
       "    <tr style=\"text-align: right;\">\n",
       "      <th></th>\n",
       "      <th>witness</th>\n",
       "      <th>car</th>\n",
       "      <th>conf</th>\n",
       "    </tr>\n",
       "  </thead>\n",
       "  <tbody>\n",
       "    <tr>\n",
       "      <th>0</th>\n",
       "      <td> Susan</td>\n",
       "      <td>  Honda</td>\n",
       "      <td> 1.0</td>\n",
       "    </tr>\n",
       "    <tr>\n",
       "      <th>1</th>\n",
       "      <td>  Mary</td>\n",
       "      <td> Toyota</td>\n",
       "      <td> 0.7</td>\n",
       "    </tr>\n",
       "    <tr>\n",
       "      <th>2</th>\n",
       "      <td>  Jane</td>\n",
       "      <td> Toyota</td>\n",
       "      <td> 0.5</td>\n",
       "    </tr>\n",
       "    <tr>\n",
       "      <th>3</th>\n",
       "      <td>  Jane</td>\n",
       "      <td>  Honda</td>\n",
       "      <td> 0.4</td>\n",
       "    </tr>\n",
       "  </tbody>\n",
       "</table>\n",
       "</div>"
      ],
      "text/plain": [
       "  witness     car  conf\n",
       "0   Susan   Honda   1.0\n",
       "1    Mary  Toyota   0.7\n",
       "2    Jane  Toyota   0.5\n",
       "3    Jane   Honda   0.4"
      ]
     },
     "execution_count": 95,
     "metadata": {},
     "output_type": "execute_result"
    }
   ],
   "source": [
    "# Original\n",
    "sawcar = pd.DataFrame([['Susan', 'Honda',1],\n",
    "                       ['Mary', 'Toyota',0.7],\n",
    "                       ['Jane', 'Toyota',0.5],\n",
    "                       ['Jane', 'Honda',0.4]\n",
    "                      ],columns=['witness','car','conf'])\n",
    "sawcar"
   ]
  },
  {
   "cell_type": "code",
   "execution_count": 96,
   "metadata": {
    "collapsed": false
   },
   "outputs": [
    {
     "name": "stdout",
     "output_type": "stream",
     "text": [
      "create trio table SAWCAR(witness varchar(32), car varchar(32), uncertain(car)) with confidences;\n",
      "insert into SAWCAR values [('Susan','Honda'):1.000000];\n",
      "insert into SAWCAR values [('Mary','Toyota'):0.700000];\n",
      "insert into SAWCAR values [('Jane','Toyota'):0.500000];\n",
      "insert into SAWCAR values [('Jane','Honda'):0.400000];\n"
     ]
    }
   ],
   "source": [
    "sqls = [\"create trio table SAWCAR(witness varchar(32), car varchar(32), uncertain(car)) with confidences;\"]\n",
    "for ind,r in sawcar.iterrows():\n",
    "    sqls.append(\"insert into SAWCAR values [('%s','%s'):%f];\"%(r['witness'],r['car'],r['conf']))\n",
    "sql = '\\n'.join(sqls)\n",
    "print str(sql)"
   ]
  },
  {
   "cell_type": "markdown",
   "metadata": {},
   "source": [
    "Load it, without any transformations to its tuple confidence levels."
   ]
  },
  {
   "cell_type": "code",
   "execution_count": 97,
   "metadata": {
    "collapsed": false
   },
   "outputs": [
    {
     "name": "stdout",
     "output_type": "stream",
     "text": [
      "create trio table SAWCAR(witness varchar(32), car varchar(32), uncertain(car)) with confidences\n",
      "insert into SAWCAR values [('Susan','Honda'):1.000000]\n",
      "insert into SAWCAR values [('Mary','Toyota'):0.700000]\n",
      "insert into SAWCAR values [('Jane','Toyota'):0.500000]\n",
      "insert into SAWCAR values [('Jane','Honda'):0.400000]\n",
      "\n"
     ]
    }
   ],
   "source": [
    "for line in sql.split(\";\"):\n",
    "    line = line.strip()\n",
    "    line = line.replace(\"\\n\",\" \")\n",
    "    print line\n",
    "    if line == \"\":\n",
    "        continue\n",
    "    cur.execute(line)"
   ]
  },
  {
   "cell_type": "markdown",
   "metadata": {},
   "source": [
    "## SEENCARS"
   ]
  },
  {
   "cell_type": "markdown",
   "metadata": {},
   "source": [
    "Prepare a new made-up table based on the other two.  We're interested to see how the confidences calculated by Trio on the tuples in this relation change as we transform the confidences in drives relation; specifically, we're interested if the ranking -- by confidence level -- of the final tuples changes. "
   ]
  },
  {
   "cell_type": "code",
   "execution_count": 98,
   "metadata": {
    "collapsed": false
   },
   "outputs": [
    {
     "name": "stdout",
     "output_type": "stream",
     "text": [
      "SELECT: 0.0060248374939\n",
      "INDEX:  0\n"
     ]
    }
   ],
   "source": [
    "cur.execute(q(\"\"\"\n",
    "create table seencars as\n",
    "select drives.person as suspect, drives.car, witness from drives, sawcar\n",
    "where drives.car = sawcar.car;\n",
    "\"\"\"))\n",
    "for t in cur.xfetchall(): print t"
   ]
  },
  {
   "cell_type": "markdown",
   "metadata": {},
   "source": [
    "### Original"
   ]
  },
  {
   "cell_type": "markdown",
   "metadata": {},
   "source": [
    "The seencars relation, without any transformation to the drives or sawcar confidence levels."
   ]
  },
  {
   "cell_type": "code",
   "execution_count": 99,
   "metadata": {
    "collapsed": false
   },
   "outputs": [
    {
     "data": {
      "text/html": [
       "<div style=\"max-height:1000px;max-width:1500px;overflow:auto;\">\n",
       "<table border=\"1\" class=\"dataframe\">\n",
       "  <thead>\n",
       "    <tr style=\"text-align: right;\">\n",
       "      <th></th>\n",
       "      <th>conf</th>\n",
       "      <th>tuple</th>\n",
       "    </tr>\n",
       "  </thead>\n",
       "  <tbody>\n",
       "    <tr>\n",
       "      <th>0</th>\n",
       "      <td> 1.00</td>\n",
       "      <td>   (Jim,Honda,Susan)</td>\n",
       "    </tr>\n",
       "    <tr>\n",
       "      <th>2</th>\n",
       "      <td> 0.42</td>\n",
       "      <td> (Hank,Toyota,Mary)?</td>\n",
       "    </tr>\n",
       "    <tr>\n",
       "      <th>1</th>\n",
       "      <td> 0.40</td>\n",
       "      <td>   (Jim,Honda,Jane)?</td>\n",
       "    </tr>\n",
       "    <tr>\n",
       "      <th>6</th>\n",
       "      <td> 0.35</td>\n",
       "      <td>  (Bob,Toyota,Mary)?</td>\n",
       "    </tr>\n",
       "    <tr>\n",
       "      <th>3</th>\n",
       "      <td> 0.30</td>\n",
       "      <td> (Hank,Toyota,Jane)?</td>\n",
       "    </tr>\n",
       "    <tr>\n",
       "      <th>7</th>\n",
       "      <td> 0.25</td>\n",
       "      <td>  (Bob,Toyota,Jane)?</td>\n",
       "    </tr>\n",
       "    <tr>\n",
       "      <th>4</th>\n",
       "      <td> 0.21</td>\n",
       "      <td>  (Jim,Toyota,Mary)?</td>\n",
       "    </tr>\n",
       "    <tr>\n",
       "      <th>5</th>\n",
       "      <td> 0.15</td>\n",
       "      <td>  (Jim,Toyota,Jane)?</td>\n",
       "    </tr>\n",
       "  </tbody>\n",
       "</table>\n",
       "</div>"
      ],
      "text/plain": [
       "   conf                tuple\n",
       "0  1.00    (Jim,Honda,Susan)\n",
       "2  0.42  (Hank,Toyota,Mary)?\n",
       "1  0.40    (Jim,Honda,Jane)?\n",
       "6  0.35   (Bob,Toyota,Mary)?\n",
       "3  0.30  (Hank,Toyota,Jane)?\n",
       "7  0.25   (Bob,Toyota,Jane)?\n",
       "4  0.21   (Jim,Toyota,Mary)?\n",
       "5  0.15   (Jim,Toyota,Jane)?"
      ]
     },
     "execution_count": 99,
     "metadata": {},
     "output_type": "execute_result"
    }
   ],
   "source": [
    "rows = []\n",
    "cur.execute(q(\"\"\"select * from seencars\"\"\"))\n",
    "for t in cur.xfetchall(): \n",
    "    #print str(t).strip(), t.alternatives[0].computeConfidence(conn)\n",
    "    rows.append({'tuple':str(t).strip(), 'conf':t.alternatives[0].computeConfidence(conn)})\n",
    "df1 = pd.DataFrame(rows)\n",
    "df1.sort('conf', ascending=False)"
   ]
  },
  {
   "cell_type": "markdown",
   "metadata": {},
   "source": [
    "### Xform drives"
   ]
  },
  {
   "cell_type": "markdown",
   "metadata": {},
   "source": [
    "The seencars tuples, with the drives.conf values transformed in a variety of ways, e.g., with conf^(1/6)."
   ]
  },
  {
   "cell_type": "code",
   "execution_count": 616,
   "metadata": {
    "collapsed": false
   },
   "outputs": [
    {
     "data": {
      "text/html": [
       "<div style=\"max-height:1000px;max-width:1500px;overflow:auto;\">\n",
       "<table border=\"1\" class=\"dataframe\">\n",
       "  <thead>\n",
       "    <tr style=\"text-align: right;\">\n",
       "      <th></th>\n",
       "      <th>conf</th>\n",
       "      <th>tuple</th>\n",
       "    </tr>\n",
       "  </thead>\n",
       "  <tbody>\n",
       "    <tr>\n",
       "      <th>0</th>\n",
       "      <td> 1.000000</td>\n",
       "      <td>   (Jim,Honda,Susan)</td>\n",
       "    </tr>\n",
       "    <tr>\n",
       "      <th>2</th>\n",
       "      <td> 0.642870</td>\n",
       "      <td> (Hank,Toyota,Mary)?</td>\n",
       "    </tr>\n",
       "    <tr>\n",
       "      <th>6</th>\n",
       "      <td> 0.623629</td>\n",
       "      <td>  (Bob,Toyota,Mary)?</td>\n",
       "    </tr>\n",
       "    <tr>\n",
       "      <th>4</th>\n",
       "      <td> 0.572732</td>\n",
       "      <td>  (Jim,Toyota,Mary)?</td>\n",
       "    </tr>\n",
       "    <tr>\n",
       "      <th>3</th>\n",
       "      <td> 0.459193</td>\n",
       "      <td> (Hank,Toyota,Jane)?</td>\n",
       "    </tr>\n",
       "    <tr>\n",
       "      <th>7</th>\n",
       "      <td> 0.445449</td>\n",
       "      <td>  (Bob,Toyota,Jane)?</td>\n",
       "    </tr>\n",
       "    <tr>\n",
       "      <th>5</th>\n",
       "      <td> 0.409095</td>\n",
       "      <td>  (Jim,Toyota,Jane)?</td>\n",
       "    </tr>\n",
       "    <tr>\n",
       "      <th>1</th>\n",
       "      <td> 0.400000</td>\n",
       "      <td>   (Jim,Honda,Jane)?</td>\n",
       "    </tr>\n",
       "  </tbody>\n",
       "</table>\n",
       "</div>"
      ],
      "text/plain": [
       "       conf                tuple\n",
       "0  1.000000    (Jim,Honda,Susan)\n",
       "2  0.642870  (Hank,Toyota,Mary)?\n",
       "6  0.623629   (Bob,Toyota,Mary)?\n",
       "4  0.572732   (Jim,Toyota,Mary)?\n",
       "3  0.459193  (Hank,Toyota,Jane)?\n",
       "7  0.445449   (Bob,Toyota,Jane)?\n",
       "5  0.409095   (Jim,Toyota,Jane)?\n",
       "1  0.400000    (Jim,Honda,Jane)?"
      ]
     },
     "execution_count": 616,
     "metadata": {},
     "output_type": "execute_result"
    }
   ],
   "source": [
    "# ^(1/6)\n",
    "rows = []\n",
    "cur.execute(q(\"\"\"select * from seencars\"\"\"))\n",
    "for t in cur.xfetchall(): \n",
    "    rows.append({'tuple':str(t).strip(), 'conf':t.alternatives[0].computeConfidence(conn)})\n",
    "df2 = pd.DataFrame(rows)\n",
    "df2.sort('conf', ascending=False)"
   ]
  },
  {
   "cell_type": "code",
   "execution_count": 593,
   "metadata": {
    "collapsed": false
   },
   "outputs": [
    {
     "data": {
      "text/html": [
       "<div style=\"max-height:1000px;max-width:1500px;overflow:auto;\">\n",
       "<table border=\"1\" class=\"dataframe\">\n",
       "  <thead>\n",
       "    <tr style=\"text-align: right;\">\n",
       "      <th></th>\n",
       "      <th>conf</th>\n",
       "      <th>tuple</th>\n",
       "    </tr>\n",
       "  </thead>\n",
       "  <tbody>\n",
       "    <tr>\n",
       "      <th>0</th>\n",
       "      <td> 1.000000</td>\n",
       "      <td>   (Jim,Honda,Susan)</td>\n",
       "    </tr>\n",
       "    <tr>\n",
       "      <th>2</th>\n",
       "      <td> 0.632016</td>\n",
       "      <td> (Hank,Toyota,Mary)?</td>\n",
       "    </tr>\n",
       "    <tr>\n",
       "      <th>6</th>\n",
       "      <td> 0.609386</td>\n",
       "      <td>  (Bob,Toyota,Mary)?</td>\n",
       "    </tr>\n",
       "    <tr>\n",
       "      <th>4</th>\n",
       "      <td> 0.550202</td>\n",
       "      <td>  (Jim,Toyota,Mary)?</td>\n",
       "    </tr>\n",
       "    <tr>\n",
       "      <th>3</th>\n",
       "      <td> 0.451440</td>\n",
       "      <td> (Hank,Toyota,Jane)?</td>\n",
       "    </tr>\n",
       "    <tr>\n",
       "      <th>7</th>\n",
       "      <td> 0.435275</td>\n",
       "      <td>  (Bob,Toyota,Jane)?</td>\n",
       "    </tr>\n",
       "    <tr>\n",
       "      <th>1</th>\n",
       "      <td> 0.400000</td>\n",
       "      <td>   (Jim,Honda,Jane)?</td>\n",
       "    </tr>\n",
       "    <tr>\n",
       "      <th>5</th>\n",
       "      <td> 0.393002</td>\n",
       "      <td>  (Jim,Toyota,Jane)?</td>\n",
       "    </tr>\n",
       "  </tbody>\n",
       "</table>\n",
       "</div>"
      ],
      "text/plain": [
       "       conf                tuple\n",
       "0  1.000000    (Jim,Honda,Susan)\n",
       "2  0.632016  (Hank,Toyota,Mary)?\n",
       "6  0.609386   (Bob,Toyota,Mary)?\n",
       "4  0.550202   (Jim,Toyota,Mary)?\n",
       "3  0.451440  (Hank,Toyota,Jane)?\n",
       "7  0.435275   (Bob,Toyota,Jane)?\n",
       "1  0.400000    (Jim,Honda,Jane)?\n",
       "5  0.393002   (Jim,Toyota,Jane)?"
      ]
     },
     "execution_count": 593,
     "metadata": {},
     "output_type": "execute_result"
    }
   ],
   "source": [
    "# ^(1/5)\n",
    "rows = []\n",
    "cur.execute(q(\"\"\"select * from seencars\"\"\"))\n",
    "for t in cur.xfetchall(): \n",
    "    rows.append({'tuple':str(t).strip(), 'conf':t.alternatives[0].computeConfidence(conn)})\n",
    "df2 = pd.DataFrame(rows)\n",
    "df2.sort('conf', ascending=False)"
   ]
  },
  {
   "cell_type": "code",
   "execution_count": 463,
   "metadata": {
    "collapsed": false
   },
   "outputs": [
    {
     "data": {
      "text/html": [
       "<div style=\"max-height:1000px;max-width:1500px;overflow:auto;\">\n",
       "<table border=\"1\" class=\"dataframe\">\n",
       "  <thead>\n",
       "    <tr style=\"text-align: right;\">\n",
       "      <th></th>\n",
       "      <th>conf</th>\n",
       "      <th>tuple</th>\n",
       "    </tr>\n",
       "  </thead>\n",
       "  <tbody>\n",
       "    <tr>\n",
       "      <th>0</th>\n",
       "      <td> 1.000000</td>\n",
       "      <td>   (Jim,Honda,Susan)</td>\n",
       "    </tr>\n",
       "    <tr>\n",
       "      <th>2</th>\n",
       "      <td> 0.616078</td>\n",
       "      <td> (Hank,Toyota,Mary)?</td>\n",
       "    </tr>\n",
       "    <tr>\n",
       "      <th>6</th>\n",
       "      <td> 0.588627</td>\n",
       "      <td>  (Bob,Toyota,Mary)?</td>\n",
       "    </tr>\n",
       "    <tr>\n",
       "      <th>4</th>\n",
       "      <td> 0.518058</td>\n",
       "      <td>  (Jim,Toyota,Mary)?</td>\n",
       "    </tr>\n",
       "    <tr>\n",
       "      <th>3</th>\n",
       "      <td> 0.440056</td>\n",
       "      <td> (Hank,Toyota,Jane)?</td>\n",
       "    </tr>\n",
       "    <tr>\n",
       "      <th>7</th>\n",
       "      <td> 0.420448</td>\n",
       "      <td>  (Bob,Toyota,Jane)?</td>\n",
       "    </tr>\n",
       "    <tr>\n",
       "      <th>1</th>\n",
       "      <td> 0.400000</td>\n",
       "      <td>   (Jim,Honda,Jane)?</td>\n",
       "    </tr>\n",
       "    <tr>\n",
       "      <th>5</th>\n",
       "      <td> 0.370042</td>\n",
       "      <td>  (Jim,Toyota,Jane)?</td>\n",
       "    </tr>\n",
       "  </tbody>\n",
       "</table>\n",
       "</div>"
      ],
      "text/plain": [
       "       conf                tuple\n",
       "0  1.000000    (Jim,Honda,Susan)\n",
       "2  0.616078  (Hank,Toyota,Mary)?\n",
       "6  0.588627   (Bob,Toyota,Mary)?\n",
       "4  0.518058   (Jim,Toyota,Mary)?\n",
       "3  0.440056  (Hank,Toyota,Jane)?\n",
       "7  0.420448   (Bob,Toyota,Jane)?\n",
       "1  0.400000    (Jim,Honda,Jane)?\n",
       "5  0.370042   (Jim,Toyota,Jane)?"
      ]
     },
     "execution_count": 463,
     "metadata": {},
     "output_type": "execute_result"
    }
   ],
   "source": [
    "# ^(1/4)\n",
    "rows = []\n",
    "cur.execute(q(\"\"\"select * from seencars\"\"\"))\n",
    "for t in cur.xfetchall(): \n",
    "    rows.append({'tuple':str(t).strip(), 'conf':t.alternatives[0].computeConfidence(conn)})\n",
    "df2 = pd.DataFrame(rows)\n",
    "df2.sort('conf', ascending=False)"
   ]
  },
  {
   "cell_type": "code",
   "execution_count": 535,
   "metadata": {
    "collapsed": false
   },
   "outputs": [
    {
     "data": {
      "text/html": [
       "<div style=\"max-height:1000px;max-width:1500px;overflow:auto;\">\n",
       "<table border=\"1\" class=\"dataframe\">\n",
       "  <thead>\n",
       "    <tr style=\"text-align: right;\">\n",
       "      <th></th>\n",
       "      <th>conf</th>\n",
       "      <th>tuple</th>\n",
       "    </tr>\n",
       "  </thead>\n",
       "  <tbody>\n",
       "    <tr>\n",
       "      <th>0</th>\n",
       "      <td> 1.000000</td>\n",
       "      <td>   (Jim,Honda,Susan)</td>\n",
       "    </tr>\n",
       "    <tr>\n",
       "      <th>2</th>\n",
       "      <td> 0.590403</td>\n",
       "      <td> (Hank,Toyota,Mary)?</td>\n",
       "    </tr>\n",
       "    <tr>\n",
       "      <th>6</th>\n",
       "      <td> 0.555591</td>\n",
       "      <td>  (Bob,Toyota,Mary)?</td>\n",
       "    </tr>\n",
       "    <tr>\n",
       "      <th>4</th>\n",
       "      <td> 0.468603</td>\n",
       "      <td>  (Jim,Toyota,Mary)?</td>\n",
       "    </tr>\n",
       "    <tr>\n",
       "      <th>3</th>\n",
       "      <td> 0.421716</td>\n",
       "      <td> (Hank,Toyota,Jane)?</td>\n",
       "    </tr>\n",
       "    <tr>\n",
       "      <th>1</th>\n",
       "      <td> 0.400000</td>\n",
       "      <td>   (Jim,Honda,Jane)?</td>\n",
       "    </tr>\n",
       "    <tr>\n",
       "      <th>7</th>\n",
       "      <td> 0.396850</td>\n",
       "      <td>  (Bob,Toyota,Jane)?</td>\n",
       "    </tr>\n",
       "    <tr>\n",
       "      <th>5</th>\n",
       "      <td> 0.334716</td>\n",
       "      <td>  (Jim,Toyota,Jane)?</td>\n",
       "    </tr>\n",
       "  </tbody>\n",
       "</table>\n",
       "</div>"
      ],
      "text/plain": [
       "       conf                tuple\n",
       "0  1.000000    (Jim,Honda,Susan)\n",
       "2  0.590403  (Hank,Toyota,Mary)?\n",
       "6  0.555591   (Bob,Toyota,Mary)?\n",
       "4  0.468603   (Jim,Toyota,Mary)?\n",
       "3  0.421716  (Hank,Toyota,Jane)?\n",
       "1  0.400000    (Jim,Honda,Jane)?\n",
       "7  0.396850   (Bob,Toyota,Jane)?\n",
       "5  0.334716   (Jim,Toyota,Jane)?"
      ]
     },
     "execution_count": 535,
     "metadata": {},
     "output_type": "execute_result"
    }
   ],
   "source": [
    "# ^(1/3)\n",
    "rows = []\n",
    "cur.execute(q(\"\"\"select * from seencars\"\"\"))\n",
    "for t in cur.xfetchall(): \n",
    "    rows.append({'tuple':str(t).strip(), 'conf':t.alternatives[0].computeConfidence(conn)})\n",
    "df2 = pd.DataFrame(rows)\n",
    "df2.sort('conf', ascending=False)"
   ]
  },
  {
   "cell_type": "code",
   "execution_count": 76,
   "metadata": {
    "collapsed": false
   },
   "outputs": [
    {
     "data": {
      "text/html": [
       "<div style=\"max-height:1000px;max-width:1500px;overflow:auto;\">\n",
       "<table border=\"1\" class=\"dataframe\">\n",
       "  <thead>\n",
       "    <tr style=\"text-align: right;\">\n",
       "      <th></th>\n",
       "      <th>conf</th>\n",
       "      <th>tuple</th>\n",
       "    </tr>\n",
       "  </thead>\n",
       "  <tbody>\n",
       "    <tr>\n",
       "      <th>0</th>\n",
       "      <td> 1.000000</td>\n",
       "      <td>   (Jim,Honda,Susan)</td>\n",
       "    </tr>\n",
       "    <tr>\n",
       "      <th>2</th>\n",
       "      <td> 0.542218</td>\n",
       "      <td> (Hank,Toyota,Mary)?</td>\n",
       "    </tr>\n",
       "    <tr>\n",
       "      <th>6</th>\n",
       "      <td> 0.494975</td>\n",
       "      <td>  (Bob,Toyota,Mary)?</td>\n",
       "    </tr>\n",
       "    <tr>\n",
       "      <th>1</th>\n",
       "      <td> 0.400000</td>\n",
       "      <td>   (Jim,Honda,Jane)?</td>\n",
       "    </tr>\n",
       "    <tr>\n",
       "      <th>3</th>\n",
       "      <td> 0.387298</td>\n",
       "      <td> (Hank,Toyota,Jane)?</td>\n",
       "    </tr>\n",
       "    <tr>\n",
       "      <th>4</th>\n",
       "      <td> 0.383406</td>\n",
       "      <td>  (Jim,Toyota,Mary)?</td>\n",
       "    </tr>\n",
       "    <tr>\n",
       "      <th>7</th>\n",
       "      <td> 0.353554</td>\n",
       "      <td>  (Bob,Toyota,Jane)?</td>\n",
       "    </tr>\n",
       "    <tr>\n",
       "      <th>5</th>\n",
       "      <td> 0.273861</td>\n",
       "      <td>  (Jim,Toyota,Jane)?</td>\n",
       "    </tr>\n",
       "  </tbody>\n",
       "</table>\n",
       "</div>"
      ],
      "text/plain": [
       "       conf                tuple\n",
       "0  1.000000    (Jim,Honda,Susan)\n",
       "2  0.542218  (Hank,Toyota,Mary)?\n",
       "6  0.494975   (Bob,Toyota,Mary)?\n",
       "1  0.400000    (Jim,Honda,Jane)?\n",
       "3  0.387298  (Hank,Toyota,Jane)?\n",
       "4  0.383406   (Jim,Toyota,Mary)?\n",
       "7  0.353554   (Bob,Toyota,Jane)?\n",
       "5  0.273861   (Jim,Toyota,Jane)?"
      ]
     },
     "execution_count": 76,
     "metadata": {},
     "output_type": "execute_result"
    }
   ],
   "source": [
    "# ^(1/2)\n",
    "rows = []\n",
    "cur.execute(q(\"\"\"select * from seencars\"\"\"))\n",
    "for t in cur.xfetchall(): \n",
    "    rows.append({'tuple':str(t).strip(), 'conf':t.alternatives[0].computeConfidence(conn)})\n",
    "df2 = pd.DataFrame(rows)\n",
    "df2.sort('conf', ascending=False)"
   ]
  },
  {
   "cell_type": "code",
   "execution_count": 575,
   "metadata": {
    "collapsed": false
   },
   "outputs": [
    {
     "data": {
      "text/html": [
       "<div style=\"max-height:1000px;max-width:1500px;overflow:auto;\">\n",
       "<table border=\"1\" class=\"dataframe\">\n",
       "  <thead>\n",
       "    <tr style=\"text-align: right;\">\n",
       "      <th></th>\n",
       "      <th>conf</th>\n",
       "      <th>tuple</th>\n",
       "    </tr>\n",
       "  </thead>\n",
       "  <tbody>\n",
       "    <tr>\n",
       "      <th>0</th>\n",
       "      <td> 1.000000</td>\n",
       "      <td>   (Jim,Honda,Susan)</td>\n",
       "    </tr>\n",
       "    <tr>\n",
       "      <th>2</th>\n",
       "      <td> 0.542218</td>\n",
       "      <td> (Hank,Toyota,Mary)?</td>\n",
       "    </tr>\n",
       "    <tr>\n",
       "      <th>6</th>\n",
       "      <td> 0.494975</td>\n",
       "      <td>  (Bob,Toyota,Mary)?</td>\n",
       "    </tr>\n",
       "    <tr>\n",
       "      <th>1</th>\n",
       "      <td> 0.400000</td>\n",
       "      <td>   (Jim,Honda,Jane)?</td>\n",
       "    </tr>\n",
       "    <tr>\n",
       "      <th>3</th>\n",
       "      <td> 0.387298</td>\n",
       "      <td> (Hank,Toyota,Jane)?</td>\n",
       "    </tr>\n",
       "    <tr>\n",
       "      <th>4</th>\n",
       "      <td> 0.383406</td>\n",
       "      <td>  (Jim,Toyota,Mary)?</td>\n",
       "    </tr>\n",
       "    <tr>\n",
       "      <th>7</th>\n",
       "      <td> 0.353554</td>\n",
       "      <td>  (Bob,Toyota,Jane)?</td>\n",
       "    </tr>\n",
       "    <tr>\n",
       "      <th>5</th>\n",
       "      <td> 0.273861</td>\n",
       "      <td>  (Jim,Toyota,Jane)?</td>\n",
       "    </tr>\n",
       "  </tbody>\n",
       "</table>\n",
       "</div>"
      ],
      "text/plain": [
       "       conf                tuple\n",
       "0  1.000000    (Jim,Honda,Susan)\n",
       "2  0.542218  (Hank,Toyota,Mary)?\n",
       "6  0.494975   (Bob,Toyota,Mary)?\n",
       "1  0.400000    (Jim,Honda,Jane)?\n",
       "3  0.387298  (Hank,Toyota,Jane)?\n",
       "4  0.383406   (Jim,Toyota,Mary)?\n",
       "7  0.353554   (Bob,Toyota,Jane)?\n",
       "5  0.273861   (Jim,Toyota,Jane)?"
      ]
     },
     "execution_count": 575,
     "metadata": {},
     "output_type": "execute_result"
    }
   ],
   "source": [
    "# ^(1.5)\n",
    "rows = []\n",
    "cur.execute(q(\"\"\"select * from seencars\"\"\"))\n",
    "for t in cur.xfetchall(): \n",
    "    rows.append({'tuple':str(t).strip(), 'conf':t.alternatives[0].computeConfidence(conn)})\n",
    "df2 = pd.DataFrame(rows)\n",
    "df2.sort('conf', ascending=False)"
   ]
  },
  {
   "cell_type": "code",
   "execution_count": 511,
   "metadata": {
    "collapsed": false
   },
   "outputs": [
    {
     "data": {
      "text/html": [
       "<div style=\"max-height:1000px;max-width:1500px;overflow:auto;\">\n",
       "<table border=\"1\" class=\"dataframe\">\n",
       "  <thead>\n",
       "    <tr style=\"text-align: right;\">\n",
       "      <th></th>\n",
       "      <th>conf</th>\n",
       "      <th>tuple</th>\n",
       "    </tr>\n",
       "  </thead>\n",
       "  <tbody>\n",
       "    <tr>\n",
       "      <th>0</th>\n",
       "      <td> 1.000</td>\n",
       "      <td>   (Jim,Honda,Susan)</td>\n",
       "    </tr>\n",
       "    <tr>\n",
       "      <th>1</th>\n",
       "      <td> 0.400</td>\n",
       "      <td>   (Jim,Honda,Jane)?</td>\n",
       "    </tr>\n",
       "    <tr>\n",
       "      <th>2</th>\n",
       "      <td> 0.252</td>\n",
       "      <td> (Hank,Toyota,Mary)?</td>\n",
       "    </tr>\n",
       "    <tr>\n",
       "      <th>3</th>\n",
       "      <td> 0.180</td>\n",
       "      <td> (Hank,Toyota,Jane)?</td>\n",
       "    </tr>\n",
       "    <tr>\n",
       "      <th>6</th>\n",
       "      <td> 0.175</td>\n",
       "      <td>  (Bob,Toyota,Mary)?</td>\n",
       "    </tr>\n",
       "    <tr>\n",
       "      <th>7</th>\n",
       "      <td> 0.125</td>\n",
       "      <td>  (Bob,Toyota,Jane)?</td>\n",
       "    </tr>\n",
       "    <tr>\n",
       "      <th>4</th>\n",
       "      <td> 0.063</td>\n",
       "      <td>  (Jim,Toyota,Mary)?</td>\n",
       "    </tr>\n",
       "    <tr>\n",
       "      <th>5</th>\n",
       "      <td> 0.045</td>\n",
       "      <td>  (Jim,Toyota,Jane)?</td>\n",
       "    </tr>\n",
       "  </tbody>\n",
       "</table>\n",
       "</div>"
      ],
      "text/plain": [
       "    conf                tuple\n",
       "0  1.000    (Jim,Honda,Susan)\n",
       "1  0.400    (Jim,Honda,Jane)?\n",
       "2  0.252  (Hank,Toyota,Mary)?\n",
       "3  0.180  (Hank,Toyota,Jane)?\n",
       "6  0.175   (Bob,Toyota,Mary)?\n",
       "7  0.125   (Bob,Toyota,Jane)?\n",
       "4  0.063   (Jim,Toyota,Mary)?\n",
       "5  0.045   (Jim,Toyota,Jane)?"
      ]
     },
     "execution_count": 511,
     "metadata": {},
     "output_type": "execute_result"
    }
   ],
   "source": [
    "# ^(2)\n",
    "rows = []\n",
    "cur.execute(q(\"\"\"select * from seencars\"\"\"))\n",
    "for t in cur.xfetchall(): \n",
    "    rows.append({'tuple':str(t).strip(), 'conf':t.alternatives[0].computeConfidence(conn)})\n",
    "df2 = pd.DataFrame(rows)\n",
    "df2.sort('conf', ascending=False)"
   ]
  },
  {
   "cell_type": "code",
   "execution_count": 48,
   "metadata": {
    "collapsed": false
   },
   "outputs": [
    {
     "data": {
      "text/html": [
       "<div style=\"max-height:1000px;max-width:1500px;overflow:auto;\">\n",
       "<table border=\"1\" class=\"dataframe\">\n",
       "  <thead>\n",
       "    <tr style=\"text-align: right;\">\n",
       "      <th></th>\n",
       "      <th>conf</th>\n",
       "      <th>tuple</th>\n",
       "    </tr>\n",
       "  </thead>\n",
       "  <tbody>\n",
       "    <tr>\n",
       "      <th>0</th>\n",
       "      <td> 1.000000</td>\n",
       "      <td>   (Jim,Honda,Susan)</td>\n",
       "    </tr>\n",
       "    <tr>\n",
       "      <th>1</th>\n",
       "      <td> 0.400000</td>\n",
       "      <td>   (Jim,Honda,Jane)?</td>\n",
       "    </tr>\n",
       "    <tr>\n",
       "      <th>2</th>\n",
       "      <td> 0.054432</td>\n",
       "      <td> (Hank,Toyota,Mary)?</td>\n",
       "    </tr>\n",
       "    <tr>\n",
       "      <th>3</th>\n",
       "      <td> 0.038880</td>\n",
       "      <td> (Hank,Toyota,Jane)?</td>\n",
       "    </tr>\n",
       "    <tr>\n",
       "      <th>6</th>\n",
       "      <td> 0.021875</td>\n",
       "      <td>  (Bob,Toyota,Mary)?</td>\n",
       "    </tr>\n",
       "    <tr>\n",
       "      <th>7</th>\n",
       "      <td> 0.015625</td>\n",
       "      <td>  (Bob,Toyota,Jane)?</td>\n",
       "    </tr>\n",
       "    <tr>\n",
       "      <th>4</th>\n",
       "      <td> 0.001701</td>\n",
       "      <td>  (Jim,Toyota,Mary)?</td>\n",
       "    </tr>\n",
       "    <tr>\n",
       "      <th>5</th>\n",
       "      <td> 0.001215</td>\n",
       "      <td>  (Jim,Toyota,Jane)?</td>\n",
       "    </tr>\n",
       "  </tbody>\n",
       "</table>\n",
       "</div>"
      ],
      "text/plain": [
       "       conf                tuple\n",
       "0  1.000000    (Jim,Honda,Susan)\n",
       "1  0.400000    (Jim,Honda,Jane)?\n",
       "2  0.054432  (Hank,Toyota,Mary)?\n",
       "3  0.038880  (Hank,Toyota,Jane)?\n",
       "6  0.021875   (Bob,Toyota,Mary)?\n",
       "7  0.015625   (Bob,Toyota,Jane)?\n",
       "4  0.001701   (Jim,Toyota,Mary)?\n",
       "5  0.001215   (Jim,Toyota,Jane)?"
      ]
     },
     "execution_count": 48,
     "metadata": {},
     "output_type": "execute_result"
    }
   ],
   "source": [
    "# ^(5)\n",
    "rows = []\n",
    "cur.execute(q(\"\"\"select * from seencars\"\"\"))\n",
    "for t in cur.xfetchall(): \n",
    "    rows.append({'tuple':str(t).strip(), 'conf':t.alternatives[0].computeConfidence(conn)})\n",
    "df2 = pd.DataFrame(rows)\n",
    "df2.sort('conf', ascending=False)"
   ]
  },
  {
   "cell_type": "code",
   "execution_count": 70,
   "metadata": {
    "collapsed": false
   },
   "outputs": [
    {
     "data": {
      "text/html": [
       "<div style=\"max-height:1000px;max-width:1500px;overflow:auto;\">\n",
       "<table border=\"1\" class=\"dataframe\">\n",
       "  <thead>\n",
       "    <tr style=\"text-align: right;\">\n",
       "      <th></th>\n",
       "      <th>conf</th>\n",
       "      <th>tuple</th>\n",
       "    </tr>\n",
       "  </thead>\n",
       "  <tbody>\n",
       "    <tr>\n",
       "      <th>0</th>\n",
       "      <td> 1.000000</td>\n",
       "      <td>   (Jim,Honda,Susan)</td>\n",
       "    </tr>\n",
       "    <tr>\n",
       "      <th>1</th>\n",
       "      <td> 0.400000</td>\n",
       "      <td>   (Jim,Honda,Jane)?</td>\n",
       "    </tr>\n",
       "    <tr>\n",
       "      <th>2</th>\n",
       "      <td> 0.004233</td>\n",
       "      <td> (Hank,Toyota,Mary)?</td>\n",
       "    </tr>\n",
       "    <tr>\n",
       "      <th>3</th>\n",
       "      <td> 0.003024</td>\n",
       "      <td> (Hank,Toyota,Jane)?</td>\n",
       "    </tr>\n",
       "    <tr>\n",
       "      <th>6</th>\n",
       "      <td> 0.000684</td>\n",
       "      <td>  (Bob,Toyota,Mary)?</td>\n",
       "    </tr>\n",
       "    <tr>\n",
       "      <th>7</th>\n",
       "      <td> 0.000489</td>\n",
       "      <td>  (Bob,Toyota,Jane)?</td>\n",
       "    </tr>\n",
       "    <tr>\n",
       "      <th>4</th>\n",
       "      <td> 0.000004</td>\n",
       "      <td>  (Jim,Toyota,Mary)?</td>\n",
       "    </tr>\n",
       "    <tr>\n",
       "      <th>5</th>\n",
       "      <td> 0.000003</td>\n",
       "      <td>  (Jim,Toyota,Jane)?</td>\n",
       "    </tr>\n",
       "  </tbody>\n",
       "</table>\n",
       "</div>"
      ],
      "text/plain": [
       "       conf                tuple\n",
       "0  1.000000    (Jim,Honda,Susan)\n",
       "1  0.400000    (Jim,Honda,Jane)?\n",
       "2  0.004233  (Hank,Toyota,Mary)?\n",
       "3  0.003024  (Hank,Toyota,Jane)?\n",
       "6  0.000684   (Bob,Toyota,Mary)?\n",
       "7  0.000489   (Bob,Toyota,Jane)?\n",
       "4  0.000004   (Jim,Toyota,Mary)?\n",
       "5  0.000003   (Jim,Toyota,Jane)?"
      ]
     },
     "execution_count": 70,
     "metadata": {},
     "output_type": "execute_result"
    }
   ],
   "source": [
    "# ^(10)\n",
    "rows = []\n",
    "cur.execute(q(\"\"\"select * from seencars\"\"\"))\n",
    "for t in cur.xfetchall(): \n",
    "    rows.append({'tuple':str(t).strip(), 'conf':t.alternatives[0].computeConfidence(conn)})\n",
    "df2 = pd.DataFrame(rows)\n",
    "df2.sort('conf', ascending=False)"
   ]
  },
  {
   "cell_type": "markdown",
   "metadata": {},
   "source": [
    "### Compare ranks"
   ]
  },
  {
   "cell_type": "markdown",
   "metadata": {},
   "source": [
    "Compare the final ranks of tuples when there was no transformation versus with a variety of transformations."
   ]
  },
  {
   "cell_type": "code",
   "execution_count": 100,
   "metadata": {
    "collapsed": false
   },
   "outputs": [
    {
     "data": {
      "text/html": [
       "<div style=\"max-height:1000px;max-width:1500px;overflow:auto;\">\n",
       "<table border=\"1\" class=\"dataframe\">\n",
       "  <thead>\n",
       "    <tr style=\"text-align: right;\">\n",
       "      <th></th>\n",
       "      <th>conf</th>\n",
       "      <th>tuple</th>\n",
       "    </tr>\n",
       "  </thead>\n",
       "  <tbody>\n",
       "    <tr>\n",
       "      <th>0</th>\n",
       "      <td> 1.00</td>\n",
       "      <td>   (Jim,Honda,Susan)</td>\n",
       "    </tr>\n",
       "    <tr>\n",
       "      <th>1</th>\n",
       "      <td> 0.40</td>\n",
       "      <td>   (Jim,Honda,Jane)?</td>\n",
       "    </tr>\n",
       "    <tr>\n",
       "      <th>2</th>\n",
       "      <td> 0.42</td>\n",
       "      <td> (Hank,Toyota,Mary)?</td>\n",
       "    </tr>\n",
       "    <tr>\n",
       "      <th>3</th>\n",
       "      <td> 0.30</td>\n",
       "      <td> (Hank,Toyota,Jane)?</td>\n",
       "    </tr>\n",
       "    <tr>\n",
       "      <th>4</th>\n",
       "      <td> 0.21</td>\n",
       "      <td>  (Jim,Toyota,Mary)?</td>\n",
       "    </tr>\n",
       "    <tr>\n",
       "      <th>5</th>\n",
       "      <td> 0.15</td>\n",
       "      <td>  (Jim,Toyota,Jane)?</td>\n",
       "    </tr>\n",
       "    <tr>\n",
       "      <th>6</th>\n",
       "      <td> 0.35</td>\n",
       "      <td>  (Bob,Toyota,Mary)?</td>\n",
       "    </tr>\n",
       "    <tr>\n",
       "      <th>7</th>\n",
       "      <td> 0.25</td>\n",
       "      <td>  (Bob,Toyota,Jane)?</td>\n",
       "    </tr>\n",
       "  </tbody>\n",
       "</table>\n",
       "</div>"
      ],
      "text/plain": [
       "   conf                tuple\n",
       "0  1.00    (Jim,Honda,Susan)\n",
       "1  0.40    (Jim,Honda,Jane)?\n",
       "2  0.42  (Hank,Toyota,Mary)?\n",
       "3  0.30  (Hank,Toyota,Jane)?\n",
       "4  0.21   (Jim,Toyota,Mary)?\n",
       "5  0.15   (Jim,Toyota,Jane)?\n",
       "6  0.35   (Bob,Toyota,Mary)?\n",
       "7  0.25   (Bob,Toyota,Jane)?"
      ]
     },
     "execution_count": 100,
     "metadata": {},
     "output_type": "execute_result"
    }
   ],
   "source": [
    "df1"
   ]
  },
  {
   "cell_type": "code",
   "execution_count": 101,
   "metadata": {
    "collapsed": false
   },
   "outputs": [
    {
     "data": {
      "text/html": [
       "<div style=\"max-height:1000px;max-width:1500px;overflow:auto;\">\n",
       "<table border=\"1\" class=\"dataframe\">\n",
       "  <thead>\n",
       "    <tr style=\"text-align: right;\">\n",
       "      <th></th>\n",
       "      <th>conf</th>\n",
       "      <th>tuple</th>\n",
       "    </tr>\n",
       "  </thead>\n",
       "  <tbody>\n",
       "    <tr>\n",
       "      <th>0</th>\n",
       "      <td> 1.000000</td>\n",
       "      <td>   (Jim,Honda,Susan)</td>\n",
       "    </tr>\n",
       "    <tr>\n",
       "      <th>1</th>\n",
       "      <td> 0.400000</td>\n",
       "      <td>   (Jim,Honda,Jane)?</td>\n",
       "    </tr>\n",
       "    <tr>\n",
       "      <th>2</th>\n",
       "      <td> 0.542218</td>\n",
       "      <td> (Hank,Toyota,Mary)?</td>\n",
       "    </tr>\n",
       "    <tr>\n",
       "      <th>3</th>\n",
       "      <td> 0.387298</td>\n",
       "      <td> (Hank,Toyota,Jane)?</td>\n",
       "    </tr>\n",
       "    <tr>\n",
       "      <th>4</th>\n",
       "      <td> 0.383406</td>\n",
       "      <td>  (Jim,Toyota,Mary)?</td>\n",
       "    </tr>\n",
       "    <tr>\n",
       "      <th>5</th>\n",
       "      <td> 0.273861</td>\n",
       "      <td>  (Jim,Toyota,Jane)?</td>\n",
       "    </tr>\n",
       "    <tr>\n",
       "      <th>6</th>\n",
       "      <td> 0.494975</td>\n",
       "      <td>  (Bob,Toyota,Mary)?</td>\n",
       "    </tr>\n",
       "    <tr>\n",
       "      <th>7</th>\n",
       "      <td> 0.353554</td>\n",
       "      <td>  (Bob,Toyota,Jane)?</td>\n",
       "    </tr>\n",
       "  </tbody>\n",
       "</table>\n",
       "</div>"
      ],
      "text/plain": [
       "       conf                tuple\n",
       "0  1.000000    (Jim,Honda,Susan)\n",
       "1  0.400000    (Jim,Honda,Jane)?\n",
       "2  0.542218  (Hank,Toyota,Mary)?\n",
       "3  0.387298  (Hank,Toyota,Jane)?\n",
       "4  0.383406   (Jim,Toyota,Mary)?\n",
       "5  0.273861   (Jim,Toyota,Jane)?\n",
       "6  0.494975   (Bob,Toyota,Mary)?\n",
       "7  0.353554   (Bob,Toyota,Jane)?"
      ]
     },
     "execution_count": 101,
     "metadata": {},
     "output_type": "execute_result"
    }
   ],
   "source": [
    "df2"
   ]
  },
  {
   "cell_type": "code",
   "execution_count": 102,
   "metadata": {
    "collapsed": false
   },
   "outputs": [
    {
     "name": "stdout",
     "output_type": "stream",
     "text": [
      "8 8 8 8\n"
     ]
    },
    {
     "data": {
      "text/html": [
       "<div style=\"max-height:1000px;max-width:1500px;overflow:auto;\">\n",
       "<table border=\"1\" class=\"dataframe\">\n",
       "  <thead>\n",
       "    <tr style=\"text-align: right;\">\n",
       "      <th></th>\n",
       "      <th>orig</th>\n",
       "      <th>origRnk</th>\n",
       "      <th>xform</th>\n",
       "      <th>xformRnk</th>\n",
       "    </tr>\n",
       "    <tr>\n",
       "      <th>tuple</th>\n",
       "      <th></th>\n",
       "      <th></th>\n",
       "      <th></th>\n",
       "      <th></th>\n",
       "    </tr>\n",
       "  </thead>\n",
       "  <tbody>\n",
       "    <tr>\n",
       "      <th>(Jim,Honda,Susan)</th>\n",
       "      <td> 1.00</td>\n",
       "      <td> 1</td>\n",
       "      <td> 1.000000</td>\n",
       "      <td> 1</td>\n",
       "    </tr>\n",
       "    <tr>\n",
       "      <th>(Jim,Honda,Jane)?</th>\n",
       "      <td> 0.40</td>\n",
       "      <td> 3</td>\n",
       "      <td> 0.400000</td>\n",
       "      <td> 4</td>\n",
       "    </tr>\n",
       "    <tr>\n",
       "      <th>(Hank,Toyota,Mary)?</th>\n",
       "      <td> 0.42</td>\n",
       "      <td> 2</td>\n",
       "      <td> 0.542218</td>\n",
       "      <td> 2</td>\n",
       "    </tr>\n",
       "    <tr>\n",
       "      <th>(Hank,Toyota,Jane)?</th>\n",
       "      <td> 0.30</td>\n",
       "      <td> 5</td>\n",
       "      <td> 0.387298</td>\n",
       "      <td> 5</td>\n",
       "    </tr>\n",
       "    <tr>\n",
       "      <th>(Jim,Toyota,Mary)?</th>\n",
       "      <td> 0.21</td>\n",
       "      <td> 7</td>\n",
       "      <td> 0.383406</td>\n",
       "      <td> 6</td>\n",
       "    </tr>\n",
       "    <tr>\n",
       "      <th>(Jim,Toyota,Jane)?</th>\n",
       "      <td> 0.15</td>\n",
       "      <td> 8</td>\n",
       "      <td> 0.273861</td>\n",
       "      <td> 8</td>\n",
       "    </tr>\n",
       "    <tr>\n",
       "      <th>(Bob,Toyota,Mary)?</th>\n",
       "      <td> 0.35</td>\n",
       "      <td> 4</td>\n",
       "      <td> 0.494975</td>\n",
       "      <td> 3</td>\n",
       "    </tr>\n",
       "    <tr>\n",
       "      <th>(Bob,Toyota,Jane)?</th>\n",
       "      <td> 0.25</td>\n",
       "      <td> 6</td>\n",
       "      <td> 0.353554</td>\n",
       "      <td> 7</td>\n",
       "    </tr>\n",
       "  </tbody>\n",
       "</table>\n",
       "</div>"
      ],
      "text/plain": [
       "                     orig  origRnk     xform  xformRnk\n",
       "tuple                                                 \n",
       "(Jim,Honda,Susan)    1.00        1  1.000000         1\n",
       "(Jim,Honda,Jane)?    0.40        3  0.400000         4\n",
       "(Hank,Toyota,Mary)?  0.42        2  0.542218         2\n",
       "(Hank,Toyota,Jane)?  0.30        5  0.387298         5\n",
       "(Jim,Toyota,Mary)?   0.21        7  0.383406         6\n",
       "(Jim,Toyota,Jane)?   0.15        8  0.273861         8\n",
       "(Bob,Toyota,Mary)?   0.35        4  0.494975         3\n",
       "(Bob,Toyota,Jane)?   0.25        6  0.353554         7"
      ]
     },
     "execution_count": 102,
     "metadata": {},
     "output_type": "execute_result"
    }
   ],
   "source": [
    "# Orig\n",
    "df1_1 = df1.set_index('tuple').rename(columns={'conf':'orig'})\n",
    "df1_1['origRnk'] = df1_1.rank(ascending=False)\n",
    "\n",
    "# Xformed (drives.conf only)\n",
    "df2_1 = df2.set_index('tuple').rename(columns={'conf':'xform'})\n",
    "df2_1['xformRnk'] = df2_1.rank(ascending=False)\n",
    "\n",
    "# Merge in preparation for comparison\n",
    "df1_2 = df1_1.join(df2_1)\n",
    "print len(df1),len(df1_1),len(df2_1),len(df1_2)\n",
    "df1_2"
   ]
  },
  {
   "cell_type": "code",
   "execution_count": 103,
   "metadata": {
    "collapsed": false
   },
   "outputs": [],
   "source": [
    "# df1_2.sort('xformRnk')"
   ]
  },
  {
   "cell_type": "markdown",
   "metadata": {},
   "source": [
    "#### Pearson"
   ]
  },
  {
   "cell_type": "code",
   "execution_count": 105,
   "metadata": {
    "collapsed": true
   },
   "outputs": [],
   "source": [
    "cor = df1_2.corr(method='pearson')"
   ]
  },
  {
   "cell_type": "code",
   "execution_count": 107,
   "metadata": {
    "collapsed": false
   },
   "outputs": [
    {
     "data": {
      "text/plain": [
       "0.95238095238095233"
      ]
     },
     "execution_count": 107,
     "metadata": {},
     "output_type": "execute_result"
    }
   ],
   "source": [
    "cor.loc['origRnk']['xformRnk']"
   ]
  },
  {
   "cell_type": "code",
   "execution_count": 104,
   "metadata": {
    "collapsed": false
   },
   "outputs": [
    {
     "data": {
      "text/html": [
       "<div style=\"max-height:1000px;max-width:1500px;overflow:auto;\">\n",
       "<table border=\"1\" class=\"dataframe\">\n",
       "  <thead>\n",
       "    <tr style=\"text-align: right;\">\n",
       "      <th></th>\n",
       "      <th>orig</th>\n",
       "      <th>origRnk</th>\n",
       "      <th>xform</th>\n",
       "      <th>xformRnk</th>\n",
       "    </tr>\n",
       "  </thead>\n",
       "  <tbody>\n",
       "    <tr>\n",
       "      <th>orig</th>\n",
       "      <td> 1.000000</td>\n",
       "      <td>-0.824776</td>\n",
       "      <td> 0.978993</td>\n",
       "      <td>-0.804981</td>\n",
       "    </tr>\n",
       "    <tr>\n",
       "      <th>origRnk</th>\n",
       "      <td>-0.824776</td>\n",
       "      <td> 1.000000</td>\n",
       "      <td>-0.790439</td>\n",
       "      <td> 0.952381</td>\n",
       "    </tr>\n",
       "    <tr>\n",
       "      <th>xform</th>\n",
       "      <td> 0.978993</td>\n",
       "      <td>-0.790439</td>\n",
       "      <td> 1.000000</td>\n",
       "      <td>-0.822662</td>\n",
       "    </tr>\n",
       "    <tr>\n",
       "      <th>xformRnk</th>\n",
       "      <td>-0.804981</td>\n",
       "      <td> 0.952381</td>\n",
       "      <td>-0.822662</td>\n",
       "      <td> 1.000000</td>\n",
       "    </tr>\n",
       "  </tbody>\n",
       "</table>\n",
       "</div>"
      ],
      "text/plain": [
       "              orig   origRnk     xform  xformRnk\n",
       "orig      1.000000 -0.824776  0.978993 -0.804981\n",
       "origRnk  -0.824776  1.000000 -0.790439  0.952381\n",
       "xform     0.978993 -0.790439  1.000000 -0.822662\n",
       "xformRnk -0.804981  0.952381 -0.822662  1.000000"
      ]
     },
     "execution_count": 104,
     "metadata": {},
     "output_type": "execute_result"
    }
   ],
   "source": [
    "df1_2.corr(method='pearson')"
   ]
  },
  {
   "cell_type": "markdown",
   "metadata": {
    "collapsed": true
   },
   "source": [
    "Pearson\n",
    " + ^(1/6): 0.885402\n",
    " + ^(1/5): 0.901688\n",
    " + ^(1/4): 0.922323\n",
    " + ^(1/3): 0.948388\n",
    " + ^(1/2): 0.978993\n",
    " + ^(1.5): 0.978993\n",
    " + ^(2): 0.984433\n",
    " + ^(5): 0.940938\n",
    " + ^(10): 0.926547"
   ]
  },
  {
   "cell_type": "markdown",
   "metadata": {},
   "source": [
    "#### Spearman"
   ]
  },
  {
   "cell_type": "code",
   "execution_count": 74,
   "metadata": {
    "collapsed": false
   },
   "outputs": [
    {
     "data": {
      "text/html": [
       "<div style=\"max-height:1000px;max-width:1500px;overflow:auto;\">\n",
       "<table border=\"1\" class=\"dataframe\">\n",
       "  <thead>\n",
       "    <tr style=\"text-align: right;\">\n",
       "      <th></th>\n",
       "      <th>orig</th>\n",
       "      <th>origRnk</th>\n",
       "      <th>xform</th>\n",
       "      <th>xformRnk</th>\n",
       "    </tr>\n",
       "  </thead>\n",
       "  <tbody>\n",
       "    <tr>\n",
       "      <th>orig</th>\n",
       "      <td> 1.000000</td>\n",
       "      <td>-1.000000</td>\n",
       "      <td> 0.952381</td>\n",
       "      <td>-0.952381</td>\n",
       "    </tr>\n",
       "    <tr>\n",
       "      <th>origRnk</th>\n",
       "      <td>-1.000000</td>\n",
       "      <td> 1.000000</td>\n",
       "      <td>-0.952381</td>\n",
       "      <td> 0.952381</td>\n",
       "    </tr>\n",
       "    <tr>\n",
       "      <th>xform</th>\n",
       "      <td> 0.952381</td>\n",
       "      <td>-0.952381</td>\n",
       "      <td> 1.000000</td>\n",
       "      <td>-1.000000</td>\n",
       "    </tr>\n",
       "    <tr>\n",
       "      <th>xformRnk</th>\n",
       "      <td>-0.952381</td>\n",
       "      <td> 0.952381</td>\n",
       "      <td>-1.000000</td>\n",
       "      <td> 1.000000</td>\n",
       "    </tr>\n",
       "  </tbody>\n",
       "</table>\n",
       "</div>"
      ],
      "text/plain": [
       "              orig   origRnk     xform  xformRnk\n",
       "orig      1.000000 -1.000000  0.952381 -0.952381\n",
       "origRnk  -1.000000  1.000000 -0.952381  0.952381\n",
       "xform     0.952381 -0.952381  1.000000 -1.000000\n",
       "xformRnk -0.952381  0.952381 -1.000000  1.000000"
      ]
     },
     "execution_count": 74,
     "metadata": {},
     "output_type": "execute_result"
    }
   ],
   "source": [
    "df1_2.corr(method='spearman')"
   ]
  },
  {
   "cell_type": "code",
   "execution_count": 75,
   "metadata": {
    "collapsed": false
   },
   "outputs": [],
   "source": [
    "#spearmanr(df1_2.origRnk, df1_2.xformRnk)"
   ]
  },
  {
   "cell_type": "markdown",
   "metadata": {},
   "source": [
    "Spearman\n",
    "+ ^(1/6): 0.571429\n",
    "+ ^(1/5): 0.690476\n",
    "+ ^(1/4): 0.690476\n",
    "+ ^(1/3): 0.761905\n",
    "+ ^(1/2): 0.952381\n",
    "+ ^(1.5): 0.952381\n",
    "+ ^(2): 0.952381\n",
    "+ ^(5): 0.952381"
   ]
  },
  {
   "cell_type": "markdown",
   "metadata": {},
   "source": [
    "#### Kendall Tau"
   ]
  },
  {
   "cell_type": "code",
   "execution_count": 76,
   "metadata": {
    "collapsed": false
   },
   "outputs": [
    {
     "data": {
      "text/html": [
       "<div style=\"max-height:1000px;max-width:1500px;overflow:auto;\">\n",
       "<table border=\"1\" class=\"dataframe\">\n",
       "  <thead>\n",
       "    <tr style=\"text-align: right;\">\n",
       "      <th></th>\n",
       "      <th>orig</th>\n",
       "      <th>origRnk</th>\n",
       "      <th>xform</th>\n",
       "      <th>xformRnk</th>\n",
       "    </tr>\n",
       "  </thead>\n",
       "  <tbody>\n",
       "    <tr>\n",
       "      <th>orig</th>\n",
       "      <td> 1.000000</td>\n",
       "      <td>-1.000000</td>\n",
       "      <td> 0.857143</td>\n",
       "      <td>-0.857143</td>\n",
       "    </tr>\n",
       "    <tr>\n",
       "      <th>origRnk</th>\n",
       "      <td>-1.000000</td>\n",
       "      <td> 1.000000</td>\n",
       "      <td>-0.857143</td>\n",
       "      <td> 0.857143</td>\n",
       "    </tr>\n",
       "    <tr>\n",
       "      <th>xform</th>\n",
       "      <td> 0.857143</td>\n",
       "      <td>-0.857143</td>\n",
       "      <td> 1.000000</td>\n",
       "      <td>-1.000000</td>\n",
       "    </tr>\n",
       "    <tr>\n",
       "      <th>xformRnk</th>\n",
       "      <td>-0.857143</td>\n",
       "      <td> 0.857143</td>\n",
       "      <td>-1.000000</td>\n",
       "      <td> 1.000000</td>\n",
       "    </tr>\n",
       "  </tbody>\n",
       "</table>\n",
       "</div>"
      ],
      "text/plain": [
       "              orig   origRnk     xform  xformRnk\n",
       "orig      1.000000 -1.000000  0.857143 -0.857143\n",
       "origRnk  -1.000000  1.000000 -0.857143  0.857143\n",
       "xform     0.857143 -0.857143  1.000000 -1.000000\n",
       "xformRnk -0.857143  0.857143 -1.000000  1.000000"
      ]
     },
     "execution_count": 76,
     "metadata": {},
     "output_type": "execute_result"
    }
   ],
   "source": [
    "df1_2.corr(method='kendall')"
   ]
  },
  {
   "cell_type": "markdown",
   "metadata": {},
   "source": [
    "Kendall Tau\n",
    "+ ^(1/6): 0.5\n",
    "+ ^(1/5): 0.571429\n",
    "+ ^(1/4): 0.571429\n",
    "+ ^(1/3): 0.642857\n",
    "+ ^(1/2): 0.857143\n",
    "+ ^(1.5): 0.857143\n",
    "+ ^(2): 0.857143\n",
    "+ ^(5): 0.857143"
   ]
  },
  {
   "cell_type": "markdown",
   "metadata": {},
   "source": [
    "#### Combined"
   ]
  },
  {
   "cell_type": "code",
   "execution_count": 77,
   "metadata": {
    "collapsed": false
   },
   "outputs": [
    {
     "data": {
      "text/html": [
       "<div style=\"max-height:1000px;max-width:1500px;overflow:auto;\">\n",
       "<table border=\"1\" class=\"dataframe\">\n",
       "  <thead>\n",
       "    <tr style=\"text-align: right;\">\n",
       "      <th></th>\n",
       "      <th>Kendall Tau</th>\n",
       "      <th>PearsonR</th>\n",
       "      <th>Spearman</th>\n",
       "    </tr>\n",
       "    <tr>\n",
       "      <th>conf^(X)</th>\n",
       "      <th></th>\n",
       "      <th></th>\n",
       "      <th></th>\n",
       "    </tr>\n",
       "  </thead>\n",
       "  <tbody>\n",
       "    <tr>\n",
       "      <th>0.166667</th>\n",
       "      <td> 0.500000</td>\n",
       "      <td> 0.885402</td>\n",
       "      <td> 0.571429</td>\n",
       "    </tr>\n",
       "    <tr>\n",
       "      <th>0.200000</th>\n",
       "      <td> 0.571429</td>\n",
       "      <td> 0.901688</td>\n",
       "      <td> 0.690476</td>\n",
       "    </tr>\n",
       "    <tr>\n",
       "      <th>0.250000</th>\n",
       "      <td> 0.571429</td>\n",
       "      <td> 0.922323</td>\n",
       "      <td> 0.690476</td>\n",
       "    </tr>\n",
       "    <tr>\n",
       "      <th>0.333333</th>\n",
       "      <td> 0.642857</td>\n",
       "      <td> 0.948388</td>\n",
       "      <td> 0.761905</td>\n",
       "    </tr>\n",
       "    <tr>\n",
       "      <th>0.500000</th>\n",
       "      <td> 0.857143</td>\n",
       "      <td> 0.978993</td>\n",
       "      <td> 0.952381</td>\n",
       "    </tr>\n",
       "    <tr>\n",
       "      <th>2.000000</th>\n",
       "      <td> 0.857143</td>\n",
       "      <td> 0.984433</td>\n",
       "      <td> 0.952381</td>\n",
       "    </tr>\n",
       "  </tbody>\n",
       "</table>\n",
       "</div>"
      ],
      "text/plain": [
       "          Kendall Tau  PearsonR  Spearman\n",
       "conf^(X)                                 \n",
       "0.166667     0.500000  0.885402  0.571429\n",
       "0.200000     0.571429  0.901688  0.690476\n",
       "0.250000     0.571429  0.922323  0.690476\n",
       "0.333333     0.642857  0.948388  0.761905\n",
       "0.500000     0.857143  0.978993  0.952381\n",
       "2.000000     0.857143  0.984433  0.952381"
      ]
     },
     "execution_count": 77,
     "metadata": {},
     "output_type": "execute_result"
    }
   ],
   "source": [
    "met = pd.DataFrame({'conf^(X)':[1./6.,1./5.,.25,1./3.,.5,2],\n",
    "                    'PearsonR':[0.885402,0.901688,0.922323,0.948388, 0.978993, 0.984433],\n",
    "                   'Spearman':[0.571429,0.690476,0.690476,0.761905,0.952381,0.952381],\n",
    "                   'Kendall Tau':[0.5,0.571429,0.571429,0.642857,0.857143,0.857143]}).set_index('conf^(X)')\n",
    "met"
   ]
  },
  {
   "cell_type": "code",
   "execution_count": 624,
   "metadata": {
    "collapsed": false
   },
   "outputs": [
    {
     "data": {
      "image/png": "[encoded data removed]",
      "text/plain": [
       "<matplotlib.figure.Figure at 0x7f88e86d0890>"
      ]
     },
     "metadata": {},
     "output_type": "display_data"
    }
   ],
   "source": [
    "met.plot()\n",
    "pass"
   ]
  },
  {
   "cell_type": "markdown",
   "metadata": {},
   "source": [
    "# Pipeline, crime"
   ]
  },
  {
   "cell_type": "markdown",
   "metadata": {},
   "source": [
    "Results of this analysis, run in a separate pipeline."
   ]
  },
  {
   "cell_type": "markdown",
   "metadata": {},
   "source": [
    "## Xformed inst."
   ]
  },
  {
   "cell_type": "code",
   "execution_count": 121,
   "metadata": {
    "collapsed": true
   },
   "outputs": [
    {
     "name": "stdout",
     "output_type": "stream",
     "text": [
      "<class 'pandas.io.pytables.HDFStore'>\n",
      "File path: /home/amemory/Data/prdbsens/pipelines/crime/pow/1st/q/seencars/seencars.h5\n",
      "/exp/m000010/drives            frame        (shape->[5,3])\n",
      "/exp/m000010/sawcar            frame        (shape->[4,3])\n",
      "/exp/m000020/drives            frame        (shape->[5,3])\n",
      "/exp/m000020/sawcar            frame        (shape->[4,3])\n",
      "/exp/m000050/drives            frame        (shape->[5,3])\n",
      "/exp/m000050/sawcar            frame        (shape->[4,3])\n",
      "/exp/m000100/drives            frame        (shape->[5,3])\n",
      "/exp/m000100/sawcar            frame        (shape->[4,3])\n",
      "/exp/m000200/drives            frame        (shape->[5,3])\n",
      "/exp/m000200/sawcar            frame        (shape->[4,3])\n",
      "/exp/m000500/drives            frame        (shape->[5,3])\n",
      "/exp/m000500/sawcar            frame        (shape->[4,3])\n",
      "/exp/m000666/drives            frame        (shape->[5,3])\n",
      "/exp/m000666/sawcar            frame        (shape->[4,3])\n",
      "/exp/m000833/drives            frame        (shape->[5,3])\n",
      "/exp/m000833/sawcar            frame        (shape->[4,3])\n",
      "/exp/m001000/drives            frame        (shape->[5,3])\n",
      "/exp/m001000/sawcar            frame        (shape->[4,3])\n",
      "/exp/m001200/drives            frame        (shape->[5,3])\n",
      "/exp/m001200/sawcar            frame        (shape->[4,3])\n",
      "/exp/m001500/drives            frame        (shape->[5,3])\n",
      "/exp/m001500/sawcar            frame        (shape->[4,3])\n",
      "/exp/m002000/drives            frame        (shape->[5,3])\n",
      "/exp/m002000/sawcar            frame        (shape->[4,3])\n",
      "/exp/m005000/drives            frame        (shape->[5,3])\n",
      "/exp/m005000/sawcar            frame        (shape->[4,3])\n",
      "/exp/m010000/drives            frame        (shape->[5,3])\n",
      "/exp/m010000/sawcar            frame        (shape->[4,3])\n",
      "/exp/m020000/drives            frame        (shape->[5,3])\n",
      "/exp/m020000/sawcar            frame        (shape->[4,3])\n",
      "/exp/m050000/drives            frame        (shape->[5,3])\n",
      "/exp/m050000/sawcar            frame        (shape->[4,3])\n",
      "/exp/m100000/drives            frame        (shape->[5,3])\n",
      "/exp/m100000/sawcar            frame        (shape->[4,3])\n",
      "/orig/drives                   frame        (shape->[5,3])\n",
      "/orig/sawcar                   frame        (shape->[4,3])\n",
      "{'create': 'create trio table DRIVES(person varchar(32),\\ncar varchar(32), uncertain(person, car))\\nwith confidences;\\n',\n",
      " 'insert': \"insert into DRIVES values [('%s','%s'):%f];\",\n",
      " 'qcfg': {'create': 'create table seencars as\\nselect drives.person as suspect, drives.car, witness from drives, sawcar\\nwhere drives.car = sawcar.car;\\n',\n",
      "          'query': 'select * from seencars',\n",
      "          'relations': {'drives': {'create': 'create trio table DRIVES(person varchar(32),\\ncar varchar(32), uncertain(person, car))\\nwith confidences;\\n',\n",
      "                                   'insert': \"insert into DRIVES values [('%s','%s'):%f];\"},\n",
      "                        'sawcar': {'create': 'create trio table SAWCAR(witness varchar(32),\\ncar varchar(32), uncertain(car)) with confidences;\\n',\n",
      "                                   'insert': \"insert into SAWCAR values [('%s','%s'):%f];\"}}}}\n"
     ]
    },
    {
     "data": {
      "text/html": [
       "<div style=\"max-height:1000px;max-width:1500px;overflow:auto;\">\n",
       "<table border=\"1\" class=\"dataframe\">\n",
       "  <thead>\n",
       "    <tr style=\"text-align: right;\">\n",
       "      <th></th>\n",
       "      <th>person</th>\n",
       "      <th>car</th>\n",
       "      <th>conf</th>\n",
       "    </tr>\n",
       "  </thead>\n",
       "  <tbody>\n",
       "    <tr>\n",
       "      <th>0</th>\n",
       "      <td>  Jim</td>\n",
       "      <td>  Honda</td>\n",
       "      <td> 1.0</td>\n",
       "    </tr>\n",
       "    <tr>\n",
       "      <th>1</th>\n",
       "      <td> Hank</td>\n",
       "      <td> Toyota</td>\n",
       "      <td> 0.6</td>\n",
       "    </tr>\n",
       "    <tr>\n",
       "      <th>2</th>\n",
       "      <td>  Jim</td>\n",
       "      <td> Toyota</td>\n",
       "      <td> 0.3</td>\n",
       "    </tr>\n",
       "    <tr>\n",
       "      <th>3</th>\n",
       "      <td>  Bob</td>\n",
       "      <td> Toyota</td>\n",
       "      <td> 0.5</td>\n",
       "    </tr>\n",
       "    <tr>\n",
       "      <th>4</th>\n",
       "      <td>  Bob</td>\n",
       "      <td>  Mazda</td>\n",
       "      <td> 0.3</td>\n",
       "    </tr>\n",
       "  </tbody>\n",
       "</table>\n",
       "</div>"
      ],
      "text/plain": [
       "  person     car  conf\n",
       "0    Jim   Honda   1.0\n",
       "1   Hank  Toyota   0.6\n",
       "2    Jim  Toyota   0.3\n",
       "3    Bob  Toyota   0.5\n",
       "4    Bob   Mazda   0.3"
      ]
     },
     "execution_count": 121,
     "metadata": {},
     "output_type": "execute_result"
    }
   ],
   "source": [
    "sto = pd.HDFStore('/home/amemory/Data/prdbsens/pipelines/crime/pow/1st/q/seencars/seencars.h5','r')\n",
    "print sto\n",
    "k = 'orig/drives'\n",
    "#k = '/exp/m000500/drives'\n",
    "scr = sto[k]\n",
    "pprint.pprint(sto.get_storer(k).attrs.info)\n",
    "sto.close()\n",
    "scr"
   ]
  },
  {
   "cell_type": "markdown",
   "metadata": {},
   "source": [
    "## Query results"
   ]
  },
  {
   "cell_type": "code",
   "execution_count": 135,
   "metadata": {
    "collapsed": false
   },
   "outputs": [
    {
     "name": "stdout",
     "output_type": "stream",
     "text": [
      "<class 'pandas.io.pytables.HDFStore'>\n",
      "File path: /home/amemory/Data/prdbsens/pipelines/crime/pow/1st/q/seencars/qres/seencars.h5\n",
      "/exp/m000010            frame        (shape->[8,2])\n",
      "/exp/m000020            frame        (shape->[8,2])\n",
      "/exp/m000050            frame        (shape->[8,2])\n",
      "/exp/m000100            frame        (shape->[8,2])\n",
      "/exp/m000200            frame        (shape->[8,2])\n",
      "/exp/m000500            frame        (shape->[8,2])\n",
      "/exp/m000666            frame        (shape->[8,2])\n",
      "/exp/m000833            frame        (shape->[8,2])\n",
      "/exp/m001000            frame        (shape->[8,2])\n",
      "/exp/m001200            frame        (shape->[8,2])\n",
      "/exp/m001500            frame        (shape->[8,2])\n",
      "/exp/m002000            frame        (shape->[8,2])\n",
      "/exp/m005000            frame        (shape->[8,2])\n",
      "/exp/m010000            frame        (shape->[8,2])\n",
      "/exp/m020000            frame        (shape->[8,2])\n",
      "/exp/m050000            frame        (shape->[8,2])\n",
      "/exp/m100000            frame        (shape->[8,2])\n",
      "/orig                   frame        (shape->[8,2])\n",
      "{'create': 'create trio table SAWCAR(witness varchar(32),\\ncar varchar(32), uncertain(car)) with confidences;\\n',\n",
      " 'denominator': 5.0,\n",
      " 'insert': \"insert into SAWCAR values [('%s','%s'):%f];\",\n",
      " 'numerator': 1.0,\n",
      " 'qcfg': {'create': 'create table seencars as\\nselect drives.person as suspect, drives.car, witness from drives, sawcar\\nwhere drives.car = sawcar.car;\\n',\n",
      "          'query': 'select * from seencars',\n",
      "          'relations': {'drives': {'create': 'create trio table DRIVES(person varchar(32),\\ncar varchar(32), uncertain(person, car))\\nwith confidences;\\n',\n",
      "                                   'insert': \"insert into DRIVES values [('%s','%s'):%f];\"},\n",
      "                        'sawcar': {'create': 'create trio table SAWCAR(witness varchar(32),\\ncar varchar(32), uncertain(car)) with confidences;\\n',\n",
      "                                   'insert': \"insert into SAWCAR values [('%s','%s'):%f];\"}}}}\n"
     ]
    },
    {
     "data": {
      "text/html": [
       "<div style=\"max-height:1000px;max-width:1500px;overflow:auto;\">\n",
       "<table border=\"1\" class=\"dataframe\">\n",
       "  <thead>\n",
       "    <tr style=\"text-align: right;\">\n",
       "      <th></th>\n",
       "      <th>conf</th>\n",
       "      <th>tuple</th>\n",
       "    </tr>\n",
       "  </thead>\n",
       "  <tbody>\n",
       "    <tr>\n",
       "      <th>0</th>\n",
       "      <td> 1.000000</td>\n",
       "      <td>   (Jim,Honda,Susan)</td>\n",
       "    </tr>\n",
       "    <tr>\n",
       "      <th>1</th>\n",
       "      <td> 0.400000</td>\n",
       "      <td>   (Jim,Honda,Jane)?</td>\n",
       "    </tr>\n",
       "    <tr>\n",
       "      <th>2</th>\n",
       "      <td> 0.632016</td>\n",
       "      <td> (Hank,Toyota,Mary)?</td>\n",
       "    </tr>\n",
       "    <tr>\n",
       "      <th>3</th>\n",
       "      <td> 0.451440</td>\n",
       "      <td> (Hank,Toyota,Jane)?</td>\n",
       "    </tr>\n",
       "    <tr>\n",
       "      <th>4</th>\n",
       "      <td> 0.550202</td>\n",
       "      <td>  (Jim,Toyota,Mary)?</td>\n",
       "    </tr>\n",
       "    <tr>\n",
       "      <th>5</th>\n",
       "      <td> 0.393002</td>\n",
       "      <td>  (Jim,Toyota,Jane)?</td>\n",
       "    </tr>\n",
       "    <tr>\n",
       "      <th>6</th>\n",
       "      <td> 0.609386</td>\n",
       "      <td>  (Bob,Toyota,Mary)?</td>\n",
       "    </tr>\n",
       "    <tr>\n",
       "      <th>7</th>\n",
       "      <td> 0.435275</td>\n",
       "      <td>  (Bob,Toyota,Jane)?</td>\n",
       "    </tr>\n",
       "  </tbody>\n",
       "</table>\n",
       "</div>"
      ],
      "text/plain": [
       "       conf                tuple\n",
       "0  1.000000    (Jim,Honda,Susan)\n",
       "1  0.400000    (Jim,Honda,Jane)?\n",
       "2  0.632016  (Hank,Toyota,Mary)?\n",
       "3  0.451440  (Hank,Toyota,Jane)?\n",
       "4  0.550202   (Jim,Toyota,Mary)?\n",
       "5  0.393002   (Jim,Toyota,Jane)?\n",
       "6  0.609386   (Bob,Toyota,Mary)?\n",
       "7  0.435275   (Bob,Toyota,Jane)?"
      ]
     },
     "execution_count": 135,
     "metadata": {},
     "output_type": "execute_result"
    }
   ],
   "source": [
    "with pd.HDFStore('/home/amemory/Data/prdbsens/pipelines/crime/pow/1st/q/seencars/qres/seencars.h5','r') as sto:\n",
    "    print sto\n",
    "    #k = sto.keys()[0]\n",
    "    k = 'exp/m000200'\n",
    "    scr = sto[k]\n",
    "    pprint.pprint(sto.get_storer(k).attrs.info)\n",
    "scr"
   ]
  },
  {
   "cell_type": "markdown",
   "metadata": {},
   "source": [
    "## Comp. results"
   ]
  },
  {
   "cell_type": "markdown",
   "metadata": {},
   "source": [
    "### pow1st"
   ]
  },
  {
   "cell_type": "code",
   "execution_count": 127,
   "metadata": {
    "collapsed": false
   },
   "outputs": [
    {
     "name": "stdout",
     "output_type": "stream",
     "text": [
      "<class 'pandas.io.pytables.HDFStore'>\n",
      "File path: /home/amemory/Data/prdbsens/pipelines/crime/pow/1st/q/seencars/qres/cmp/seencars.h5\n",
      "/comparison            frame        (shape->[17,3])\n",
      "{'create': 'create trio table SAWCAR(witness varchar(32),\\ncar varchar(32), uncertain(car)) with confidences;\\n',\n",
      " 'insert': \"insert into SAWCAR values [('%s','%s'):%f];\",\n",
      " 'qcfg': {'create': 'create table seencars as\\nselect drives.person as suspect, drives.car, witness from drives, sawcar\\nwhere drives.car = sawcar.car;\\n',\n",
      "          'query': 'select * from seencars',\n",
      "          'relations': {'drives': {'create': 'create trio table DRIVES(person varchar(32),\\ncar varchar(32), uncertain(person, car))\\nwith confidences;\\n',\n",
      "                                   'insert': \"insert into DRIVES values [('%s','%s'):%f];\"},\n",
      "                        'sawcar': {'create': 'create trio table SAWCAR(witness varchar(32),\\ncar varchar(32), uncertain(car)) with confidences;\\n',\n",
      "                                   'insert': \"insert into SAWCAR values [('%s','%s'):%f];\"}}}}\n"
     ]
    },
    {
     "data": {
      "text/html": [
       "<div style=\"max-height:1000px;max-width:1500px;overflow:auto;\">\n",
       "<table border=\"1\" class=\"dataframe\">\n",
       "  <thead>\n",
       "    <tr style=\"text-align: right;\">\n",
       "      <th></th>\n",
       "      <th></th>\n",
       "      <th>kendall</th>\n",
       "      <th>pearson</th>\n",
       "      <th>spearman</th>\n",
       "    </tr>\n",
       "    <tr>\n",
       "      <th>numerator</th>\n",
       "      <th>denominator</th>\n",
       "      <th></th>\n",
       "      <th></th>\n",
       "      <th></th>\n",
       "    </tr>\n",
       "  </thead>\n",
       "  <tbody>\n",
       "    <tr>\n",
       "      <th rowspan=\"9\" valign=\"top\">1.0  </th>\n",
       "      <th>100.0</th>\n",
       "      <td> 0.500000</td>\n",
       "      <td> 0.774288</td>\n",
       "      <td> 0.571429</td>\n",
       "    </tr>\n",
       "    <tr>\n",
       "      <th>50.0 </th>\n",
       "      <td> 0.500000</td>\n",
       "      <td> 0.783340</td>\n",
       "      <td> 0.571429</td>\n",
       "    </tr>\n",
       "    <tr>\n",
       "      <th>20.0 </th>\n",
       "      <td> 0.500000</td>\n",
       "      <td> 0.808776</td>\n",
       "      <td> 0.571429</td>\n",
       "    </tr>\n",
       "    <tr>\n",
       "      <th>10.0 </th>\n",
       "      <td> 0.500000</td>\n",
       "      <td> 0.845704</td>\n",
       "      <td> 0.571429</td>\n",
       "    </tr>\n",
       "    <tr>\n",
       "      <th>5.0  </th>\n",
       "      <td> 0.571429</td>\n",
       "      <td> 0.901688</td>\n",
       "      <td> 0.690476</td>\n",
       "    </tr>\n",
       "    <tr>\n",
       "      <th>2.0  </th>\n",
       "      <td> 0.857143</td>\n",
       "      <td> 0.978993</td>\n",
       "      <td> 0.952381</td>\n",
       "    </tr>\n",
       "    <tr>\n",
       "      <th>1.5  </th>\n",
       "      <td> 0.928571</td>\n",
       "      <td> 0.993002</td>\n",
       "      <td> 0.976190</td>\n",
       "    </tr>\n",
       "    <tr>\n",
       "      <th>1.2  </th>\n",
       "      <td> 1.000000</td>\n",
       "      <td> 0.998643</td>\n",
       "      <td> 1.000000</td>\n",
       "    </tr>\n",
       "    <tr>\n",
       "      <th>1.0  </th>\n",
       "      <td> 1.000000</td>\n",
       "      <td> 1.000000</td>\n",
       "      <td> 1.000000</td>\n",
       "    </tr>\n",
       "    <tr>\n",
       "      <th>1.2  </th>\n",
       "      <th>1.0  </th>\n",
       "      <td> 0.928571</td>\n",
       "      <td> 0.998762</td>\n",
       "      <td> 0.976190</td>\n",
       "    </tr>\n",
       "    <tr>\n",
       "      <th>1.5  </th>\n",
       "      <th>1.0  </th>\n",
       "      <td> 0.928571</td>\n",
       "      <td> 0.994242</td>\n",
       "      <td> 0.976190</td>\n",
       "    </tr>\n",
       "    <tr>\n",
       "      <th>2.0  </th>\n",
       "      <th>1.0  </th>\n",
       "      <td> 0.857143</td>\n",
       "      <td> 0.984433</td>\n",
       "      <td> 0.952381</td>\n",
       "    </tr>\n",
       "    <tr>\n",
       "      <th>5.0  </th>\n",
       "      <th>1.0  </th>\n",
       "      <td> 0.857143</td>\n",
       "      <td> 0.940938</td>\n",
       "      <td> 0.952381</td>\n",
       "    </tr>\n",
       "    <tr>\n",
       "      <th>10.0 </th>\n",
       "      <th>1.0  </th>\n",
       "      <td> 0.857143</td>\n",
       "      <td> 0.926547</td>\n",
       "      <td> 0.952381</td>\n",
       "    </tr>\n",
       "    <tr>\n",
       "      <th>20.0 </th>\n",
       "      <th>1.0  </th>\n",
       "      <td> 0.836502</td>\n",
       "      <td> 0.925366</td>\n",
       "      <td> 0.946125</td>\n",
       "    </tr>\n",
       "    <tr>\n",
       "      <th>50.0 </th>\n",
       "      <th>1.0  </th>\n",
       "      <td> 0.576557</td>\n",
       "      <td> 0.925359</td>\n",
       "      <td> 0.654654</td>\n",
       "    </tr>\n",
       "    <tr>\n",
       "      <th>100.0</th>\n",
       "      <th>1.0  </th>\n",
       "      <td> 0.576557</td>\n",
       "      <td> 0.925359</td>\n",
       "      <td> 0.654654</td>\n",
       "    </tr>\n",
       "  </tbody>\n",
       "</table>\n",
       "</div>"
      ],
      "text/plain": [
       "                        kendall   pearson  spearman\n",
       "numerator denominator                              \n",
       "1.0       100.0        0.500000  0.774288  0.571429\n",
       "          50.0         0.500000  0.783340  0.571429\n",
       "          20.0         0.500000  0.808776  0.571429\n",
       "          10.0         0.500000  0.845704  0.571429\n",
       "          5.0          0.571429  0.901688  0.690476\n",
       "          2.0          0.857143  0.978993  0.952381\n",
       "          1.5          0.928571  0.993002  0.976190\n",
       "          1.2          1.000000  0.998643  1.000000\n",
       "          1.0          1.000000  1.000000  1.000000\n",
       "1.2       1.0          0.928571  0.998762  0.976190\n",
       "1.5       1.0          0.928571  0.994242  0.976190\n",
       "2.0       1.0          0.857143  0.984433  0.952381\n",
       "5.0       1.0          0.857143  0.940938  0.952381\n",
       "10.0      1.0          0.857143  0.926547  0.952381\n",
       "20.0      1.0          0.836502  0.925366  0.946125\n",
       "50.0      1.0          0.576557  0.925359  0.654654\n",
       "100.0     1.0          0.576557  0.925359  0.654654"
      ]
     },
     "execution_count": 127,
     "metadata": {},
     "output_type": "execute_result"
    }
   ],
   "source": [
    "with pd.HDFStore('/home/amemory/Data/prdbsens/pipelines/crime/pow/1st/q/seencars/qres/cmp/seencars.h5','r') as sto:\n",
    "    print sto\n",
    "    k = sto.keys()[0]\n",
    "    #k = 'exp/m000200'\n",
    "    scr = sto[k]\n",
    "    pprint.pprint(sto.get_storer(k).attrs.info)\n",
    "scr"
   ]
  },
  {
   "cell_type": "code",
   "execution_count": 134,
   "metadata": {
    "collapsed": false
   },
   "outputs": [
    {
     "data": {
      "image/png": "[encoded data removed]",
      "text/plain": [
       "<matplotlib.figure.Figure at 0x7f234e981250>"
      ]
     },
     "metadata": {},
     "output_type": "display_data"
    }
   ],
   "source": [
    "plt.figure(figsize=(10,5))\n",
    "ax = plt.gca()\n",
    "scr.plot(ax = ax)\n",
    "plt.title('Differences in ordering of results of queries on an example probabilistic DB\\n query while transforming input confidences (conf^(num/denom)) of one relation')\n",
    "plt.xlabel('Exponent used in transformation')\n",
    "plt.ylabel('Order comparison of transformed vs. non-transformed\\n(1.0 means identical ordering)')\n",
    "pass"
   ]
  },
  {
   "cell_type": "markdown",
   "metadata": {},
   "source": [
    "### powall"
   ]
  },
  {
   "cell_type": "code",
   "execution_count": 136,
   "metadata": {
    "collapsed": false,
    "scrolled": false
   },
   "outputs": [
    {
     "name": "stdout",
     "output_type": "stream",
     "text": [
      "<class 'pandas.io.pytables.HDFStore'>\n",
      "File path: /home/amemory/Data/prdbsens/pipelines/crime/pow/all/q/seencars/qres/cmp/seencars.h5\n",
      "/comparison            frame        (shape->[17,3])\n",
      "{'create': 'create trio table SAWCAR(witness varchar(32),\\ncar varchar(32), uncertain(car)) with confidences;\\n',\n",
      " 'insert': \"insert into SAWCAR values [('%s','%s'):%f];\",\n",
      " 'qcfg': {'create': 'create table seencars as\\nselect drives.person as suspect, drives.car, witness from drives, sawcar\\nwhere drives.car = sawcar.car;\\n',\n",
      "          'query': 'select * from seencars',\n",
      "          'relations': {'drives': {'create': 'create trio table DRIVES(person varchar(32),\\ncar varchar(32), uncertain(person, car))\\nwith confidences;\\n',\n",
      "                                   'insert': \"insert into DRIVES values [('%s','%s'):%f];\"},\n",
      "                        'sawcar': {'create': 'create trio table SAWCAR(witness varchar(32),\\ncar varchar(32), uncertain(car)) with confidences;\\n',\n",
      "                                   'insert': \"insert into SAWCAR values [('%s','%s'):%f];\"}}}}\n"
     ]
    },
    {
     "data": {
      "text/html": [
       "<div style=\"max-height:1000px;max-width:1500px;overflow:auto;\">\n",
       "<table border=\"1\" class=\"dataframe\">\n",
       "  <thead>\n",
       "    <tr style=\"text-align: right;\">\n",
       "      <th></th>\n",
       "      <th></th>\n",
       "      <th>kendall</th>\n",
       "      <th>pearson</th>\n",
       "      <th>spearman</th>\n",
       "    </tr>\n",
       "    <tr>\n",
       "      <th>numerator</th>\n",
       "      <th>denominator</th>\n",
       "      <th></th>\n",
       "      <th></th>\n",
       "      <th></th>\n",
       "    </tr>\n",
       "  </thead>\n",
       "  <tbody>\n",
       "    <tr>\n",
       "      <th rowspan=\"9\" valign=\"top\">1.0  </th>\n",
       "      <th>100.0</th>\n",
       "      <td> 1.000000</td>\n",
       "      <td> 0.954417</td>\n",
       "      <td> 1.000000</td>\n",
       "    </tr>\n",
       "    <tr>\n",
       "      <th>50.0 </th>\n",
       "      <td> 1.000000</td>\n",
       "      <td> 0.955440</td>\n",
       "      <td> 1.000000</td>\n",
       "    </tr>\n",
       "    <tr>\n",
       "      <th>20.0 </th>\n",
       "      <td> 1.000000</td>\n",
       "      <td> 0.958395</td>\n",
       "      <td> 1.000000</td>\n",
       "    </tr>\n",
       "    <tr>\n",
       "      <th>10.0 </th>\n",
       "      <td> 1.000000</td>\n",
       "      <td> 0.963088</td>\n",
       "      <td> 1.000000</td>\n",
       "    </tr>\n",
       "    <tr>\n",
       "      <th>5.0  </th>\n",
       "      <td> 1.000000</td>\n",
       "      <td> 0.971580</td>\n",
       "      <td> 1.000000</td>\n",
       "    </tr>\n",
       "    <tr>\n",
       "      <th>2.0  </th>\n",
       "      <td> 1.000000</td>\n",
       "      <td> 0.989940</td>\n",
       "      <td> 1.000000</td>\n",
       "    </tr>\n",
       "    <tr>\n",
       "      <th>1.5  </th>\n",
       "      <td> 1.000000</td>\n",
       "      <td> 0.995819</td>\n",
       "      <td> 1.000000</td>\n",
       "    </tr>\n",
       "    <tr>\n",
       "      <th>1.2  </th>\n",
       "      <td> 1.000000</td>\n",
       "      <td> 0.999030</td>\n",
       "      <td> 1.000000</td>\n",
       "    </tr>\n",
       "    <tr>\n",
       "      <th>1.0  </th>\n",
       "      <td> 1.000000</td>\n",
       "      <td> 1.000000</td>\n",
       "      <td> 1.000000</td>\n",
       "    </tr>\n",
       "    <tr>\n",
       "      <th>1.2  </th>\n",
       "      <th>1.0  </th>\n",
       "      <td> 1.000000</td>\n",
       "      <td> 0.998841</td>\n",
       "      <td> 1.000000</td>\n",
       "    </tr>\n",
       "    <tr>\n",
       "      <th>1.5  </th>\n",
       "      <th>1.0  </th>\n",
       "      <td> 1.000000</td>\n",
       "      <td> 0.993874</td>\n",
       "      <td> 1.000000</td>\n",
       "    </tr>\n",
       "    <tr>\n",
       "      <th>2.0  </th>\n",
       "      <th>1.0  </th>\n",
       "      <td> 1.000000</td>\n",
       "      <td> 0.981773</td>\n",
       "      <td> 1.000000</td>\n",
       "    </tr>\n",
       "    <tr>\n",
       "      <th>5.0  </th>\n",
       "      <th>1.0  </th>\n",
       "      <td> 1.000000</td>\n",
       "      <td> 0.941408</td>\n",
       "      <td> 1.000000</td>\n",
       "    </tr>\n",
       "    <tr>\n",
       "      <th>10.0 </th>\n",
       "      <th>1.0  </th>\n",
       "      <td> 1.000000</td>\n",
       "      <td> 0.937182</td>\n",
       "      <td> 1.000000</td>\n",
       "    </tr>\n",
       "    <tr>\n",
       "      <th>20.0 </th>\n",
       "      <th>1.0  </th>\n",
       "      <td> 0.718132</td>\n",
       "      <td> 0.937131</td>\n",
       "      <td> 0.756323</td>\n",
       "    </tr>\n",
       "    <tr>\n",
       "      <th>50.0 </th>\n",
       "      <th>1.0  </th>\n",
       "      <td> 0.500000</td>\n",
       "      <td> 0.937131</td>\n",
       "      <td> 0.577350</td>\n",
       "    </tr>\n",
       "    <tr>\n",
       "      <th>100.0</th>\n",
       "      <th>1.0  </th>\n",
       "      <td> 0.500000</td>\n",
       "      <td> 0.937131</td>\n",
       "      <td> 0.577350</td>\n",
       "    </tr>\n",
       "  </tbody>\n",
       "</table>\n",
       "</div>"
      ],
      "text/plain": [
       "                        kendall   pearson  spearman\n",
       "numerator denominator                              \n",
       "1.0       100.0        1.000000  0.954417  1.000000\n",
       "          50.0         1.000000  0.955440  1.000000\n",
       "          20.0         1.000000  0.958395  1.000000\n",
       "          10.0         1.000000  0.963088  1.000000\n",
       "          5.0          1.000000  0.971580  1.000000\n",
       "          2.0          1.000000  0.989940  1.000000\n",
       "          1.5          1.000000  0.995819  1.000000\n",
       "          1.2          1.000000  0.999030  1.000000\n",
       "          1.0          1.000000  1.000000  1.000000\n",
       "1.2       1.0          1.000000  0.998841  1.000000\n",
       "1.5       1.0          1.000000  0.993874  1.000000\n",
       "2.0       1.0          1.000000  0.981773  1.000000\n",
       "5.0       1.0          1.000000  0.941408  1.000000\n",
       "10.0      1.0          1.000000  0.937182  1.000000\n",
       "20.0      1.0          0.718132  0.937131  0.756323\n",
       "50.0      1.0          0.500000  0.937131  0.577350\n",
       "100.0     1.0          0.500000  0.937131  0.577350"
      ]
     },
     "execution_count": 136,
     "metadata": {},
     "output_type": "execute_result"
    }
   ],
   "source": [
    "with pd.HDFStore('/home/amemory/Data/prdbsens/pipelines/crime/pow/all/q/seencars/qres/cmp/seencars.h5','r') as sto:\n",
    "    print sto\n",
    "    k = sto.keys()[0]\n",
    "    #k = 'exp/m000200'\n",
    "    scr = sto[k]\n",
    "    pprint.pprint(sto.get_storer(k).attrs.info)\n",
    "scr"
   ]
  },
  {
   "cell_type": "code",
   "execution_count": 138,
   "metadata": {
    "collapsed": false
   },
   "outputs": [
    {
     "data": {
      "image/png": "[encoded data removed]",
      "text/plain": [
       "<matplotlib.figure.Figure at 0x7f234e8b1e10>"
      ]
     },
     "metadata": {},
     "output_type": "display_data"
    }
   ],
   "source": [
    "plt.figure(figsize=(10,5))\n",
    "ax = plt.gca()\n",
    "scr.plot(ax = ax)\n",
    "plt.title('Differences in ordering of results of queries on an example probabilistic DB\\n query while transforming input confidences (conf^(num/denom)) of all relations')\n",
    "plt.xlabel('Exponent used in transformation')\n",
    "plt.ylabel('Order comparison of transformed vs. non-transformed\\n(1.0 means identical ordering)')\n",
    "pass"
   ]
  },
  {
   "cell_type": "markdown",
   "metadata": {
    "collapsed": true
   },
   "source": [
    "# Pipeline, TPC-H"
   ]
  },
  {
   "cell_type": "code",
   "execution_count": 112,
   "metadata": {
    "collapsed": false
   },
   "outputs": [
    {
     "name": "stdout",
     "output_type": "stream",
     "text": [
      "200848\n"
     ]
    }
   ],
   "source": [
    "#scr = pd.read_csv('/home/amemory/Data/prdbsens/pipelines/tpch/rel/region_r.csv',quotechar=\"'\")\n",
    "#scr = pd.read_csv('/home/amemory/Data/prdbsens/pipelines/tpch/rel/nation_n.csv',quotechar=\"'\")\n",
    "scr = pd.read_csv('/home/amemory/Data/prdbsens/pipelines/tpch/rel/cust_c.csv',quotechar=\"'\")\n",
    "#scr = pd.read_csv('/home/amemory/Data/prdbsens/pipelines/tpch/rel/orders_o.csv',quotechar=\"'\")\n",
    "print len(scr)"
   ]
  },
  {
   "cell_type": "code",
   "execution_count": 113,
   "metadata": {
    "collapsed": false
   },
   "outputs": [
    {
     "data": {
      "text/html": [
       "<div style=\"max-height:1000px;max-width:1500px;overflow:auto;\">\n",
       "<table border=\"1\" class=\"dataframe\">\n",
       "  <thead>\n",
       "    <tr style=\"text-align: right;\">\n",
       "      <th></th>\n",
       "      <th>custkey</th>\n",
       "      <th>name</th>\n",
       "      <th>acctbal</th>\n",
       "      <th>address</th>\n",
       "      <th>mktsegment</th>\n",
       "      <th>nationkey</th>\n",
       "      <th>phone</th>\n",
       "      <th>comment</th>\n",
       "      <th>conf</th>\n",
       "    </tr>\n",
       "  </thead>\n",
       "  <tbody>\n",
       "    <tr>\n",
       "      <th>0</th>\n",
       "      <td> 1</td>\n",
       "      <td> Customer#000000001</td>\n",
       "      <td>  711.56</td>\n",
       "      <td> IVhzIApeRb ot,c,E</td>\n",
       "      <td>  BUILDING</td>\n",
       "      <td> 15</td>\n",
       "      <td> 25-989-741-2988</td>\n",
       "      <td> to the even, regular platelets. regular, ironi...</td>\n",
       "      <td> 0.5</td>\n",
       "    </tr>\n",
       "    <tr>\n",
       "      <th>1</th>\n",
       "      <td> 1</td>\n",
       "      <td> Customer#000087131</td>\n",
       "      <td> 8761.57</td>\n",
       "      <td>   pddnCHIRd,eXnrf</td>\n",
       "      <td> FURNITURE</td>\n",
       "      <td> 12</td>\n",
       "      <td> 22-874-145-6560</td>\n",
       "      <td> e special, even pinto beans. finally even pack...</td>\n",
       "      <td> 0.5</td>\n",
       "    </tr>\n",
       "  </tbody>\n",
       "</table>\n",
       "</div>"
      ],
      "text/plain": [
       "   custkey                name  acctbal            address mktsegment  \\\n",
       "0        1  Customer#000000001   711.56  IVhzIApeRb ot,c,E   BUILDING   \n",
       "1        1  Customer#000087131  8761.57    pddnCHIRd,eXnrf  FURNITURE   \n",
       "\n",
       "   nationkey            phone  \\\n",
       "0         15  25-989-741-2988   \n",
       "1         12  22-874-145-6560   \n",
       "\n",
       "                                             comment  conf  \n",
       "0  to the even, regular platelets. regular, ironi...   0.5  \n",
       "1  e special, even pinto beans. finally even pack...   0.5  "
      ]
     },
     "execution_count": 113,
     "metadata": {},
     "output_type": "execute_result"
    }
   ],
   "source": [
    "scr.head(2)"
   ]
  },
  {
   "cell_type": "code",
   "execution_count": 114,
   "metadata": {
    "collapsed": false
   },
   "outputs": [
    {
     "data": {
      "text/plain": [
       "20000"
      ]
     },
     "execution_count": 114,
     "metadata": {},
     "output_type": "execute_result"
    }
   ],
   "source": [
    "scr2 = pd.read_csv('/home/amemory/Data/prdbsens/pipelines/tpch/rel/sam/20000/cust_c.csv',quotechar=\"'\")\n",
    "len(scr2)"
   ]
  },
  {
   "cell_type": "code",
   "execution_count": 115,
   "metadata": {
    "collapsed": false
   },
   "outputs": [
    {
     "data": {
      "text/html": [
       "<div style=\"max-height:1000px;max-width:1500px;overflow:auto;\">\n",
       "<table border=\"1\" class=\"dataframe\">\n",
       "  <thead>\n",
       "    <tr style=\"text-align: right;\">\n",
       "      <th></th>\n",
       "      <th>custkey</th>\n",
       "      <th>name</th>\n",
       "      <th>acctbal</th>\n",
       "      <th>address</th>\n",
       "      <th>mktsegment</th>\n",
       "      <th>nationkey</th>\n",
       "      <th>phone</th>\n",
       "      <th>comment</th>\n",
       "      <th>conf</th>\n",
       "    </tr>\n",
       "  </thead>\n",
       "  <tbody>\n",
       "    <tr>\n",
       "      <th>0</th>\n",
       "      <td> 110515</td>\n",
       "      <td> Customer#000110515</td>\n",
       "      <td>  783.22</td>\n",
       "      <td>      o7G7R4orbpwK828o6J5EDpbdt0gQ</td>\n",
       "      <td> MACHINERY</td>\n",
       "      <td> 18</td>\n",
       "      <td> 28-195-863-5902</td>\n",
       "      <td> pinto beans run quickly according to the depos...</td>\n",
       "      <td> 1.0000</td>\n",
       "    </tr>\n",
       "    <tr>\n",
       "      <th>1</th>\n",
       "      <td> 125331</td>\n",
       "      <td> Customer#000125331</td>\n",
       "      <td> 3904.37</td>\n",
       "      <td> oPrxksMlgoerB5GEeQIbr2kQL3u5x0iwh</td>\n",
       "      <td>  BUILDING</td>\n",
       "      <td> 21</td>\n",
       "      <td> 31-795-444-4855</td>\n",
       "      <td> wake quickly furiously busy packages. bold req...</td>\n",
       "      <td> 0.3333</td>\n",
       "    </tr>\n",
       "  </tbody>\n",
       "</table>\n",
       "</div>"
      ],
      "text/plain": [
       "   custkey                name  acctbal                            address  \\\n",
       "0   110515  Customer#000110515   783.22       o7G7R4orbpwK828o6J5EDpbdt0gQ   \n",
       "1   125331  Customer#000125331  3904.37  oPrxksMlgoerB5GEeQIbr2kQL3u5x0iwh   \n",
       "\n",
       "  mktsegment  nationkey            phone  \\\n",
       "0  MACHINERY         18  28-195-863-5902   \n",
       "1   BUILDING         21  31-795-444-4855   \n",
       "\n",
       "                                             comment    conf  \n",
       "0  pinto beans run quickly according to the depos...  1.0000  \n",
       "1  wake quickly furiously busy packages. bold req...  0.3333  "
      ]
     },
     "execution_count": 115,
     "metadata": {},
     "output_type": "execute_result"
    }
   ],
   "source": [
    "scr2.head(2)"
   ]
  },
  {
   "cell_type": "code",
   "execution_count": null,
   "metadata": {
    "collapsed": true
   },
   "outputs": [],
   "source": []
  },
  {
   "cell_type": "code",
   "execution_count": 95,
   "metadata": {
    "collapsed": false
   },
   "outputs": [
    {
     "data": {
      "text/plain": [
       "custkey         int64\n",
       "name           object\n",
       "acctbal       float64\n",
       "address        object\n",
       "mktsegment     object\n",
       "nationkey       int64\n",
       "phone          object\n",
       "comment        object\n",
       "conf          float64\n",
       "dtype: object"
      ]
     },
     "execution_count": 95,
     "metadata": {},
     "output_type": "execute_result"
    }
   ],
   "source": [
    "scr.dtypes"
   ]
  },
  {
   "cell_type": "code",
   "execution_count": 96,
   "metadata": {
    "collapsed": false
   },
   "outputs": [],
   "source": [
    "# scr['comment'] = scr.comment.str.replace(';',' ')"
   ]
  },
  {
   "cell_type": "code",
   "execution_count": 97,
   "metadata": {
    "collapsed": false
   },
   "outputs": [],
   "source": [
    "scr = scr.apply(lambda c: c.str.replace(';',' '), axis=1)"
   ]
  },
  {
   "cell_type": "code",
   "execution_count": 91,
   "metadata": {
    "collapsed": false
   },
   "outputs": [
    {
     "data": {
      "text/plain": [
       "123"
      ]
     },
     "execution_count": 91,
     "metadata": {},
     "output_type": "execute_result"
    }
   ],
   "source": [
    "len(scr)"
   ]
  },
  {
   "cell_type": "code",
   "execution_count": 92,
   "metadata": {
    "collapsed": false
   },
   "outputs": [
    {
     "data": {
      "text/plain": [
       "'s are quickly above the quickly ironic instructions  even requests about the carefully final deposi'"
      ]
     },
     "execution_count": 92,
     "metadata": {},
     "output_type": "execute_result"
    }
   ],
   "source": [
    "scr.iloc[122].comment"
   ]
  },
  {
   "cell_type": "code",
   "execution_count": 99,
   "metadata": {
    "collapsed": false
   },
   "outputs": [
    {
     "data": {
      "text/html": [
       "<div style=\"max-height:1000px;max-width:1500px;overflow:auto;\">\n",
       "<table border=\"1\" class=\"dataframe\">\n",
       "  <thead>\n",
       "    <tr style=\"text-align: right;\">\n",
       "      <th></th>\n",
       "      <th>custkey</th>\n",
       "      <th>name</th>\n",
       "      <th>acctbal</th>\n",
       "      <th>address</th>\n",
       "      <th>mktsegment</th>\n",
       "      <th>nationkey</th>\n",
       "      <th>phone</th>\n",
       "      <th>comment</th>\n",
       "      <th>conf</th>\n",
       "    </tr>\n",
       "  </thead>\n",
       "  <tbody>\n",
       "    <tr>\n",
       "      <th>0</th>\n",
       "      <td>NaN</td>\n",
       "      <td> Customer#000000001</td>\n",
       "      <td>NaN</td>\n",
       "      <td> IVhzIApeRb ot,c,E</td>\n",
       "      <td>  BUILDING</td>\n",
       "      <td>NaN</td>\n",
       "      <td> 25-989-741-2988</td>\n",
       "      <td> to the even, regular platelets. regular, ironi...</td>\n",
       "      <td>NaN</td>\n",
       "    </tr>\n",
       "    <tr>\n",
       "      <th>1</th>\n",
       "      <td>NaN</td>\n",
       "      <td> Customer#000087131</td>\n",
       "      <td>NaN</td>\n",
       "      <td>   pddnCHIRd,eXnrf</td>\n",
       "      <td> FURNITURE</td>\n",
       "      <td>NaN</td>\n",
       "      <td> 22-874-145-6560</td>\n",
       "      <td> e special, even pinto beans. finally even pack...</td>\n",
       "      <td>NaN</td>\n",
       "    </tr>\n",
       "  </tbody>\n",
       "</table>\n",
       "</div>"
      ],
      "text/plain": [
       "   custkey                name  acctbal            address mktsegment  \\\n",
       "0      NaN  Customer#000000001      NaN  IVhzIApeRb ot,c,E   BUILDING   \n",
       "1      NaN  Customer#000087131      NaN    pddnCHIRd,eXnrf  FURNITURE   \n",
       "\n",
       "   nationkey            phone  \\\n",
       "0        NaN  25-989-741-2988   \n",
       "1        NaN  22-874-145-6560   \n",
       "\n",
       "                                             comment  conf  \n",
       "0  to the even, regular platelets. regular, ironi...   NaN  \n",
       "1  e special, even pinto beans. finally even pack...   NaN  "
      ]
     },
     "execution_count": 99,
     "metadata": {},
     "output_type": "execute_result"
    }
   ],
   "source": [
    "scr.head(2)"
   ]
  },
  {
   "cell_type": "code",
   "execution_count": 98,
   "metadata": {
    "collapsed": false
   },
   "outputs": [
    {
     "data": {
      "text/plain": [
       "custkey       float64\n",
       "name           object\n",
       "acctbal       float64\n",
       "address        object\n",
       "mktsegment     object\n",
       "nationkey     float64\n",
       "phone          object\n",
       "comment        object\n",
       "conf          float64\n",
       "dtype: object"
      ]
     },
     "execution_count": 98,
     "metadata": {},
     "output_type": "execute_result"
    }
   ],
   "source": [
    "scr.dtypes"
   ]
  },
  {
   "cell_type": "markdown",
   "metadata": {},
   "source": [
    "## Inst., tpch"
   ]
  },
  {
   "cell_type": "code",
   "execution_count": 22,
   "metadata": {
    "collapsed": false,
    "scrolled": false
   },
   "outputs": [
    {
     "name": "stdout",
     "output_type": "stream",
     "text": [
      "<class 'pandas.io.pytables.HDFStore'>\n",
      "File path: /home/amemory/Data/prdbsens/pipelines/tpch/pow/all/q/toy001_reg_nat/toy001_reg_nat.h5\n",
      "/exp/m000500/nation_n            frame        (shape->[28,5])\n",
      "/exp/m000500/region_r            frame        (shape->[5,4]) \n",
      "/orig/nation_n                   frame        (shape->[28,5])\n",
      "/orig/region_r                   frame        (shape->[5,4]) \n"
     ]
    },
    {
     "data": {
      "text/html": [
       "<div style=\"max-height:1000px;max-width:1500px;overflow:auto;\">\n",
       "<table border=\"1\" class=\"dataframe\">\n",
       "  <thead>\n",
       "    <tr style=\"text-align: right;\">\n",
       "      <th></th>\n",
       "      <th>nationkey</th>\n",
       "      <th>name</th>\n",
       "      <th>regionkey</th>\n",
       "      <th>comment</th>\n",
       "      <th>conf</th>\n",
       "    </tr>\n",
       "  </thead>\n",
       "  <tbody>\n",
       "    <tr>\n",
       "      <th>0</th>\n",
       "      <td> 0</td>\n",
       "      <td>   ALGERIA</td>\n",
       "      <td> 0</td>\n",
       "      <td> haggle. carefully final deposits detect slyly ...</td>\n",
       "      <td> 1</td>\n",
       "    </tr>\n",
       "    <tr>\n",
       "      <th>1</th>\n",
       "      <td> 1</td>\n",
       "      <td> ARGENTINA</td>\n",
       "      <td> 1</td>\n",
       "      <td> al foxes promise slyly according to the regula...</td>\n",
       "      <td> 1</td>\n",
       "    </tr>\n",
       "  </tbody>\n",
       "</table>\n",
       "</div>"
      ],
      "text/plain": [
       "   nationkey       name  regionkey  \\\n",
       "0          0    ALGERIA          0   \n",
       "1          1  ARGENTINA          1   \n",
       "\n",
       "                                             comment  conf  \n",
       "0  haggle. carefully final deposits detect slyly ...     1  \n",
       "1  al foxes promise slyly according to the regula...     1  "
      ]
     },
     "execution_count": 22,
     "metadata": {},
     "output_type": "execute_result"
    }
   ],
   "source": [
    "with pd.HDFStore('/home/amemory/Data/prdbsens/pipelines/tpch/pow/all/q/toy001_reg_nat/toy001_reg_nat.h5','r') as sto:\n",
    "    print sto\n",
    "    #k = sto.keys()[0]\n",
    "    #k = 'exp/m000500/nation_n'\n",
    "    k = 'orig/nation_n'\n",
    "    scr = sto[k]\n",
    "    #pprint.pprint(sto.get_storer(k).attrs.info)\n",
    "scr.head(2)"
   ]
  },
  {
   "cell_type": "markdown",
   "metadata": {},
   "source": [
    "## Res., tpch"
   ]
  },
  {
   "cell_type": "code",
   "execution_count": 100,
   "metadata": {
    "collapsed": false,
    "scrolled": false
   },
   "outputs": [
    {
     "name": "stdout",
     "output_type": "stream",
     "text": [
      "<class 'pandas.io.pytables.HDFStore'>\n",
      "File path: /home/amemory/Data/prdbsens/pipelines/tpch/pow/all/q/toy002_cust_ord/qres/toy002_cust_ord.h5\n",
      "/exp/m000500            frame        (shape->[5,2])\n",
      "/orig                   frame        (shape->[5,2])\n"
     ]
    },
    {
     "data": {
      "text/html": [
       "<div style=\"max-height:1000px;max-width:1500px;overflow:auto;\">\n",
       "<table border=\"1\" class=\"dataframe\">\n",
       "  <thead>\n",
       "    <tr style=\"text-align: right;\">\n",
       "      <th></th>\n",
       "      <th>conf</th>\n",
       "      <th>tuple</th>\n",
       "    </tr>\n",
       "  </thead>\n",
       "  <tbody>\n",
       "    <tr>\n",
       "      <th>0</th>\n",
       "      <td> 1</td>\n",
       "      <td> (18527,1993-02-15 00:00:00,0,Customer#000001955)</td>\n",
       "    </tr>\n",
       "    <tr>\n",
       "      <th>1</th>\n",
       "      <td> 1</td>\n",
       "      <td> (34567,1992-04-24 00:00:00,0,Customer#000001468)</td>\n",
       "    </tr>\n",
       "  </tbody>\n",
       "</table>\n",
       "</div>"
      ],
      "text/plain": [
       "   conf                                             tuple\n",
       "0     1  (18527,1993-02-15 00:00:00,0,Customer#000001955)\n",
       "1     1  (34567,1992-04-24 00:00:00,0,Customer#000001468)"
      ]
     },
     "execution_count": 100,
     "metadata": {},
     "output_type": "execute_result"
    }
   ],
   "source": [
    "#with pd.HDFStore('/home/amemory/Data/prdbsens/pipelines/tpch/pow/all/q/toy001_reg_nat/qres/toy001_reg_nat.h5','r') as sto:\n",
    "with pd.HDFStore('/home/amemory/Data/prdbsens/pipelines/tpch/pow/all/q/toy002_cust_ord/qres/toy002_cust_ord.h5','r') as sto:\n",
    "    print sto\n",
    "    #k = sto.keys()[0]\n",
    "    k = 'orig'\n",
    "    scr = sto[k]\n",
    "    k = 'exp/m000500'\n",
    "    scrt = sto[k]\n",
    "    #pprint.pprint(sto.get_storer(k).attrs.info)\n",
    "scr.head(2)"
   ]
  },
  {
   "cell_type": "code",
   "execution_count": 101,
   "metadata": {
    "collapsed": false
   },
   "outputs": [
    {
     "name": "stdout",
     "output_type": "stream",
     "text": [
      "5\n"
     ]
    },
    {
     "data": {
      "text/html": [
       "<div style=\"max-height:1000px;max-width:1500px;overflow:auto;\">\n",
       "<table border=\"1\" class=\"dataframe\">\n",
       "  <thead>\n",
       "    <tr style=\"text-align: right;\">\n",
       "      <th></th>\n",
       "      <th>conf</th>\n",
       "      <th>tuple</th>\n",
       "    </tr>\n",
       "  </thead>\n",
       "  <tbody>\n",
       "    <tr>\n",
       "      <th>0</th>\n",
       "      <td> 1</td>\n",
       "      <td> (18527,1993-02-15 00:00:00,0,Customer#000001955)</td>\n",
       "    </tr>\n",
       "    <tr>\n",
       "      <th>1</th>\n",
       "      <td> 1</td>\n",
       "      <td> (34567,1992-04-24 00:00:00,0,Customer#000001468)</td>\n",
       "    </tr>\n",
       "  </tbody>\n",
       "</table>\n",
       "</div>"
      ],
      "text/plain": [
       "   conf                                             tuple\n",
       "0     1  (18527,1993-02-15 00:00:00,0,Customer#000001955)\n",
       "1     1  (34567,1992-04-24 00:00:00,0,Customer#000001468)"
      ]
     },
     "execution_count": 101,
     "metadata": {},
     "output_type": "execute_result"
    }
   ],
   "source": [
    "print len(scr)\n",
    "scr.head(2)"
   ]
  },
  {
   "cell_type": "code",
   "execution_count": 102,
   "metadata": {
    "collapsed": false
   },
   "outputs": [
    {
     "name": "stdout",
     "output_type": "stream",
     "text": [
      "5\n"
     ]
    },
    {
     "data": {
      "text/html": [
       "<div style=\"max-height:1000px;max-width:1500px;overflow:auto;\">\n",
       "<table border=\"1\" class=\"dataframe\">\n",
       "  <thead>\n",
       "    <tr style=\"text-align: right;\">\n",
       "      <th></th>\n",
       "      <th>conf</th>\n",
       "      <th>tuple</th>\n",
       "    </tr>\n",
       "  </thead>\n",
       "  <tbody>\n",
       "    <tr>\n",
       "      <th>0</th>\n",
       "      <td> 1</td>\n",
       "      <td> (18527,1993-02-15 00:00:00,0,Customer#000001955)</td>\n",
       "    </tr>\n",
       "    <tr>\n",
       "      <th>1</th>\n",
       "      <td> 1</td>\n",
       "      <td> (34567,1992-04-24 00:00:00,0,Customer#000001468)</td>\n",
       "    </tr>\n",
       "  </tbody>\n",
       "</table>\n",
       "</div>"
      ],
      "text/plain": [
       "   conf                                             tuple\n",
       "0     1  (18527,1993-02-15 00:00:00,0,Customer#000001955)\n",
       "1     1  (34567,1992-04-24 00:00:00,0,Customer#000001468)"
      ]
     },
     "execution_count": 102,
     "metadata": {},
     "output_type": "execute_result"
    }
   ],
   "source": [
    "print len(scrt)\n",
    "scrt.head(2)"
   ]
  },
  {
   "cell_type": "code",
   "execution_count": 103,
   "metadata": {
    "collapsed": false
   },
   "outputs": [],
   "source": [
    "#scrm = scr.join(scrt)"
   ]
  },
  {
   "cell_type": "code",
   "execution_count": 104,
   "metadata": {
    "collapsed": false
   },
   "outputs": [
    {
     "name": "stdout",
     "output_type": "stream",
     "text": [
      "5\n"
     ]
    },
    {
     "data": {
      "text/html": [
       "<div style=\"max-height:1000px;max-width:1500px;overflow:auto;\">\n",
       "<table border=\"1\" class=\"dataframe\">\n",
       "  <thead>\n",
       "    <tr style=\"text-align: right;\">\n",
       "      <th></th>\n",
       "      <th>conf_x</th>\n",
       "      <th>tuple</th>\n",
       "      <th>conf_y</th>\n",
       "    </tr>\n",
       "  </thead>\n",
       "  <tbody>\n",
       "    <tr>\n",
       "      <th>0</th>\n",
       "      <td> 1</td>\n",
       "      <td> (18527,1993-02-15 00:00:00,0,Customer#000001955)</td>\n",
       "      <td> 1</td>\n",
       "    </tr>\n",
       "    <tr>\n",
       "      <th>1</th>\n",
       "      <td> 1</td>\n",
       "      <td> (34567,1992-04-24 00:00:00,0,Customer#000001468)</td>\n",
       "      <td> 1</td>\n",
       "    </tr>\n",
       "  </tbody>\n",
       "</table>\n",
       "</div>"
      ],
      "text/plain": [
       "   conf_x                                             tuple  conf_y\n",
       "0       1  (18527,1993-02-15 00:00:00,0,Customer#000001955)       1\n",
       "1       1  (34567,1992-04-24 00:00:00,0,Customer#000001468)       1"
      ]
     },
     "execution_count": 104,
     "metadata": {},
     "output_type": "execute_result"
    }
   ],
   "source": [
    "scrm= scr.merge(scrt, on='tuple')\n",
    "print len(scrm)\n",
    "scrm.head(2)"
   ]
  },
  {
   "cell_type": "code",
   "execution_count": 105,
   "metadata": {
    "collapsed": false
   },
   "outputs": [
    {
     "data": {
      "text/plain": [
       "(34567,1992-04-24 00:00:00,0,Customer#000001468)     1\n",
       "(83683,1994-04-20 00:00:00,0,Customer#000000931)     1\n",
       "(36072,1992-05-10 00:00:00,0,Customer#000001714)     1\n",
       "(69304,1994-07-24 00:00:00,0,Customer#000002034)?    1\n",
       "(18527,1993-02-15 00:00:00,0,Customer#000001955)     1\n",
       "dtype: int64"
      ]
     },
     "execution_count": 105,
     "metadata": {},
     "output_type": "execute_result"
    }
   ],
   "source": [
    "scr.tuple.value_counts()"
   ]
  },
  {
   "cell_type": "code",
   "execution_count": 106,
   "metadata": {
    "collapsed": false
   },
   "outputs": [
    {
     "data": {
      "text/plain": [
       "(34567,1992-04-24 00:00:00,0,Customer#000001468)     1\n",
       "(83683,1994-04-20 00:00:00,0,Customer#000000931)     1\n",
       "(36072,1992-05-10 00:00:00,0,Customer#000001714)     1\n",
       "(69304,1994-07-24 00:00:00,0,Customer#000002034)?    1\n",
       "(18527,1993-02-15 00:00:00,0,Customer#000001955)     1\n",
       "dtype: int64"
      ]
     },
     "execution_count": 106,
     "metadata": {},
     "output_type": "execute_result"
    }
   ],
   "source": [
    "scrt.tuple.value_counts()"
   ]
  },
  {
   "cell_type": "code",
   "execution_count": 107,
   "metadata": {
    "collapsed": false
   },
   "outputs": [
    {
     "data": {
      "text/plain": [
       "(34567,1992-04-24 00:00:00,0,Customer#000001468)     1\n",
       "(83683,1994-04-20 00:00:00,0,Customer#000000931)     1\n",
       "(36072,1992-05-10 00:00:00,0,Customer#000001714)     1\n",
       "(69304,1994-07-24 00:00:00,0,Customer#000002034)?    1\n",
       "(18527,1993-02-15 00:00:00,0,Customer#000001955)     1\n",
       "dtype: int64"
      ]
     },
     "execution_count": 107,
     "metadata": {},
     "output_type": "execute_result"
    }
   ],
   "source": [
    "scrm.tuple.value_counts()"
   ]
  },
  {
   "cell_type": "markdown",
   "metadata": {
    "collapsed": true
   },
   "source": [
    "## Comp., tpch"
   ]
  },
  {
   "cell_type": "markdown",
   "metadata": {},
   "source": [
    "### toy001_reg_nat"
   ]
  },
  {
   "cell_type": "code",
   "execution_count": 126,
   "metadata": {
    "collapsed": false
   },
   "outputs": [
    {
     "name": "stdout",
     "output_type": "stream",
     "text": [
      "CREATE\n",
      "create table reg_nat as\n",
      "select distinct nation_n.name as nation, region_r.name as region\n",
      "from nation_n, region_r\n",
      "where nation_n.regionkey = region_r.regionkey;\n",
      "\n",
      "QUERY\n",
      "select * from reg_nat\n"
     ]
    }
   ],
   "source": [
    "with open('/home/amemory/Data/prdbsens/pipelines/tpch/pow/all/q/toy001_reg_nat.yaml','r') as f:\n",
    "    qcfg = yaml.load(f)\n",
    "    print \"CREATE\"\n",
    "    print(qcfg['create'])    \n",
    "    print \"QUERY\"\n",
    "    print(qcfg['query'])"
   ]
  },
  {
   "cell_type": "code",
   "execution_count": 120,
   "metadata": {
    "collapsed": false,
    "scrolled": false
   },
   "outputs": [
    {
     "name": "stdout",
     "output_type": "stream",
     "text": [
      "<class 'pandas.io.pytables.HDFStore'>\n",
      "File path: /home/amemory/Data/prdbsens/pipelines/tpch/pow/all/q/toy001_reg_nat/qres/cmp/toy001_reg_nat.h5\n",
      "/comparison            frame        (shape->[7,3])\n"
     ]
    },
    {
     "data": {
      "text/html": [
       "<div style=\"max-height:1000px;max-width:1500px;overflow:auto;\">\n",
       "<table border=\"1\" class=\"dataframe\">\n",
       "  <thead>\n",
       "    <tr style=\"text-align: right;\">\n",
       "      <th></th>\n",
       "      <th></th>\n",
       "      <th>kendall</th>\n",
       "      <th>pearson</th>\n",
       "      <th>spearman</th>\n",
       "    </tr>\n",
       "    <tr>\n",
       "      <th>numerator</th>\n",
       "      <th>denominator</th>\n",
       "      <th></th>\n",
       "      <th></th>\n",
       "      <th></th>\n",
       "    </tr>\n",
       "  </thead>\n",
       "  <tbody>\n",
       "    <tr>\n",
       "      <th rowspan=\"2\" valign=\"top\">1</th>\n",
       "      <th>50</th>\n",
       "      <td> 0.953488</td>\n",
       "      <td> 0.665622</td>\n",
       "      <td> 0.995868</td>\n",
       "    </tr>\n",
       "    <tr>\n",
       "      <th>20</th>\n",
       "      <td> 0.953488</td>\n",
       "      <td> 0.721279</td>\n",
       "      <td> 0.995868</td>\n",
       "    </tr>\n",
       "  </tbody>\n",
       "</table>\n",
       "</div>"
      ],
      "text/plain": [
       "                        kendall   pearson  spearman\n",
       "numerator denominator                              \n",
       "1         50           0.953488  0.665622  0.995868\n",
       "          20           0.953488  0.721279  0.995868"
      ]
     },
     "execution_count": 120,
     "metadata": {},
     "output_type": "execute_result"
    }
   ],
   "source": [
    "with pd.HDFStore('/home/amemory/Data/prdbsens/pipelines/tpch/pow/all/q/toy001_reg_nat/qres/cmp/toy001_reg_nat.h5','r') as sto:\n",
    "    print sto\n",
    "    k = sto.keys()[0]\n",
    "    scr = sto[k]\n",
    "    #pprint.pprint(sto.get_storer(k).attrs.info)\n",
    "scr.head(2)"
   ]
  },
  {
   "cell_type": "code",
   "execution_count": 121,
   "metadata": {
    "collapsed": false
   },
   "outputs": [
    {
     "data": {
      "image/png": "[encoded data removed]",
      "text/plain": [
       "<matplotlib.figure.Figure at 0x7f1c459a8490>"
      ]
     },
     "metadata": {},
     "output_type": "display_data"
    }
   ],
   "source": [
    "plt.figure(figsize=(10,5))\n",
    "ax = plt.gca()\n",
    "scr.plot(ax = ax)\n",
    "plt.title('Differences in ordering of results of queries on an example probabilistic DB\\n query while transforming input confidences (conf^(num/denom)) of all relations')\n",
    "plt.xlabel('Exponent used in transformation (numerator, denominator)')\n",
    "plt.ylabel('Order comparison of transformed vs. non-transformed\\n(1.0 means identical ordering)')\n",
    "pass"
   ]
  },
  {
   "cell_type": "markdown",
   "metadata": {},
   "source": [
    "### toy002_cust_ord"
   ]
  },
  {
   "cell_type": "code",
   "execution_count": 127,
   "metadata": {
    "collapsed": false
   },
   "outputs": [
    {
     "name": "stdout",
     "output_type": "stream",
     "text": [
      "CREATE\n",
      "create table cust_ord as\n",
      "select distinct\n",
      "orders_o.orderkey as orderkey,\n",
      "orders_o.orderdate as orderdate,\n",
      "orders_o.shippriority as shippriority,\n",
      "cust_c.name as customer\n",
      "from orders_o, cust_c\n",
      "where cust_c.mktsegment = 'BUILDING'\n",
      "and orders_o.custkey = cust_c.custkey\n",
      "and orders_o.orderdate < '1995-03-15';\n",
      "\n",
      "QUERY\n",
      "select * from cust_ord\n"
     ]
    }
   ],
   "source": [
    "with open('/home/amemory/Data/prdbsens/pipelines/tpch/pow/all/q/toy002_cust_ord.yaml','r') as f:\n",
    "    qcfg = yaml.load(f)\n",
    "    print \"CREATE\"\n",
    "    print(qcfg['create'])    \n",
    "    print \"QUERY\"\n",
    "    print(qcfg['query'])"
   ]
  },
  {
   "cell_type": "code",
   "execution_count": 117,
   "metadata": {
    "collapsed": false,
    "scrolled": false
   },
   "outputs": [
    {
     "name": "stdout",
     "output_type": "stream",
     "text": [
      "<class 'pandas.io.pytables.HDFStore'>\n",
      "File path: /home/amemory/Data/prdbsens/pipelines/tpch/pow/all/q/toy002_cust_ord/qres/cmp/toy002_cust_ord.h5\n",
      "/comparison            frame        (shape->[7,3])\n",
      "{'create': 'create trio table orders_o(\\norderkey int,\\ncustkey int,\\norderstatus varchar(1),\\ntotalprice float,\\norderdate varchar(40),\\norderpriority varchar(15),\\nshippriority int,\\nclerk varchar(15),\\ncomment varchar(79),\\nuncertain(\\ncustkey,\\norderstatus,\\ntotalprice,\\norderdate,\\norderpriority,\\nshippriority,\\nclerk,\\ncomment\\n))\\nwith confidences;\\n',\n",
      " 'insert': \"insert into orders_o values [(%d,%d,'%s',%f,'%s','%s',%d,'%s','%s'):%f];\",\n",
      " 'qcfg': {'create': \"create table cust_ord as\\nselect distinct\\norders_o.orderkey as orderkey,\\norders_o.orderdate as orderdate,\\norders_o.shippriority as shippriority,\\ncust_c.name as customer\\nfrom orders_o, cust_c\\nwhere cust_c.mktsegment = 'BUILDING'\\nand orders_o.custkey = cust_c.custkey\\nand orders_o.orderdate < '1995-03-15';\\n\",\n",
      "          'query': 'select * from cust_ord',\n",
      "          'relations': {'cust_c': {'create': 'create trio table cust_c(\\ncustkey int,\\nname varchar(25),\\nacctbal varchar(40),\\naddress varchar(40),\\nmktsegment varchar(10),\\nnationkey int,\\nphone varchar(15),\\ncomment varchar(117),\\nuncertain(\\nname,\\nacctbal,\\naddress,\\nmktsegment,\\nnationkey,\\nphone,\\ncomment))\\nwith confidences;\\n',\n",
      "                                   'insert': \"insert into cust_c values [(%d,'%s','%s','%s','%s',%d,'%s','%s'):%f];\"},\n",
      "                        'orders_o': {'create': 'create trio table orders_o(\\norderkey int,\\ncustkey int,\\norderstatus varchar(1),\\ntotalprice float,\\norderdate varchar(40),\\norderpriority varchar(15),\\nshippriority int,\\nclerk varchar(15),\\ncomment varchar(79),\\nuncertain(\\ncustkey,\\norderstatus,\\ntotalprice,\\norderdate,\\norderpriority,\\nshippriority,\\nclerk,\\ncomment\\n))\\nwith confidences;\\n',\n",
      "                                     'insert': \"insert into orders_o values [(%d,%d,'%s',%f,'%s','%s',%d,'%s','%s'):%f];\"}}}}\n"
     ]
    },
    {
     "data": {
      "text/html": [
       "<div style=\"max-height:1000px;max-width:1500px;overflow:auto;\">\n",
       "<table border=\"1\" class=\"dataframe\">\n",
       "  <thead>\n",
       "    <tr style=\"text-align: right;\">\n",
       "      <th></th>\n",
       "      <th></th>\n",
       "      <th>kendall</th>\n",
       "      <th>pearson</th>\n",
       "      <th>spearman</th>\n",
       "    </tr>\n",
       "    <tr>\n",
       "      <th>numerator</th>\n",
       "      <th>denominator</th>\n",
       "      <th></th>\n",
       "      <th></th>\n",
       "      <th></th>\n",
       "    </tr>\n",
       "  </thead>\n",
       "  <tbody>\n",
       "    <tr>\n",
       "      <th rowspan=\"4\" valign=\"top\">1 </th>\n",
       "      <th>50</th>\n",
       "      <td> 0.961735</td>\n",
       "      <td> 0.866805</td>\n",
       "      <td> 0.986259</td>\n",
       "    </tr>\n",
       "    <tr>\n",
       "      <th>20</th>\n",
       "      <td> 0.961735</td>\n",
       "      <td> 0.880692</td>\n",
       "      <td> 0.986259</td>\n",
       "    </tr>\n",
       "    <tr>\n",
       "      <th>2 </th>\n",
       "      <td> 0.979568</td>\n",
       "      <td> 0.985056</td>\n",
       "      <td> 0.995526</td>\n",
       "    </tr>\n",
       "    <tr>\n",
       "      <th>1 </th>\n",
       "      <td> 1.000000</td>\n",
       "      <td> 1.000000</td>\n",
       "      <td> 1.000000</td>\n",
       "    </tr>\n",
       "    <tr>\n",
       "      <th>2 </th>\n",
       "      <th>1 </th>\n",
       "      <td> 0.992562</td>\n",
       "      <td> 0.989682</td>\n",
       "      <td> 0.999467</td>\n",
       "    </tr>\n",
       "    <tr>\n",
       "      <th>20</th>\n",
       "      <th>1 </th>\n",
       "      <td> 0.873739</td>\n",
       "      <td> 0.966468</td>\n",
       "      <td> 0.951114</td>\n",
       "    </tr>\n",
       "    <tr>\n",
       "      <th>50</th>\n",
       "      <th>1 </th>\n",
       "      <td> 0.819436</td>\n",
       "      <td> 0.966468</td>\n",
       "      <td> 0.919057</td>\n",
       "    </tr>\n",
       "  </tbody>\n",
       "</table>\n",
       "</div>"
      ],
      "text/plain": [
       "                        kendall   pearson  spearman\n",
       "numerator denominator                              \n",
       "1         50           0.961735  0.866805  0.986259\n",
       "          20           0.961735  0.880692  0.986259\n",
       "          2            0.979568  0.985056  0.995526\n",
       "          1            1.000000  1.000000  1.000000\n",
       "2         1            0.992562  0.989682  0.999467\n",
       "20        1            0.873739  0.966468  0.951114\n",
       "50        1            0.819436  0.966468  0.919057"
      ]
     },
     "execution_count": 117,
     "metadata": {},
     "output_type": "execute_result"
    }
   ],
   "source": [
    "with pd.HDFStore('/home/amemory/Data/prdbsens/pipelines/tpch/pow/all/q/toy002_cust_ord/qres/cmp/toy002_cust_ord.h5','r') as sto:\n",
    "    print sto\n",
    "    k = sto.keys()[0]\n",
    "    #k = 'exp/m000200'\n",
    "    scr = sto[k]\n",
    "    pprint.pprint(sto.get_storer(k).attrs.info)\n",
    "scr"
   ]
  },
  {
   "cell_type": "code",
   "execution_count": 119,
   "metadata": {
    "collapsed": false
   },
   "outputs": [
    {
     "data": {
      "image/png": "[encoded data removed]",
      "text/plain": [
       "<matplotlib.figure.Figure at 0x7f1c57caa150>"
      ]
     },
     "metadata": {},
     "output_type": "display_data"
    }
   ],
   "source": [
    "plt.figure(figsize=(10,5))\n",
    "ax = plt.gca()\n",
    "scr.plot(ax = ax)\n",
    "plt.title('Differences in ordering of results of queries on an example probabilistic DB\\n query while transforming input confidences (conf^(num/denom)) of all relations')\n",
    "plt.xlabel('Exponent used in transformation (numerator, denominator)')\n",
    "plt.ylabel('Order comparison of transformed vs. non-transformed\\n(1.0 means identical ordering)')\n",
    "pass"
   ]
  },
  {
   "cell_type": "code",
   "execution_count": null,
   "metadata": {
    "collapsed": true
   },
   "outputs": [],
   "source": []
  },
  {
   "cell_type": "code",
   "execution_count": null,
   "metadata": {
    "collapsed": true
   },
   "outputs": [],
   "source": []
  },
  {
   "cell_type": "code",
   "execution_count": null,
   "metadata": {
    "collapsed": true
   },
   "outputs": [],
   "source": []
  },
  {
   "cell_type": "code",
   "execution_count": null,
   "metadata": {
    "collapsed": true
   },
   "outputs": [],
   "source": []
  },
  {
   "cell_type": "code",
   "execution_count": null,
   "metadata": {
    "collapsed": true
   },
   "outputs": [],
   "source": []
  },
  {
   "cell_type": "code",
   "execution_count": null,
   "metadata": {
    "collapsed": true
   },
   "outputs": [],
   "source": []
  },
  {
   "cell_type": "code",
   "execution_count": null,
   "metadata": {
    "collapsed": true
   },
   "outputs": [],
   "source": []
  },
  {
   "cell_type": "code",
   "execution_count": null,
   "metadata": {
    "collapsed": true
   },
   "outputs": [],
   "source": []
  },
  {
   "cell_type": "code",
   "execution_count": null,
   "metadata": {
    "collapsed": true
   },
   "outputs": [],
   "source": []
  },
  {
   "cell_type": "code",
   "execution_count": null,
   "metadata": {
    "collapsed": true
   },
   "outputs": [],
   "source": []
  }
 ],
 "metadata": {
  "kernelspec": {
   "display_name": "Python 2",
   "language": "python",
   "name": "python2"
  },
  "language_info": {
   "codemirror_mode": {
    "name": "ipython",
    "version": 2
   },
   "file_extension": ".py",
   "mimetype": "text/x-python",
   "name": "python",
   "nbconvert_exporter": "python",
   "pygments_lexer": "ipython2",
   "version": "2.7.9"
  }
 },
 "nbformat": 4,
 "nbformat_minor": 0
}
